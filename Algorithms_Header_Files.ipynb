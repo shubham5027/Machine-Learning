{
  "nbformat": 4,
  "nbformat_minor": 0,
  "metadata": {
    "colab": {
      "provenance": []
    },
    "kernelspec": {
      "name": "python3",
      "display_name": "Python 3"
    },
    "language_info": {
      "name": "python"
    }
  },
  "cells": [
    {
      "cell_type": "markdown",
      "source": [
        " Algorithms\n"
      ],
      "metadata": {
        "id": "VySyqewk1vws"
      }
    },
    {
      "cell_type": "code",
      "source": [
        "# Regression Algorithms\n",
        "from sklearn.linear_model import LinearRegression\n",
        "from sklearn.linear_model import Ridge\n",
        "from sklearn.linear_model import Lasso\n",
        "from sklearn.linear_model import ElasticNet\n",
        "from sklearn.svm import SVR\n",
        "from sklearn.tree import DecisionTreeRegressor\n",
        "from sklearn.ensemble import RandomForestRegressor\n",
        "import xgboost as xgb\n",
        "from xgboost import XGBRegressor\n",
        "import lightgbm as lgb\n",
        "from lightgbm import LGBMRegressor\n",
        "import tensorflow as tf\n",
        "\n",
        "# Classification Algorithms :\n",
        "from sklearn.linear_model import LogisticRegression\n",
        "from sklearn.tree import DecisionTreeClassifier\n",
        "from sklearn.ensemble import RandomForestClassifier\n",
        "import xgboost as xgb\n",
        "import lightgbm as lgb\n",
        "from sklearn.svm import SVC\n",
        "from sklearn.neighbors import KNeighborsClassifier\n",
        "from sklearn.naive_bayes import GaussianNB\n",
        "\n",
        "# Clustering Algorithms\n",
        "from sklearn.cluster import KMeans\n",
        "from scipy.cluster.hierarchy import linkage, dendrogram\n",
        "from sklearn.cluster import DBSCAN\n",
        "from sklearn.mixture import GaussianMixture\n",
        "import minisom\n",
        "\n",
        "# Dimensiontionlity Reduction\n",
        "from sklearn.decomposition import PCA\n",
        "from sklearn.manifold import TSNE\n",
        "from sklearn.discriminant_analysis import LinearDiscriminantAnalysis\n",
        "\n",
        "# Association Learning\n",
        "from mlxtend.frequent_patterns import apriori\n",
        "from mlxtend.frequent_patterns import association_rules\n",
        "from mlxtend.frequent_patterns import eclat\n",
        "\n",
        "\n",
        "\n",
        "\n",
        "# Reinforcement Learning:\n",
        "\n",
        "# Deep Q-Networks (DQN)\n",
        "import tensorflow as tf\n",
        "from tensorflow.keras.models import Sequential\n",
        "from tensorflow.keras.layers import Dense\n",
        "\n",
        "# Proximal Policy Optimization (PPO)\n",
        "import tensorflow as tf\n",
        "from stable_baselines3 import PPO\n",
        "\n",
        "# Actor-Critic Methods\n",
        "import tensorflow as tf\n",
        "from stable_baselines3 import A2C\n",
        "\n",
        "Anomaly Detection Algorithms:\n",
        "\n",
        "from sklearn.ensemble import IsolationForest\n",
        "from sklearn.svm import OneClassSVM\n",
        "\n",
        "\n",
        "# Recommender Systems:\n",
        "\n",
        "Collaborative Filtering\n",
        "from surprise import Dataset, Reader\n",
        "from surprise.model_selection import train_test_split\n",
        "from surprise import KNNBasic\n",
        "\n",
        "# Content-Based Filtering\n",
        "Import necessary libraries/modules for content-based filtering\n",
        "\n",
        "# Time Series Forecasting:\n",
        "\n",
        "ARIMA (AutoRegressive Integrated Moving Average)\n",
        "from statsmodels.tsa.arima_model import ARIMA\n",
        "\n",
        "# LSTM-based Models (using TensorFlow)\n",
        "import numpy as np\n",
        "import pandas as pd\n",
        "import tensorflow as tf\n",
        "from tensorflow.keras.models import Sequential\n",
        "from tensorflow.keras.layers import LSTM, Dense\n",
        "\n",
        "\n"
      ],
      "metadata": {
        "id": "PhvOzdjU4gVV"
      },
      "execution_count": null,
      "outputs": []
    }
  ]
}