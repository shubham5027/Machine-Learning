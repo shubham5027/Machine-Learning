{
  "nbformat": 4,
  "nbformat_minor": 0,
  "metadata": {
    "colab": {
      "provenance": [],
      "toc_visible": true
    },
    "kernelspec": {
      "name": "python3",
      "display_name": "Python 3"
    },
    "language_info": {
      "name": "python"
    }
  },
  "cells": [
    {
      "cell_type": "markdown",
      "source": [
        "Supervised Learning Algorithms:\n"
      ],
      "metadata": {
        "id": "VySyqewk1vws"
      }
    },
    {
      "cell_type": "code",
      "source": [
        "# Supervised Learning Algorithms:\n",
        "\n",
        "# Regression:\n",
        "# Linear Regression\n",
        "# Ridge Regression\n",
        "# Lasso Regression\n",
        "# Elastic Net Regression\n",
        "# Support Vector Regression\n",
        "# Decision Tree Regression\n",
        "# Random Forest Regression\n",
        "# Gradient Boosting Regression (e.g., XGBoost, LightGBM)\n",
        "# Neural Network Regression\n",
        "\n",
        "# Classification:\n",
        "# Logistic Regression\n",
        "# Decision Tree Classifier\n",
        "# Random Forest Classifier\n",
        "# Gradient Boosting Classifier (e.g., XGBoost, LightGBM)\n",
        "# Support Vector Machine (SVM)\n",
        "# k-Nearest Neighbors (k-NN)\n",
        "# Naive Bayes Classifier\n",
        "# Neural Network Classifier"
      ],
      "metadata": {
        "id": "m5jpEWgv1E-b"
      },
      "execution_count": null,
      "outputs": []
    },
    {
      "cell_type": "markdown",
      "source": [
        "Unsupervised Learning Algorithms:\n",
        "\n",
        "\n",
        "\n",
        "\n",
        "\n",
        "\n",
        "\n"
      ],
      "metadata": {
        "id": "O37SqODe1uHt"
      }
    },
    {
      "cell_type": "code",
      "source": [
        "# Unsupervised Learning Algorithms:\n",
        "\n",
        "# # Clustering:\n",
        "# # k-Means Clustering\n",
        "# # Hierarchical Clustering\n",
        "# # DBSCAN (Density-Based Spatial Clustering of Applications with Noise)\n",
        "# # Gaussian Mixture Model (GMM)\n",
        "# # Self-Organizing Maps (SOM)\n",
        "\n",
        "# # Dimensionality Reduction:\n",
        "# # Principal Component Analysis (PCA)\n",
        "# # t-Distributed Stochastic Neighbor Embedding (t-SNE)\n",
        "# # Linear Discriminant Analysis (LDA)\n",
        "# # Autoencoders\n",
        "\n",
        "# # Association Rule Learning:\n",
        "# # Apriori Algorithm\n",
        "# # Eclat Algorithm\n"
      ],
      "metadata": {
        "id": "itnMpwJ23P4A"
      },
      "execution_count": null,
      "outputs": []
    },
    {
      "cell_type": "markdown",
      "source": [
        "Semi-Supervised Learning Strategies :"
      ],
      "metadata": {
        "id": "JKOVnFhn3Us3"
      }
    },
    {
      "cell_type": "code",
      "source": [
        "# Self-Training\n",
        "# Multi-View Learning\n",
        "# Co-Training"
      ],
      "metadata": {
        "id": "13KkaKIU3VPq"
      },
      "execution_count": null,
      "outputs": []
    },
    {
      "cell_type": "markdown",
      "source": [
        "Reinforcement Learning Algorithms:"
      ],
      "metadata": {
        "id": "Q_NVHeuF3iZi"
      }
    },
    {
      "cell_type": "code",
      "source": [
        "# Q-Learning\n",
        "# Deep Q-Networks (DQN)\n",
        "# Proximal Policy Optimization (PPO)\n",
        "# Actor-Critic Methods\n",
        "# Monte Carlo Tree Search (MCTS)"
      ],
      "metadata": {
        "id": "AympUdeo3lEa"
      },
      "execution_count": 2,
      "outputs": []
    },
    {
      "cell_type": "markdown",
      "source": [
        "Deep Learning Architectures:"
      ],
      "metadata": {
        "id": "hgvCq9QV3nkn"
      }
    },
    {
      "cell_type": "code",
      "source": [
        "# Convolutional Neural Networks (CNN)\n",
        "# Recurrent Neural Networks (RNN)\n",
        "# Long Short-Term Memory (LSTM)\n",
        "# Gated Recurrent Units (GRU)\n",
        "# Transforme"
      ],
      "metadata": {
        "id": "yUx5fVxu3plh"
      },
      "execution_count": null,
      "outputs": []
    },
    {
      "cell_type": "markdown",
      "source": [
        "\n",
        "Ensemble Methods:"
      ],
      "metadata": {
        "id": "urCWZ4r53rno"
      }
    },
    {
      "cell_type": "code",
      "source": [
        "# Bagging (Bootstrap Aggregating)\n",
        "# Boosting (AdaBoost, Gradient Boosting, XGBoost, LightGBM)\n",
        "# Stacking"
      ],
      "metadata": {
        "id": "2Agwit6R3v8K"
      },
      "execution_count": null,
      "outputs": []
    },
    {
      "cell_type": "markdown",
      "source": [
        "Other Algorithms:"
      ],
      "metadata": {
        "id": "Fq5dB76c3yMZ"
      }
    },
    {
      "cell_type": "code",
      "source": [
        "# Anomaly Detection Algorithms (Isolation Forest, One-Class SVM)\n",
        "# Recommender Systems (Collaborative Filtering, Content-Based Filtering)\n",
        "# Time Series Forecasting (ARIMA, LSTM-based models)"
      ],
      "metadata": {
        "id": "kyl0nV2u3bJj"
      },
      "execution_count": null,
      "outputs": []
    }
  ]
}