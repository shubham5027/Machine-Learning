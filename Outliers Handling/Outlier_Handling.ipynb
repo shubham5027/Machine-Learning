{
  "nbformat": 4,
  "nbformat_minor": 0,
  "metadata": {
    "colab": {
      "provenance": []
    },
    "kernelspec": {
      "name": "python3",
      "display_name": "Python 3"
    },
    "language_info": {
      "name": "python"
    }
  },
  "cells": [
    {
      "cell_type": "code",
      "execution_count": 7,
      "metadata": {
        "id": "1WsmyY1JQwi-",
        "colab": {
          "base_uri": "https://localhost:8080/",
          "height": 423
        },
        "outputId": "3b78139b-5b25-41e1-f175-ca4b4b5e09b4"
      },
      "outputs": [
        {
          "output_type": "execute_result",
          "data": {
            "text/plain": [
              "     cgpa  placement_exam_marks  placed\n",
              "0    7.19                  26.0       1\n",
              "1    7.46                  38.0       1\n",
              "2    7.54                  40.0       1\n",
              "3    6.42                   8.0       1\n",
              "4    7.23                  17.0       0\n",
              "..    ...                   ...     ...\n",
              "995  8.87                  44.0       1\n",
              "996  9.12                  65.0       1\n",
              "997  4.89                  34.0       0\n",
              "998  8.62                  46.0       1\n",
              "999  4.90                  10.0       1\n",
              "\n",
              "[1000 rows x 3 columns]"
            ],
            "text/html": [
              "\n",
              "  <div id=\"df-53812429-2e46-4caa-89fe-f81bfa1bd3f3\" class=\"colab-df-container\">\n",
              "    <div>\n",
              "<style scoped>\n",
              "    .dataframe tbody tr th:only-of-type {\n",
              "        vertical-align: middle;\n",
              "    }\n",
              "\n",
              "    .dataframe tbody tr th {\n",
              "        vertical-align: top;\n",
              "    }\n",
              "\n",
              "    .dataframe thead th {\n",
              "        text-align: right;\n",
              "    }\n",
              "</style>\n",
              "<table border=\"1\" class=\"dataframe\">\n",
              "  <thead>\n",
              "    <tr style=\"text-align: right;\">\n",
              "      <th></th>\n",
              "      <th>cgpa</th>\n",
              "      <th>placement_exam_marks</th>\n",
              "      <th>placed</th>\n",
              "    </tr>\n",
              "  </thead>\n",
              "  <tbody>\n",
              "    <tr>\n",
              "      <th>0</th>\n",
              "      <td>7.19</td>\n",
              "      <td>26.0</td>\n",
              "      <td>1</td>\n",
              "    </tr>\n",
              "    <tr>\n",
              "      <th>1</th>\n",
              "      <td>7.46</td>\n",
              "      <td>38.0</td>\n",
              "      <td>1</td>\n",
              "    </tr>\n",
              "    <tr>\n",
              "      <th>2</th>\n",
              "      <td>7.54</td>\n",
              "      <td>40.0</td>\n",
              "      <td>1</td>\n",
              "    </tr>\n",
              "    <tr>\n",
              "      <th>3</th>\n",
              "      <td>6.42</td>\n",
              "      <td>8.0</td>\n",
              "      <td>1</td>\n",
              "    </tr>\n",
              "    <tr>\n",
              "      <th>4</th>\n",
              "      <td>7.23</td>\n",
              "      <td>17.0</td>\n",
              "      <td>0</td>\n",
              "    </tr>\n",
              "    <tr>\n",
              "      <th>...</th>\n",
              "      <td>...</td>\n",
              "      <td>...</td>\n",
              "      <td>...</td>\n",
              "    </tr>\n",
              "    <tr>\n",
              "      <th>995</th>\n",
              "      <td>8.87</td>\n",
              "      <td>44.0</td>\n",
              "      <td>1</td>\n",
              "    </tr>\n",
              "    <tr>\n",
              "      <th>996</th>\n",
              "      <td>9.12</td>\n",
              "      <td>65.0</td>\n",
              "      <td>1</td>\n",
              "    </tr>\n",
              "    <tr>\n",
              "      <th>997</th>\n",
              "      <td>4.89</td>\n",
              "      <td>34.0</td>\n",
              "      <td>0</td>\n",
              "    </tr>\n",
              "    <tr>\n",
              "      <th>998</th>\n",
              "      <td>8.62</td>\n",
              "      <td>46.0</td>\n",
              "      <td>1</td>\n",
              "    </tr>\n",
              "    <tr>\n",
              "      <th>999</th>\n",
              "      <td>4.90</td>\n",
              "      <td>10.0</td>\n",
              "      <td>1</td>\n",
              "    </tr>\n",
              "  </tbody>\n",
              "</table>\n",
              "<p>1000 rows × 3 columns</p>\n",
              "</div>\n",
              "    <div class=\"colab-df-buttons\">\n",
              "\n",
              "  <div class=\"colab-df-container\">\n",
              "    <button class=\"colab-df-convert\" onclick=\"convertToInteractive('df-53812429-2e46-4caa-89fe-f81bfa1bd3f3')\"\n",
              "            title=\"Convert this dataframe to an interactive table.\"\n",
              "            style=\"display:none;\">\n",
              "\n",
              "  <svg xmlns=\"http://www.w3.org/2000/svg\" height=\"24px\" viewBox=\"0 -960 960 960\">\n",
              "    <path d=\"M120-120v-720h720v720H120Zm60-500h600v-160H180v160Zm220 220h160v-160H400v160Zm0 220h160v-160H400v160ZM180-400h160v-160H180v160Zm440 0h160v-160H620v160ZM180-180h160v-160H180v160Zm440 0h160v-160H620v160Z\"/>\n",
              "  </svg>\n",
              "    </button>\n",
              "\n",
              "  <style>\n",
              "    .colab-df-container {\n",
              "      display:flex;\n",
              "      gap: 12px;\n",
              "    }\n",
              "\n",
              "    .colab-df-convert {\n",
              "      background-color: #E8F0FE;\n",
              "      border: none;\n",
              "      border-radius: 50%;\n",
              "      cursor: pointer;\n",
              "      display: none;\n",
              "      fill: #1967D2;\n",
              "      height: 32px;\n",
              "      padding: 0 0 0 0;\n",
              "      width: 32px;\n",
              "    }\n",
              "\n",
              "    .colab-df-convert:hover {\n",
              "      background-color: #E2EBFA;\n",
              "      box-shadow: 0px 1px 2px rgba(60, 64, 67, 0.3), 0px 1px 3px 1px rgba(60, 64, 67, 0.15);\n",
              "      fill: #174EA6;\n",
              "    }\n",
              "\n",
              "    .colab-df-buttons div {\n",
              "      margin-bottom: 4px;\n",
              "    }\n",
              "\n",
              "    [theme=dark] .colab-df-convert {\n",
              "      background-color: #3B4455;\n",
              "      fill: #D2E3FC;\n",
              "    }\n",
              "\n",
              "    [theme=dark] .colab-df-convert:hover {\n",
              "      background-color: #434B5C;\n",
              "      box-shadow: 0px 1px 3px 1px rgba(0, 0, 0, 0.15);\n",
              "      filter: drop-shadow(0px 1px 2px rgba(0, 0, 0, 0.3));\n",
              "      fill: #FFFFFF;\n",
              "    }\n",
              "  </style>\n",
              "\n",
              "    <script>\n",
              "      const buttonEl =\n",
              "        document.querySelector('#df-53812429-2e46-4caa-89fe-f81bfa1bd3f3 button.colab-df-convert');\n",
              "      buttonEl.style.display =\n",
              "        google.colab.kernel.accessAllowed ? 'block' : 'none';\n",
              "\n",
              "      async function convertToInteractive(key) {\n",
              "        const element = document.querySelector('#df-53812429-2e46-4caa-89fe-f81bfa1bd3f3');\n",
              "        const dataTable =\n",
              "          await google.colab.kernel.invokeFunction('convertToInteractive',\n",
              "                                                    [key], {});\n",
              "        if (!dataTable) return;\n",
              "\n",
              "        const docLinkHtml = 'Like what you see? Visit the ' +\n",
              "          '<a target=\"_blank\" href=https://colab.research.google.com/notebooks/data_table.ipynb>data table notebook</a>'\n",
              "          + ' to learn more about interactive tables.';\n",
              "        element.innerHTML = '';\n",
              "        dataTable['output_type'] = 'display_data';\n",
              "        await google.colab.output.renderOutput(dataTable, element);\n",
              "        const docLink = document.createElement('div');\n",
              "        docLink.innerHTML = docLinkHtml;\n",
              "        element.appendChild(docLink);\n",
              "      }\n",
              "    </script>\n",
              "  </div>\n",
              "\n",
              "\n",
              "<div id=\"df-42e1d63f-d915-49c1-95a1-e3ad07100b6b\">\n",
              "  <button class=\"colab-df-quickchart\" onclick=\"quickchart('df-42e1d63f-d915-49c1-95a1-e3ad07100b6b')\"\n",
              "            title=\"Suggest charts.\"\n",
              "            style=\"display:none;\">\n",
              "\n",
              "<svg xmlns=\"http://www.w3.org/2000/svg\" height=\"24px\"viewBox=\"0 0 24 24\"\n",
              "     width=\"24px\">\n",
              "    <g>\n",
              "        <path d=\"M19 3H5c-1.1 0-2 .9-2 2v14c0 1.1.9 2 2 2h14c1.1 0 2-.9 2-2V5c0-1.1-.9-2-2-2zM9 17H7v-7h2v7zm4 0h-2V7h2v10zm4 0h-2v-4h2v4z\"/>\n",
              "    </g>\n",
              "</svg>\n",
              "  </button>\n",
              "\n",
              "<style>\n",
              "  .colab-df-quickchart {\n",
              "      --bg-color: #E8F0FE;\n",
              "      --fill-color: #1967D2;\n",
              "      --hover-bg-color: #E2EBFA;\n",
              "      --hover-fill-color: #174EA6;\n",
              "      --disabled-fill-color: #AAA;\n",
              "      --disabled-bg-color: #DDD;\n",
              "  }\n",
              "\n",
              "  [theme=dark] .colab-df-quickchart {\n",
              "      --bg-color: #3B4455;\n",
              "      --fill-color: #D2E3FC;\n",
              "      --hover-bg-color: #434B5C;\n",
              "      --hover-fill-color: #FFFFFF;\n",
              "      --disabled-bg-color: #3B4455;\n",
              "      --disabled-fill-color: #666;\n",
              "  }\n",
              "\n",
              "  .colab-df-quickchart {\n",
              "    background-color: var(--bg-color);\n",
              "    border: none;\n",
              "    border-radius: 50%;\n",
              "    cursor: pointer;\n",
              "    display: none;\n",
              "    fill: var(--fill-color);\n",
              "    height: 32px;\n",
              "    padding: 0;\n",
              "    width: 32px;\n",
              "  }\n",
              "\n",
              "  .colab-df-quickchart:hover {\n",
              "    background-color: var(--hover-bg-color);\n",
              "    box-shadow: 0 1px 2px rgba(60, 64, 67, 0.3), 0 1px 3px 1px rgba(60, 64, 67, 0.15);\n",
              "    fill: var(--button-hover-fill-color);\n",
              "  }\n",
              "\n",
              "  .colab-df-quickchart-complete:disabled,\n",
              "  .colab-df-quickchart-complete:disabled:hover {\n",
              "    background-color: var(--disabled-bg-color);\n",
              "    fill: var(--disabled-fill-color);\n",
              "    box-shadow: none;\n",
              "  }\n",
              "\n",
              "  .colab-df-spinner {\n",
              "    border: 2px solid var(--fill-color);\n",
              "    border-color: transparent;\n",
              "    border-bottom-color: var(--fill-color);\n",
              "    animation:\n",
              "      spin 1s steps(1) infinite;\n",
              "  }\n",
              "\n",
              "  @keyframes spin {\n",
              "    0% {\n",
              "      border-color: transparent;\n",
              "      border-bottom-color: var(--fill-color);\n",
              "      border-left-color: var(--fill-color);\n",
              "    }\n",
              "    20% {\n",
              "      border-color: transparent;\n",
              "      border-left-color: var(--fill-color);\n",
              "      border-top-color: var(--fill-color);\n",
              "    }\n",
              "    30% {\n",
              "      border-color: transparent;\n",
              "      border-left-color: var(--fill-color);\n",
              "      border-top-color: var(--fill-color);\n",
              "      border-right-color: var(--fill-color);\n",
              "    }\n",
              "    40% {\n",
              "      border-color: transparent;\n",
              "      border-right-color: var(--fill-color);\n",
              "      border-top-color: var(--fill-color);\n",
              "    }\n",
              "    60% {\n",
              "      border-color: transparent;\n",
              "      border-right-color: var(--fill-color);\n",
              "    }\n",
              "    80% {\n",
              "      border-color: transparent;\n",
              "      border-right-color: var(--fill-color);\n",
              "      border-bottom-color: var(--fill-color);\n",
              "    }\n",
              "    90% {\n",
              "      border-color: transparent;\n",
              "      border-bottom-color: var(--fill-color);\n",
              "    }\n",
              "  }\n",
              "</style>\n",
              "\n",
              "  <script>\n",
              "    async function quickchart(key) {\n",
              "      const quickchartButtonEl =\n",
              "        document.querySelector('#' + key + ' button');\n",
              "      quickchartButtonEl.disabled = true;  // To prevent multiple clicks.\n",
              "      quickchartButtonEl.classList.add('colab-df-spinner');\n",
              "      try {\n",
              "        const charts = await google.colab.kernel.invokeFunction(\n",
              "            'suggestCharts', [key], {});\n",
              "      } catch (error) {\n",
              "        console.error('Error during call to suggestCharts:', error);\n",
              "      }\n",
              "      quickchartButtonEl.classList.remove('colab-df-spinner');\n",
              "      quickchartButtonEl.classList.add('colab-df-quickchart-complete');\n",
              "    }\n",
              "    (() => {\n",
              "      let quickchartButtonEl =\n",
              "        document.querySelector('#df-42e1d63f-d915-49c1-95a1-e3ad07100b6b button');\n",
              "      quickchartButtonEl.style.display =\n",
              "        google.colab.kernel.accessAllowed ? 'block' : 'none';\n",
              "    })();\n",
              "  </script>\n",
              "</div>\n",
              "    </div>\n",
              "  </div>\n"
            ]
          },
          "metadata": {},
          "execution_count": 7
        }
      ],
      "source": [
        "import numpy as np\n",
        "import pandas as pd\n",
        "from sklearn.model_selection import train_test_split\n",
        "import plotly.express as px\n",
        "import seaborn as sns\n",
        "\n",
        "df=pd.read_csv('placement.csv')\n",
        "df"
      ]
    },
    {
      "cell_type": "code",
      "source": [
        "\n",
        "px.box(df,x=\"placement_exam_marks\")"
      ],
      "metadata": {
        "colab": {
          "base_uri": "https://localhost:8080/",
          "height": 542
        },
        "id": "xU2yOA2AVxe0",
        "outputId": "bdf304a6-c744-4140-b48c-e663069e8653"
      },
      "execution_count": 12,
      "outputs": [
        {
          "output_type": "display_data",
          "data": {
            "text/html": [
              "<html>\n",
              "<head><meta charset=\"utf-8\" /></head>\n",
              "<body>\n",
              "    <div>            <script src=\"https://cdnjs.cloudflare.com/ajax/libs/mathjax/2.7.5/MathJax.js?config=TeX-AMS-MML_SVG\"></script><script type=\"text/javascript\">if (window.MathJax && window.MathJax.Hub && window.MathJax.Hub.Config) {window.MathJax.Hub.Config({SVG: {font: \"STIX-Web\"}});}</script>                <script type=\"text/javascript\">window.PlotlyConfig = {MathJaxConfig: 'local'};</script>\n",
              "        <script charset=\"utf-8\" src=\"https://cdn.plot.ly/plotly-2.24.1.min.js\"></script>                <div id=\"daa05b06-e587-40c1-be46-778e077f83bc\" class=\"plotly-graph-div\" style=\"height:525px; width:100%;\"></div>            <script type=\"text/javascript\">                                    window.PLOTLYENV=window.PLOTLYENV || {};                                    if (document.getElementById(\"daa05b06-e587-40c1-be46-778e077f83bc\")) {                    Plotly.newPlot(                        \"daa05b06-e587-40c1-be46-778e077f83bc\",                        [{\"alignmentgroup\":\"True\",\"hovertemplate\":\"placement_exam_marks=%{x}\\u003cextra\\u003e\\u003c\\u002fextra\\u003e\",\"legendgroup\":\"\",\"marker\":{\"color\":\"#636efa\"},\"name\":\"\",\"notched\":false,\"offsetgroup\":\"\",\"orientation\":\"h\",\"showlegend\":false,\"x\":[26.0,38.0,40.0,8.0,17.0,23.0,11.0,39.0,38.0,94.0,16.0,7.0,16.0,26.0,43.0,21.0,19.0,22.0,27.0,29.0,47.0,33.0,54.0,11.0,11.0,58.0,8.0,46.0,19.0,15.0,16.0,44.0,11.0,27.0,9.0,12.0,16.0,9.0,20.0,17.0,86.0,38.0,71.0,63.0,55.0,10.0,15.0,46.0,42.0,28.0,18.0,28.0,27.0,33.0,36.0,15.0,15.0,24.0,43.0,32.0,31.0,86.0,22.0,26.0,52.0,28.0,31.0,18.0,30.0,44.0,17.0,20.0,19.0,12.0,3.0,56.0,12.0,28.0,12.0,19.0,46.0,44.0,12.0,20.0,35.0,28.0,22.0,19.0,39.0,17.0,15.0,6.0,63.0,30.0,21.0,35.0,28.0,52.0,76.0,23.0,46.0,26.0,22.0,18.0,47.0,12.0,22.0,9.0,10.0,21.0,31.0,33.0,15.0,10.0,77.0,37.0,21.0,0.0,54.0,39.0,46.0,27.0,51.0,52.0,30.0,55.0,37.0,23.0,25.0,39.0,53.0,19.0,18.0,64.0,93.0,47.0,15.0,53.0,8.0,5.0,22.0,18.0,41.0,33.0,17.0,28.0,22.0,11.0,49.0,58.0,22.0,16.0,56.0,10.0,54.0,12.0,34.0,81.0,50.0,22.0,10.0,52.0,90.0,42.0,34.0,7.0,59.0,48.0,37.0,16.0,37.0,38.0,43.0,48.0,21.0,26.0,30.0,40.0,39.0,45.0,29.0,42.0,76.0,18.0,33.0,31.0,63.0,10.0,55.0,9.0,23.0,8.0,38.0,14.0,33.0,44.0,34.0,27.0,44.0,25.0,22.0,15.0,48.0,52.0,5.0,47.0,25.0,16.0,12.0,35.0,19.0,14.0,57.0,19.0,60.0,22.0,36.0,16.0,52.0,3.0,16.0,24.0,78.0,11.0,19.0,13.0,21.0,19.0,15.0,13.0,14.0,35.0,34.0,41.0,36.0,52.0,36.0,52.0,78.0,16.0,38.0,18.0,44.0,55.0,44.0,62.0,26.0,49.0,44.0,52.0,13.0,45.0,54.0,76.0,64.0,10.0,48.0,76.0,6.0,10.0,57.0,11.0,10.0,50.0,28.0,57.0,50.0,65.0,21.0,16.0,16.0,21.0,56.0,9.0,4.0,39.0,46.0,15.0,17.0,40.0,55.0,22.0,44.0,87.0,62.0,57.0,58.0,24.0,21.0,9.0,87.0,14.0,41.0,11.0,17.0,64.0,19.0,32.0,48.0,15.0,52.0,5.0,34.0,56.0,33.0,32.0,19.0,28.0,47.0,31.0,50.0,87.0,55.0,18.0,14.0,37.0,38.0,19.0,60.0,13.0,51.0,47.0,38.0,38.0,90.0,13.0,13.0,56.0,28.0,35.0,16.0,22.0,39.0,20.0,19.0,17.0,9.0,68.0,46.0,18.0,51.0,8.0,23.0,70.0,26.0,13.0,33.0,34.0,17.0,16.0,70.0,10.0,4.0,28.0,23.0,18.0,50.0,42.0,52.0,40.0,33.0,37.0,21.0,13.0,9.0,25.0,42.0,30.0,32.0,36.0,79.0,29.0,8.0,41.0,41.0,31.0,60.0,47.0,25.0,65.0,31.0,53.0,61.0,4.0,33.0,21.0,43.0,7.0,23.0,16.0,16.0,66.0,35.0,18.0,18.0,11.0,10.0,63.0,48.0,43.0,33.0,22.0,34.0,83.0,35.0,32.0,17.0,20.0,24.0,24.0,37.0,66.0,45.0,28.0,36.0,46.0,55.0,19.0,29.0,46.0,49.0,46.0,19.0,26.0,30.0,15.0,21.0,39.0,46.0,55.0,19.0,21.0,26.0,11.0,5.0,37.0,19.0,22.0,7.0,10.0,22.0,15.0,48.0,77.0,14.0,10.0,23.0,17.0,31.0,37.0,31.0,31.0,42.0,24.0,53.0,43.0,12.0,20.0,47.0,79.0,4.0,12.0,9.0,49.0,37.0,49.0,16.0,7.0,70.0,46.0,28.0,18.0,38.0,25.0,25.0,10.0,34.0,18.0,36.0,33.0,37.0,32.0,8.0,25.0,18.0,44.0,65.0,13.0,43.0,50.0,32.0,49.0,21.0,18.0,51.0,64.0,35.0,37.0,14.0,31.0,24.0,31.0,50.0,10.0,25.0,18.0,8.0,75.0,14.0,48.0,34.0,50.0,9.0,46.0,15.0,44.0,28.0,38.0,22.0,8.0,20.0,37.0,63.0,19.0,21.0,17.0,34.0,37.0,38.0,34.0,18.0,81.0,20.0,15.0,45.0,62.0,48.0,9.0,27.0,14.0,63.0,18.0,22.0,16.0,14.0,17.0,18.0,39.0,30.0,79.0,38.0,66.0,24.0,17.0,9.0,32.0,15.0,25.0,14.0,58.0,67.0,58.0,23.0,14.0,34.0,54.0,25.0,36.0,4.0,30.0,18.0,66.0,37.0,54.0,33.0,16.0,8.0,24.0,47.0,13.0,63.0,25.0,27.0,68.0,60.0,49.0,15.0,14.0,25.0,16.0,22.0,35.0,27.0,62.0,64.0,7.0,25.0,32.0,27.0,55.0,38.0,17.0,32.0,54.0,40.0,42.0,24.0,49.0,16.0,4.0,61.0,19.0,60.0,55.0,41.0,12.0,33.0,22.0,22.0,43.0,18.0,28.0,19.0,14.0,80.0,30.0,19.0,30.0,9.0,11.0,96.0,16.0,13.0,39.0,39.0,10.0,43.0,74.0,74.0,43.0,61.0,22.0,39.0,28.0,29.0,36.0,45.0,4.0,24.0,65.0,27.0,39.0,43.0,48.0,76.0,34.0,72.0,23.0,9.0,37.0,26.0,47.0,15.0,31.0,34.0,10.0,27.0,54.0,47.0,8.0,17.0,31.0,13.0,20.0,31.0,20.0,21.0,24.0,34.0,35.0,15.0,10.0,17.0,69.0,67.0,87.0,62.0,23.0,36.0,67.0,26.0,14.0,43.0,42.0,51.0,11.0,20.0,49.0,16.0,20.0,16.0,2.0,39.0,41.0,45.0,35.0,13.0,11.0,50.0,42.0,6.0,30.0,8.0,24.0,19.0,17.0,19.0,21.0,36.0,26.0,43.0,11.0,29.0,10.0,21.0,10.0,25.0,30.0,23.0,58.0,90.0,5.0,55.0,10.0,50.0,39.0,24.0,12.0,17.0,39.0,74.0,66.0,29.0,15.0,58.0,13.0,25.0,18.0,9.0,61.0,8.0,20.0,35.0,42.0,17.0,26.0,30.0,15.0,29.0,22.0,48.0,6.0,14.0,59.0,70.0,28.0,34.0,31.0,63.0,18.0,67.0,86.0,26.0,79.0,69.0,24.0,30.0,23.0,34.0,32.0,31.0,49.0,41.0,24.0,19.0,29.0,10.0,9.0,19.0,74.0,47.0,12.0,32.0,9.0,17.0,9.0,60.0,20.0,56.0,53.0,28.0,14.0,16.0,20.0,81.0,13.0,15.0,19.0,31.0,22.0,21.0,14.0,23.0,52.0,17.0,43.0,23.0,26.0,62.0,10.0,16.0,9.0,32.0,18.0,27.0,23.0,32.0,21.0,63.0,37.0,28.0,55.0,59.0,23.0,52.0,65.0,33.0,24.0,32.0,24.0,22.0,27.0,14.0,60.0,18.0,36.0,97.0,54.0,27.0,8.0,37.0,17.0,43.0,22.0,68.0,9.0,6.0,64.0,26.0,22.0,21.0,28.0,37.0,2.0,5.0,16.0,35.0,26.0,36.0,58.0,15.0,60.0,54.0,42.0,24.0,16.0,20.0,9.0,34.0,31.0,13.0,42.0,35.0,6.0,4.0,16.0,17.0,17.0,23.0,38.0,30.0,26.0,18.0,32.0,16.0,35.0,38.0,35.0,18.0,8.0,19.0,50.0,42.0,28.0,32.0,29.0,34.0,44.0,17.0,11.0,29.0,36.0,38.0,7.0,25.0,34.0,11.0,100.0,9.0,21.0,52.0,38.0,23.0,10.0,23.0,56.0,14.0,52.0,32.0,25.0,7.0,33.0,71.0,9.0,9.0,37.0,20.0,34.0,24.0,41.0,38.0,8.0,6.0,2.0,21.0,26.0,12.0,70.0,15.0,11.0,33.0,48.0,25.0,44.0,39.0,26.0,21.0,27.0,11.0,27.0,10.0,9.0,46.0,8.0,54.0,52.0,72.0,59.0,26.0,41.0,42.0,18.0,18.0,37.0,38.0,25.0,48.0,49.0,12.0,13.0,27.0,37.0,22.0,11.0,16.0,26.0,19.0,62.0,37.0,31.0,33.0,57.0,12.0,21.0,63.0,44.0,65.0,34.0,46.0,10.0],\"x0\":\" \",\"xaxis\":\"x\",\"y0\":\" \",\"yaxis\":\"y\",\"type\":\"box\"}],                        {\"template\":{\"data\":{\"histogram2dcontour\":[{\"type\":\"histogram2dcontour\",\"colorbar\":{\"outlinewidth\":0,\"ticks\":\"\"},\"colorscale\":[[0.0,\"#0d0887\"],[0.1111111111111111,\"#46039f\"],[0.2222222222222222,\"#7201a8\"],[0.3333333333333333,\"#9c179e\"],[0.4444444444444444,\"#bd3786\"],[0.5555555555555556,\"#d8576b\"],[0.6666666666666666,\"#ed7953\"],[0.7777777777777778,\"#fb9f3a\"],[0.8888888888888888,\"#fdca26\"],[1.0,\"#f0f921\"]]}],\"choropleth\":[{\"type\":\"choropleth\",\"colorbar\":{\"outlinewidth\":0,\"ticks\":\"\"}}],\"histogram2d\":[{\"type\":\"histogram2d\",\"colorbar\":{\"outlinewidth\":0,\"ticks\":\"\"},\"colorscale\":[[0.0,\"#0d0887\"],[0.1111111111111111,\"#46039f\"],[0.2222222222222222,\"#7201a8\"],[0.3333333333333333,\"#9c179e\"],[0.4444444444444444,\"#bd3786\"],[0.5555555555555556,\"#d8576b\"],[0.6666666666666666,\"#ed7953\"],[0.7777777777777778,\"#fb9f3a\"],[0.8888888888888888,\"#fdca26\"],[1.0,\"#f0f921\"]]}],\"heatmap\":[{\"type\":\"heatmap\",\"colorbar\":{\"outlinewidth\":0,\"ticks\":\"\"},\"colorscale\":[[0.0,\"#0d0887\"],[0.1111111111111111,\"#46039f\"],[0.2222222222222222,\"#7201a8\"],[0.3333333333333333,\"#9c179e\"],[0.4444444444444444,\"#bd3786\"],[0.5555555555555556,\"#d8576b\"],[0.6666666666666666,\"#ed7953\"],[0.7777777777777778,\"#fb9f3a\"],[0.8888888888888888,\"#fdca26\"],[1.0,\"#f0f921\"]]}],\"heatmapgl\":[{\"type\":\"heatmapgl\",\"colorbar\":{\"outlinewidth\":0,\"ticks\":\"\"},\"colorscale\":[[0.0,\"#0d0887\"],[0.1111111111111111,\"#46039f\"],[0.2222222222222222,\"#7201a8\"],[0.3333333333333333,\"#9c179e\"],[0.4444444444444444,\"#bd3786\"],[0.5555555555555556,\"#d8576b\"],[0.6666666666666666,\"#ed7953\"],[0.7777777777777778,\"#fb9f3a\"],[0.8888888888888888,\"#fdca26\"],[1.0,\"#f0f921\"]]}],\"contourcarpet\":[{\"type\":\"contourcarpet\",\"colorbar\":{\"outlinewidth\":0,\"ticks\":\"\"}}],\"contour\":[{\"type\":\"contour\",\"colorbar\":{\"outlinewidth\":0,\"ticks\":\"\"},\"colorscale\":[[0.0,\"#0d0887\"],[0.1111111111111111,\"#46039f\"],[0.2222222222222222,\"#7201a8\"],[0.3333333333333333,\"#9c179e\"],[0.4444444444444444,\"#bd3786\"],[0.5555555555555556,\"#d8576b\"],[0.6666666666666666,\"#ed7953\"],[0.7777777777777778,\"#fb9f3a\"],[0.8888888888888888,\"#fdca26\"],[1.0,\"#f0f921\"]]}],\"surface\":[{\"type\":\"surface\",\"colorbar\":{\"outlinewidth\":0,\"ticks\":\"\"},\"colorscale\":[[0.0,\"#0d0887\"],[0.1111111111111111,\"#46039f\"],[0.2222222222222222,\"#7201a8\"],[0.3333333333333333,\"#9c179e\"],[0.4444444444444444,\"#bd3786\"],[0.5555555555555556,\"#d8576b\"],[0.6666666666666666,\"#ed7953\"],[0.7777777777777778,\"#fb9f3a\"],[0.8888888888888888,\"#fdca26\"],[1.0,\"#f0f921\"]]}],\"mesh3d\":[{\"type\":\"mesh3d\",\"colorbar\":{\"outlinewidth\":0,\"ticks\":\"\"}}],\"scatter\":[{\"fillpattern\":{\"fillmode\":\"overlay\",\"size\":10,\"solidity\":0.2},\"type\":\"scatter\"}],\"parcoords\":[{\"type\":\"parcoords\",\"line\":{\"colorbar\":{\"outlinewidth\":0,\"ticks\":\"\"}}}],\"scatterpolargl\":[{\"type\":\"scatterpolargl\",\"marker\":{\"colorbar\":{\"outlinewidth\":0,\"ticks\":\"\"}}}],\"bar\":[{\"error_x\":{\"color\":\"#2a3f5f\"},\"error_y\":{\"color\":\"#2a3f5f\"},\"marker\":{\"line\":{\"color\":\"#E5ECF6\",\"width\":0.5},\"pattern\":{\"fillmode\":\"overlay\",\"size\":10,\"solidity\":0.2}},\"type\":\"bar\"}],\"scattergeo\":[{\"type\":\"scattergeo\",\"marker\":{\"colorbar\":{\"outlinewidth\":0,\"ticks\":\"\"}}}],\"scatterpolar\":[{\"type\":\"scatterpolar\",\"marker\":{\"colorbar\":{\"outlinewidth\":0,\"ticks\":\"\"}}}],\"histogram\":[{\"marker\":{\"pattern\":{\"fillmode\":\"overlay\",\"size\":10,\"solidity\":0.2}},\"type\":\"histogram\"}],\"scattergl\":[{\"type\":\"scattergl\",\"marker\":{\"colorbar\":{\"outlinewidth\":0,\"ticks\":\"\"}}}],\"scatter3d\":[{\"type\":\"scatter3d\",\"line\":{\"colorbar\":{\"outlinewidth\":0,\"ticks\":\"\"}},\"marker\":{\"colorbar\":{\"outlinewidth\":0,\"ticks\":\"\"}}}],\"scattermapbox\":[{\"type\":\"scattermapbox\",\"marker\":{\"colorbar\":{\"outlinewidth\":0,\"ticks\":\"\"}}}],\"scatterternary\":[{\"type\":\"scatterternary\",\"marker\":{\"colorbar\":{\"outlinewidth\":0,\"ticks\":\"\"}}}],\"scattercarpet\":[{\"type\":\"scattercarpet\",\"marker\":{\"colorbar\":{\"outlinewidth\":0,\"ticks\":\"\"}}}],\"carpet\":[{\"aaxis\":{\"endlinecolor\":\"#2a3f5f\",\"gridcolor\":\"white\",\"linecolor\":\"white\",\"minorgridcolor\":\"white\",\"startlinecolor\":\"#2a3f5f\"},\"baxis\":{\"endlinecolor\":\"#2a3f5f\",\"gridcolor\":\"white\",\"linecolor\":\"white\",\"minorgridcolor\":\"white\",\"startlinecolor\":\"#2a3f5f\"},\"type\":\"carpet\"}],\"table\":[{\"cells\":{\"fill\":{\"color\":\"#EBF0F8\"},\"line\":{\"color\":\"white\"}},\"header\":{\"fill\":{\"color\":\"#C8D4E3\"},\"line\":{\"color\":\"white\"}},\"type\":\"table\"}],\"barpolar\":[{\"marker\":{\"line\":{\"color\":\"#E5ECF6\",\"width\":0.5},\"pattern\":{\"fillmode\":\"overlay\",\"size\":10,\"solidity\":0.2}},\"type\":\"barpolar\"}],\"pie\":[{\"automargin\":true,\"type\":\"pie\"}]},\"layout\":{\"autotypenumbers\":\"strict\",\"colorway\":[\"#636efa\",\"#EF553B\",\"#00cc96\",\"#ab63fa\",\"#FFA15A\",\"#19d3f3\",\"#FF6692\",\"#B6E880\",\"#FF97FF\",\"#FECB52\"],\"font\":{\"color\":\"#2a3f5f\"},\"hovermode\":\"closest\",\"hoverlabel\":{\"align\":\"left\"},\"paper_bgcolor\":\"white\",\"plot_bgcolor\":\"#E5ECF6\",\"polar\":{\"bgcolor\":\"#E5ECF6\",\"angularaxis\":{\"gridcolor\":\"white\",\"linecolor\":\"white\",\"ticks\":\"\"},\"radialaxis\":{\"gridcolor\":\"white\",\"linecolor\":\"white\",\"ticks\":\"\"}},\"ternary\":{\"bgcolor\":\"#E5ECF6\",\"aaxis\":{\"gridcolor\":\"white\",\"linecolor\":\"white\",\"ticks\":\"\"},\"baxis\":{\"gridcolor\":\"white\",\"linecolor\":\"white\",\"ticks\":\"\"},\"caxis\":{\"gridcolor\":\"white\",\"linecolor\":\"white\",\"ticks\":\"\"}},\"coloraxis\":{\"colorbar\":{\"outlinewidth\":0,\"ticks\":\"\"}},\"colorscale\":{\"sequential\":[[0.0,\"#0d0887\"],[0.1111111111111111,\"#46039f\"],[0.2222222222222222,\"#7201a8\"],[0.3333333333333333,\"#9c179e\"],[0.4444444444444444,\"#bd3786\"],[0.5555555555555556,\"#d8576b\"],[0.6666666666666666,\"#ed7953\"],[0.7777777777777778,\"#fb9f3a\"],[0.8888888888888888,\"#fdca26\"],[1.0,\"#f0f921\"]],\"sequentialminus\":[[0.0,\"#0d0887\"],[0.1111111111111111,\"#46039f\"],[0.2222222222222222,\"#7201a8\"],[0.3333333333333333,\"#9c179e\"],[0.4444444444444444,\"#bd3786\"],[0.5555555555555556,\"#d8576b\"],[0.6666666666666666,\"#ed7953\"],[0.7777777777777778,\"#fb9f3a\"],[0.8888888888888888,\"#fdca26\"],[1.0,\"#f0f921\"]],\"diverging\":[[0,\"#8e0152\"],[0.1,\"#c51b7d\"],[0.2,\"#de77ae\"],[0.3,\"#f1b6da\"],[0.4,\"#fde0ef\"],[0.5,\"#f7f7f7\"],[0.6,\"#e6f5d0\"],[0.7,\"#b8e186\"],[0.8,\"#7fbc41\"],[0.9,\"#4d9221\"],[1,\"#276419\"]]},\"xaxis\":{\"gridcolor\":\"white\",\"linecolor\":\"white\",\"ticks\":\"\",\"title\":{\"standoff\":15},\"zerolinecolor\":\"white\",\"automargin\":true,\"zerolinewidth\":2},\"yaxis\":{\"gridcolor\":\"white\",\"linecolor\":\"white\",\"ticks\":\"\",\"title\":{\"standoff\":15},\"zerolinecolor\":\"white\",\"automargin\":true,\"zerolinewidth\":2},\"scene\":{\"xaxis\":{\"backgroundcolor\":\"#E5ECF6\",\"gridcolor\":\"white\",\"linecolor\":\"white\",\"showbackground\":true,\"ticks\":\"\",\"zerolinecolor\":\"white\",\"gridwidth\":2},\"yaxis\":{\"backgroundcolor\":\"#E5ECF6\",\"gridcolor\":\"white\",\"linecolor\":\"white\",\"showbackground\":true,\"ticks\":\"\",\"zerolinecolor\":\"white\",\"gridwidth\":2},\"zaxis\":{\"backgroundcolor\":\"#E5ECF6\",\"gridcolor\":\"white\",\"linecolor\":\"white\",\"showbackground\":true,\"ticks\":\"\",\"zerolinecolor\":\"white\",\"gridwidth\":2}},\"shapedefaults\":{\"line\":{\"color\":\"#2a3f5f\"}},\"annotationdefaults\":{\"arrowcolor\":\"#2a3f5f\",\"arrowhead\":0,\"arrowwidth\":1},\"geo\":{\"bgcolor\":\"white\",\"landcolor\":\"#E5ECF6\",\"subunitcolor\":\"white\",\"showland\":true,\"showlakes\":true,\"lakecolor\":\"white\"},\"title\":{\"x\":0.05},\"mapbox\":{\"style\":\"light\"}}},\"xaxis\":{\"anchor\":\"y\",\"domain\":[0.0,1.0],\"title\":{\"text\":\"placement_exam_marks\"}},\"yaxis\":{\"anchor\":\"x\",\"domain\":[0.0,1.0]},\"legend\":{\"tracegroupgap\":0},\"margin\":{\"t\":60},\"boxmode\":\"group\"},                        {\"responsive\": true}                    ).then(function(){\n",
              "                            \n",
              "var gd = document.getElementById('daa05b06-e587-40c1-be46-778e077f83bc');\n",
              "var x = new MutationObserver(function (mutations, observer) {{\n",
              "        var display = window.getComputedStyle(gd).display;\n",
              "        if (!display || display === 'none') {{\n",
              "            console.log([gd, 'removed!']);\n",
              "            Plotly.purge(gd);\n",
              "            observer.disconnect();\n",
              "        }}\n",
              "}});\n",
              "\n",
              "// Listen for the removal of the full notebook cells\n",
              "var notebookContainer = gd.closest('#notebook-container');\n",
              "if (notebookContainer) {{\n",
              "    x.observe(notebookContainer, {childList: true});\n",
              "}}\n",
              "\n",
              "// Listen for the clearing of the current output cell\n",
              "var outputEl = gd.closest('.output');\n",
              "if (outputEl) {{\n",
              "    x.observe(outputEl, {childList: true});\n",
              "}}\n",
              "\n",
              "                        })                };                            </script>        </div>\n",
              "</body>\n",
              "</html>"
            ]
          },
          "metadata": {}
        }
      ]
    },
    {
      "cell_type": "code",
      "source": [
        "px.box(df,x=\"cgpa\")"
      ],
      "metadata": {
        "id": "cOIMskw_Xucb",
        "outputId": "9e396a48-96fa-40d8-bea3-e2b0909d9a10",
        "colab": {
          "base_uri": "https://localhost:8080/",
          "height": 542
        }
      },
      "execution_count": 13,
      "outputs": [
        {
          "output_type": "display_data",
          "data": {
            "text/html": [
              "<html>\n",
              "<head><meta charset=\"utf-8\" /></head>\n",
              "<body>\n",
              "    <div>            <script src=\"https://cdnjs.cloudflare.com/ajax/libs/mathjax/2.7.5/MathJax.js?config=TeX-AMS-MML_SVG\"></script><script type=\"text/javascript\">if (window.MathJax && window.MathJax.Hub && window.MathJax.Hub.Config) {window.MathJax.Hub.Config({SVG: {font: \"STIX-Web\"}});}</script>                <script type=\"text/javascript\">window.PlotlyConfig = {MathJaxConfig: 'local'};</script>\n",
              "        <script charset=\"utf-8\" src=\"https://cdn.plot.ly/plotly-2.24.1.min.js\"></script>                <div id=\"7c5b83ca-335a-49d8-9c00-78cc0eafde6c\" class=\"plotly-graph-div\" style=\"height:525px; width:100%;\"></div>            <script type=\"text/javascript\">                                    window.PLOTLYENV=window.PLOTLYENV || {};                                    if (document.getElementById(\"7c5b83ca-335a-49d8-9c00-78cc0eafde6c\")) {                    Plotly.newPlot(                        \"7c5b83ca-335a-49d8-9c00-78cc0eafde6c\",                        [{\"alignmentgroup\":\"True\",\"hovertemplate\":\"cgpa=%{x}\\u003cextra\\u003e\\u003c\\u002fextra\\u003e\",\"legendgroup\":\"\",\"marker\":{\"color\":\"#636efa\"},\"name\":\"\",\"notched\":false,\"offsetgroup\":\"\",\"orientation\":\"h\",\"showlegend\":false,\"x\":[7.19,7.46,7.54,6.42,7.23,7.3,6.69,7.12,6.45,7.75,6.82,6.38,6.58,5.68,7.91,7.1,6.53,7.56,6.93,7.63,6.69,7.43,6.76,6.05,6.44,6.28,7.45,6.53,7.23,6.51,7.46,7.66,5.91,6.23,8.15,7.48,6.85,8.51,6.58,7.25,6.6,6.7,7.46,7.85,7.88,6.92,7.3,6.92,6.29,8.23,6.2,6.24,7.53,6.69,8.42,8.12,6.93,7.73,7.34,7.7,7.94,7.51,7.61,6.22,6.98,6.27,6.67,8.04,6.58,7.41,6.98,6.13,7.9,6.39,6.16,6.77,8.35,7.1,8.2,7.63,6.87,7.12,7.22,7.38,5.65,6.03,7.19,6.96,6.78,6.56,7.61,7.42,6.48,7.0,7.15,6.89,7.09,7.33,8.12,7.46,6.56,6.48,5.92,6.44,6.82,6.72,6.59,7.32,5.94,7.23,6.96,6.48,7.23,7.24,6.3,7.28,7.16,7.11,6.9,7.0,6.99,5.91,5.97,6.25,6.2,7.46,7.16,6.95,6.76,6.81,5.91,8.19,7.71,7.65,6.33,6.63,7.28,5.69,7.53,8.09,6.85,7.19,7.66,6.32,6.67,7.08,6.75,6.68,6.86,6.81,8.53,7.29,7.78,6.29,7.57,7.84,6.4,7.07,5.74,6.7,7.36,6.26,7.8,6.77,6.29,7.53,7.76,6.65,6.51,6.19,6.17,6.2,7.24,6.71,7.31,7.57,7.72,6.22,7.51,6.4,7.18,7.3,6.87,6.11,7.78,7.3,6.97,6.63,5.92,6.63,7.54,6.63,6.67,6.31,8.19,6.71,7.28,6.75,8.29,7.43,5.77,6.67,6.51,7.93,7.01,6.99,7.5,7.05,7.25,6.88,6.58,7.36,6.23,6.62,7.42,7.72,5.42,6.92,6.62,5.48,7.75,6.78,6.97,6.15,7.15,7.36,6.79,7.03,7.61,6.68,7.12,6.4,7.77,7.25,8.09,7.2,7.7,7.14,7.41,6.71,7.25,7.22,5.99,6.78,7.68,6.78,7.67,6.25,6.9,7.46,7.4,6.46,6.24,6.98,6.7,7.76,7.37,5.74,6.12,7.16,5.66,7.17,7.19,8.11,7.82,6.94,7.73,6.0,7.38,6.47,6.8,7.64,6.23,7.0,7.13,8.03,6.96,6.45,5.23,8.49,6.62,7.68,6.43,7.09,6.99,7.42,6.29,6.24,7.07,6.73,8.38,7.46,5.82,6.97,6.12,6.02,6.99,7.03,6.16,6.75,7.36,7.84,7.95,7.35,7.12,6.67,6.86,7.47,7.2,7.46,5.56,6.97,7.02,6.51,7.43,7.96,7.07,7.47,6.74,7.53,7.18,6.82,6.77,6.6,6.64,6.65,7.54,8.21,7.4,7.3,6.68,6.12,7.03,6.74,6.56,6.9,7.93,6.95,7.45,7.32,7.45,7.41,6.37,7.2,7.2,6.26,7.31,7.24,6.13,8.12,7.21,6.92,6.51,6.82,6.73,6.42,5.91,7.92,6.74,7.61,7.24,6.37,7.25,7.61,6.87,7.07,6.78,6.41,7.09,6.69,5.7,5.9,5.95,5.58,7.34,7.31,6.25,6.7,7.27,7.37,7.12,6.17,7.55,7.26,7.03,7.33,7.63,7.25,7.28,5.9,6.63,7.77,6.76,6.6,7.94,7.29,7.28,7.55,7.55,5.74,6.0,6.74,6.08,6.71,8.02,6.6,7.14,8.23,7.8,6.92,7.36,6.04,6.5,6.65,7.3,6.37,7.51,6.9,6.3,6.22,7.59,6.29,7.09,8.27,6.91,7.45,7.26,6.17,7.89,7.35,7.22,7.64,6.67,5.77,7.01,7.45,6.31,6.73,7.31,6.67,8.56,7.8,7.08,6.92,6.66,5.56,6.6,6.5,6.32,6.21,6.44,5.94,6.59,7.31,7.13,6.92,6.76,6.58,7.13,6.62,6.91,7.39,6.71,6.82,6.28,7.65,6.45,6.65,6.73,5.86,6.46,5.48,6.19,6.38,7.11,7.38,6.83,5.78,7.32,6.38,6.8,7.33,7.56,7.93,5.81,4.92,7.67,6.95,6.75,7.24,7.34,7.77,8.5,6.8,6.83,6.95,7.52,6.8,6.89,6.42,6.07,6.52,7.18,6.97,7.24,6.48,7.84,6.77,6.41,7.83,6.84,7.53,7.08,6.43,7.36,7.75,6.83,6.37,7.53,6.6,7.39,5.72,6.71,6.13,6.85,6.33,7.12,7.72,6.9,7.19,6.28,7.0,6.9,7.19,6.05,6.49,6.87,7.13,7.58,6.79,6.37,6.11,7.06,7.48,7.11,6.35,6.75,7.33,7.48,7.37,6.62,6.55,6.4,7.46,6.84,6.46,6.7,6.47,7.28,6.61,7.11,7.07,6.06,6.81,7.17,6.61,6.03,6.18,8.13,7.08,7.04,6.47,7.66,7.23,6.54,7.55,6.12,6.85,7.52,7.13,7.9,6.57,7.05,7.1,6.57,7.85,6.58,7.58,6.38,6.6,6.68,7.89,7.09,6.55,6.95,6.13,8.48,7.85,7.59,7.02,6.24,6.89,7.16,6.55,6.89,6.64,6.79,7.76,7.33,6.55,7.32,7.2,6.14,6.66,8.05,6.51,7.09,7.08,6.7,6.81,7.07,7.85,7.4,7.35,7.35,7.6,7.63,6.31,7.12,8.15,6.56,7.26,6.37,6.63,7.69,6.69,6.39,7.25,7.46,6.42,6.36,7.49,7.89,7.59,7.65,6.75,7.38,6.69,7.15,7.6,6.19,6.57,7.6,6.93,7.03,7.36,7.39,7.6,7.57,6.68,5.97,5.72,7.38,7.05,7.23,6.16,7.64,7.17,7.24,6.94,7.51,7.45,7.75,6.87,6.73,6.1,6.73,6.75,6.65,6.7,7.35,6.78,6.34,6.5,8.02,6.05,7.15,6.81,6.59,8.02,7.01,7.32,6.95,6.64,7.12,6.75,6.94,7.23,7.27,6.64,6.82,6.74,6.24,7.04,6.91,6.55,7.11,6.86,7.91,6.97,7.56,6.97,6.35,7.8,7.06,7.41,7.06,6.49,7.12,7.17,6.87,6.98,6.86,7.35,7.95,6.34,7.93,7.0,6.63,6.79,6.14,6.74,7.26,7.07,6.77,7.23,6.86,6.52,7.04,6.34,6.21,7.58,6.79,7.62,7.49,6.82,6.72,6.26,7.02,7.31,6.43,6.69,7.37,6.87,7.91,6.94,7.41,6.84,6.55,6.55,7.13,8.02,6.79,7.16,6.47,6.55,7.17,7.33,6.55,6.68,7.33,7.31,6.63,8.06,6.93,6.76,7.08,7.67,6.98,6.39,5.62,7.17,7.65,6.23,6.19,6.07,7.5,7.02,6.54,6.46,7.48,7.65,7.92,7.23,6.24,7.0,6.02,8.14,5.86,6.89,6.5,6.31,6.1,7.19,6.49,6.23,6.39,7.16,7.68,6.39,7.14,8.04,5.99,7.43,7.78,5.27,7.19,7.84,5.52,6.93,6.27,6.1,7.33,6.67,7.48,6.3,7.05,6.46,6.44,6.87,6.46,6.81,6.91,7.29,6.22,6.67,7.09,6.65,6.84,6.44,6.89,7.45,7.33,6.31,7.62,5.98,6.99,7.2,7.2,7.89,8.39,6.29,6.54,7.74,5.83,7.89,7.52,5.72,7.51,6.52,7.51,6.32,6.04,8.04,6.32,6.77,7.29,8.04,7.33,5.51,6.67,6.56,6.95,7.9,6.6,5.73,6.33,6.32,6.98,6.83,6.4,7.72,7.25,7.98,7.11,7.13,7.22,7.19,7.62,7.39,7.73,7.42,5.96,7.07,6.5,7.82,5.73,7.13,7.14,7.62,6.08,7.1,7.03,7.56,7.36,7.08,7.56,7.03,6.06,6.57,7.82,7.45,7.48,6.78,6.97,6.88,6.88,5.95,7.09,6.59,7.97,6.91,7.68,6.52,6.85,6.91,7.02,7.37,6.63,6.89,6.94,7.19,6.89,6.01,7.15,8.12,7.32,6.42,6.27,6.98,6.16,7.18,7.03,7.36,7.21,6.71,7.95,6.49,6.38,7.94,6.65,7.52,7.71,6.91,8.0,7.2,6.86,6.51,7.43,6.76,6.81,7.65,7.09,6.74,8.09,7.37,6.24,7.35,6.84,6.86,7.28,6.69,7.02,6.1,6.42,8.43,6.96,7.18,6.78,7.0,6.18,8.06,6.87,6.81,6.89,7.1,7.09,6.77,5.64,6.23,6.17,7.04,6.26,6.73,6.48,8.87,9.12,4.89,8.62,4.9],\"x0\":\" \",\"xaxis\":\"x\",\"y0\":\" \",\"yaxis\":\"y\",\"type\":\"box\"}],                        {\"template\":{\"data\":{\"histogram2dcontour\":[{\"type\":\"histogram2dcontour\",\"colorbar\":{\"outlinewidth\":0,\"ticks\":\"\"},\"colorscale\":[[0.0,\"#0d0887\"],[0.1111111111111111,\"#46039f\"],[0.2222222222222222,\"#7201a8\"],[0.3333333333333333,\"#9c179e\"],[0.4444444444444444,\"#bd3786\"],[0.5555555555555556,\"#d8576b\"],[0.6666666666666666,\"#ed7953\"],[0.7777777777777778,\"#fb9f3a\"],[0.8888888888888888,\"#fdca26\"],[1.0,\"#f0f921\"]]}],\"choropleth\":[{\"type\":\"choropleth\",\"colorbar\":{\"outlinewidth\":0,\"ticks\":\"\"}}],\"histogram2d\":[{\"type\":\"histogram2d\",\"colorbar\":{\"outlinewidth\":0,\"ticks\":\"\"},\"colorscale\":[[0.0,\"#0d0887\"],[0.1111111111111111,\"#46039f\"],[0.2222222222222222,\"#7201a8\"],[0.3333333333333333,\"#9c179e\"],[0.4444444444444444,\"#bd3786\"],[0.5555555555555556,\"#d8576b\"],[0.6666666666666666,\"#ed7953\"],[0.7777777777777778,\"#fb9f3a\"],[0.8888888888888888,\"#fdca26\"],[1.0,\"#f0f921\"]]}],\"heatmap\":[{\"type\":\"heatmap\",\"colorbar\":{\"outlinewidth\":0,\"ticks\":\"\"},\"colorscale\":[[0.0,\"#0d0887\"],[0.1111111111111111,\"#46039f\"],[0.2222222222222222,\"#7201a8\"],[0.3333333333333333,\"#9c179e\"],[0.4444444444444444,\"#bd3786\"],[0.5555555555555556,\"#d8576b\"],[0.6666666666666666,\"#ed7953\"],[0.7777777777777778,\"#fb9f3a\"],[0.8888888888888888,\"#fdca26\"],[1.0,\"#f0f921\"]]}],\"heatmapgl\":[{\"type\":\"heatmapgl\",\"colorbar\":{\"outlinewidth\":0,\"ticks\":\"\"},\"colorscale\":[[0.0,\"#0d0887\"],[0.1111111111111111,\"#46039f\"],[0.2222222222222222,\"#7201a8\"],[0.3333333333333333,\"#9c179e\"],[0.4444444444444444,\"#bd3786\"],[0.5555555555555556,\"#d8576b\"],[0.6666666666666666,\"#ed7953\"],[0.7777777777777778,\"#fb9f3a\"],[0.8888888888888888,\"#fdca26\"],[1.0,\"#f0f921\"]]}],\"contourcarpet\":[{\"type\":\"contourcarpet\",\"colorbar\":{\"outlinewidth\":0,\"ticks\":\"\"}}],\"contour\":[{\"type\":\"contour\",\"colorbar\":{\"outlinewidth\":0,\"ticks\":\"\"},\"colorscale\":[[0.0,\"#0d0887\"],[0.1111111111111111,\"#46039f\"],[0.2222222222222222,\"#7201a8\"],[0.3333333333333333,\"#9c179e\"],[0.4444444444444444,\"#bd3786\"],[0.5555555555555556,\"#d8576b\"],[0.6666666666666666,\"#ed7953\"],[0.7777777777777778,\"#fb9f3a\"],[0.8888888888888888,\"#fdca26\"],[1.0,\"#f0f921\"]]}],\"surface\":[{\"type\":\"surface\",\"colorbar\":{\"outlinewidth\":0,\"ticks\":\"\"},\"colorscale\":[[0.0,\"#0d0887\"],[0.1111111111111111,\"#46039f\"],[0.2222222222222222,\"#7201a8\"],[0.3333333333333333,\"#9c179e\"],[0.4444444444444444,\"#bd3786\"],[0.5555555555555556,\"#d8576b\"],[0.6666666666666666,\"#ed7953\"],[0.7777777777777778,\"#fb9f3a\"],[0.8888888888888888,\"#fdca26\"],[1.0,\"#f0f921\"]]}],\"mesh3d\":[{\"type\":\"mesh3d\",\"colorbar\":{\"outlinewidth\":0,\"ticks\":\"\"}}],\"scatter\":[{\"fillpattern\":{\"fillmode\":\"overlay\",\"size\":10,\"solidity\":0.2},\"type\":\"scatter\"}],\"parcoords\":[{\"type\":\"parcoords\",\"line\":{\"colorbar\":{\"outlinewidth\":0,\"ticks\":\"\"}}}],\"scatterpolargl\":[{\"type\":\"scatterpolargl\",\"marker\":{\"colorbar\":{\"outlinewidth\":0,\"ticks\":\"\"}}}],\"bar\":[{\"error_x\":{\"color\":\"#2a3f5f\"},\"error_y\":{\"color\":\"#2a3f5f\"},\"marker\":{\"line\":{\"color\":\"#E5ECF6\",\"width\":0.5},\"pattern\":{\"fillmode\":\"overlay\",\"size\":10,\"solidity\":0.2}},\"type\":\"bar\"}],\"scattergeo\":[{\"type\":\"scattergeo\",\"marker\":{\"colorbar\":{\"outlinewidth\":0,\"ticks\":\"\"}}}],\"scatterpolar\":[{\"type\":\"scatterpolar\",\"marker\":{\"colorbar\":{\"outlinewidth\":0,\"ticks\":\"\"}}}],\"histogram\":[{\"marker\":{\"pattern\":{\"fillmode\":\"overlay\",\"size\":10,\"solidity\":0.2}},\"type\":\"histogram\"}],\"scattergl\":[{\"type\":\"scattergl\",\"marker\":{\"colorbar\":{\"outlinewidth\":0,\"ticks\":\"\"}}}],\"scatter3d\":[{\"type\":\"scatter3d\",\"line\":{\"colorbar\":{\"outlinewidth\":0,\"ticks\":\"\"}},\"marker\":{\"colorbar\":{\"outlinewidth\":0,\"ticks\":\"\"}}}],\"scattermapbox\":[{\"type\":\"scattermapbox\",\"marker\":{\"colorbar\":{\"outlinewidth\":0,\"ticks\":\"\"}}}],\"scatterternary\":[{\"type\":\"scatterternary\",\"marker\":{\"colorbar\":{\"outlinewidth\":0,\"ticks\":\"\"}}}],\"scattercarpet\":[{\"type\":\"scattercarpet\",\"marker\":{\"colorbar\":{\"outlinewidth\":0,\"ticks\":\"\"}}}],\"carpet\":[{\"aaxis\":{\"endlinecolor\":\"#2a3f5f\",\"gridcolor\":\"white\",\"linecolor\":\"white\",\"minorgridcolor\":\"white\",\"startlinecolor\":\"#2a3f5f\"},\"baxis\":{\"endlinecolor\":\"#2a3f5f\",\"gridcolor\":\"white\",\"linecolor\":\"white\",\"minorgridcolor\":\"white\",\"startlinecolor\":\"#2a3f5f\"},\"type\":\"carpet\"}],\"table\":[{\"cells\":{\"fill\":{\"color\":\"#EBF0F8\"},\"line\":{\"color\":\"white\"}},\"header\":{\"fill\":{\"color\":\"#C8D4E3\"},\"line\":{\"color\":\"white\"}},\"type\":\"table\"}],\"barpolar\":[{\"marker\":{\"line\":{\"color\":\"#E5ECF6\",\"width\":0.5},\"pattern\":{\"fillmode\":\"overlay\",\"size\":10,\"solidity\":0.2}},\"type\":\"barpolar\"}],\"pie\":[{\"automargin\":true,\"type\":\"pie\"}]},\"layout\":{\"autotypenumbers\":\"strict\",\"colorway\":[\"#636efa\",\"#EF553B\",\"#00cc96\",\"#ab63fa\",\"#FFA15A\",\"#19d3f3\",\"#FF6692\",\"#B6E880\",\"#FF97FF\",\"#FECB52\"],\"font\":{\"color\":\"#2a3f5f\"},\"hovermode\":\"closest\",\"hoverlabel\":{\"align\":\"left\"},\"paper_bgcolor\":\"white\",\"plot_bgcolor\":\"#E5ECF6\",\"polar\":{\"bgcolor\":\"#E5ECF6\",\"angularaxis\":{\"gridcolor\":\"white\",\"linecolor\":\"white\",\"ticks\":\"\"},\"radialaxis\":{\"gridcolor\":\"white\",\"linecolor\":\"white\",\"ticks\":\"\"}},\"ternary\":{\"bgcolor\":\"#E5ECF6\",\"aaxis\":{\"gridcolor\":\"white\",\"linecolor\":\"white\",\"ticks\":\"\"},\"baxis\":{\"gridcolor\":\"white\",\"linecolor\":\"white\",\"ticks\":\"\"},\"caxis\":{\"gridcolor\":\"white\",\"linecolor\":\"white\",\"ticks\":\"\"}},\"coloraxis\":{\"colorbar\":{\"outlinewidth\":0,\"ticks\":\"\"}},\"colorscale\":{\"sequential\":[[0.0,\"#0d0887\"],[0.1111111111111111,\"#46039f\"],[0.2222222222222222,\"#7201a8\"],[0.3333333333333333,\"#9c179e\"],[0.4444444444444444,\"#bd3786\"],[0.5555555555555556,\"#d8576b\"],[0.6666666666666666,\"#ed7953\"],[0.7777777777777778,\"#fb9f3a\"],[0.8888888888888888,\"#fdca26\"],[1.0,\"#f0f921\"]],\"sequentialminus\":[[0.0,\"#0d0887\"],[0.1111111111111111,\"#46039f\"],[0.2222222222222222,\"#7201a8\"],[0.3333333333333333,\"#9c179e\"],[0.4444444444444444,\"#bd3786\"],[0.5555555555555556,\"#d8576b\"],[0.6666666666666666,\"#ed7953\"],[0.7777777777777778,\"#fb9f3a\"],[0.8888888888888888,\"#fdca26\"],[1.0,\"#f0f921\"]],\"diverging\":[[0,\"#8e0152\"],[0.1,\"#c51b7d\"],[0.2,\"#de77ae\"],[0.3,\"#f1b6da\"],[0.4,\"#fde0ef\"],[0.5,\"#f7f7f7\"],[0.6,\"#e6f5d0\"],[0.7,\"#b8e186\"],[0.8,\"#7fbc41\"],[0.9,\"#4d9221\"],[1,\"#276419\"]]},\"xaxis\":{\"gridcolor\":\"white\",\"linecolor\":\"white\",\"ticks\":\"\",\"title\":{\"standoff\":15},\"zerolinecolor\":\"white\",\"automargin\":true,\"zerolinewidth\":2},\"yaxis\":{\"gridcolor\":\"white\",\"linecolor\":\"white\",\"ticks\":\"\",\"title\":{\"standoff\":15},\"zerolinecolor\":\"white\",\"automargin\":true,\"zerolinewidth\":2},\"scene\":{\"xaxis\":{\"backgroundcolor\":\"#E5ECF6\",\"gridcolor\":\"white\",\"linecolor\":\"white\",\"showbackground\":true,\"ticks\":\"\",\"zerolinecolor\":\"white\",\"gridwidth\":2},\"yaxis\":{\"backgroundcolor\":\"#E5ECF6\",\"gridcolor\":\"white\",\"linecolor\":\"white\",\"showbackground\":true,\"ticks\":\"\",\"zerolinecolor\":\"white\",\"gridwidth\":2},\"zaxis\":{\"backgroundcolor\":\"#E5ECF6\",\"gridcolor\":\"white\",\"linecolor\":\"white\",\"showbackground\":true,\"ticks\":\"\",\"zerolinecolor\":\"white\",\"gridwidth\":2}},\"shapedefaults\":{\"line\":{\"color\":\"#2a3f5f\"}},\"annotationdefaults\":{\"arrowcolor\":\"#2a3f5f\",\"arrowhead\":0,\"arrowwidth\":1},\"geo\":{\"bgcolor\":\"white\",\"landcolor\":\"#E5ECF6\",\"subunitcolor\":\"white\",\"showland\":true,\"showlakes\":true,\"lakecolor\":\"white\"},\"title\":{\"x\":0.05},\"mapbox\":{\"style\":\"light\"}}},\"xaxis\":{\"anchor\":\"y\",\"domain\":[0.0,1.0],\"title\":{\"text\":\"cgpa\"}},\"yaxis\":{\"anchor\":\"x\",\"domain\":[0.0,1.0]},\"legend\":{\"tracegroupgap\":0},\"margin\":{\"t\":60},\"boxmode\":\"group\"},                        {\"responsive\": true}                    ).then(function(){\n",
              "                            \n",
              "var gd = document.getElementById('7c5b83ca-335a-49d8-9c00-78cc0eafde6c');\n",
              "var x = new MutationObserver(function (mutations, observer) {{\n",
              "        var display = window.getComputedStyle(gd).display;\n",
              "        if (!display || display === 'none') {{\n",
              "            console.log([gd, 'removed!']);\n",
              "            Plotly.purge(gd);\n",
              "            observer.disconnect();\n",
              "        }}\n",
              "}});\n",
              "\n",
              "// Listen for the removal of the full notebook cells\n",
              "var notebookContainer = gd.closest('#notebook-container');\n",
              "if (notebookContainer) {{\n",
              "    x.observe(notebookContainer, {childList: true});\n",
              "}}\n",
              "\n",
              "// Listen for the clearing of the current output cell\n",
              "var outputEl = gd.closest('.output');\n",
              "if (outputEl) {{\n",
              "    x.observe(outputEl, {childList: true});\n",
              "}}\n",
              "\n",
              "                        })                };                            </script>        </div>\n",
              "</body>\n",
              "</html>"
            ]
          },
          "metadata": {}
        }
      ]
    },
    {
      "cell_type": "markdown",
      "source": [
        "IOR (interqurtile range)"
      ],
      "metadata": {
        "id": "vG9GRALVYgd_"
      }
    },
    {
      "cell_type": "code",
      "source": [
        "percent25=df['cgpa'].quantile(0.25)\n",
        "percent75=df['cgpa'].quantile(0.75)"
      ],
      "metadata": {
        "id": "SX0-d4xHYc7s"
      },
      "execution_count": 15,
      "outputs": []
    },
    {
      "cell_type": "code",
      "source": [
        "iqr=percent75-percent25"
      ],
      "metadata": {
        "id": "2Kp5R_9EZEv7"
      },
      "execution_count": 35,
      "outputs": []
    },
    {
      "cell_type": "code",
      "source": [
        "lower_limit=percent25-1.5*iqr\n",
        "upper_limit=percent75+1.5*iqr"
      ],
      "metadata": {
        "id": "dci7ZGpgZMus"
      },
      "execution_count": 24,
      "outputs": []
    },
    {
      "cell_type": "code",
      "source": [
        "#trimming (remove those data)\n",
        "new_df=df[(df['cgpa']<upper_limit) & (df['cgpa']>lower_limit)]\n",
        "px.box(new_df,x='cgpa')"
      ],
      "metadata": {
        "id": "tmKTTUZ-ZlQ_",
        "outputId": "c0a04161-8e40-4926-d890-53c30eabea77",
        "colab": {
          "base_uri": "https://localhost:8080/",
          "height": 542
        }
      },
      "execution_count": 36,
      "outputs": [
        {
          "output_type": "display_data",
          "data": {
            "text/html": [
              "<html>\n",
              "<head><meta charset=\"utf-8\" /></head>\n",
              "<body>\n",
              "    <div>            <script src=\"https://cdnjs.cloudflare.com/ajax/libs/mathjax/2.7.5/MathJax.js?config=TeX-AMS-MML_SVG\"></script><script type=\"text/javascript\">if (window.MathJax && window.MathJax.Hub && window.MathJax.Hub.Config) {window.MathJax.Hub.Config({SVG: {font: \"STIX-Web\"}});}</script>                <script type=\"text/javascript\">window.PlotlyConfig = {MathJaxConfig: 'local'};</script>\n",
              "        <script charset=\"utf-8\" src=\"https://cdn.plot.ly/plotly-2.24.1.min.js\"></script>                <div id=\"9a791ef3-fd1f-4c29-ae58-53040efc67a2\" class=\"plotly-graph-div\" style=\"height:525px; width:100%;\"></div>            <script type=\"text/javascript\">                                    window.PLOTLYENV=window.PLOTLYENV || {};                                    if (document.getElementById(\"9a791ef3-fd1f-4c29-ae58-53040efc67a2\")) {                    Plotly.newPlot(                        \"9a791ef3-fd1f-4c29-ae58-53040efc67a2\",                        [{\"alignmentgroup\":\"True\",\"hovertemplate\":\"cgpa=%{x}\\u003cextra\\u003e\\u003c\\u002fextra\\u003e\",\"legendgroup\":\"\",\"marker\":{\"color\":\"#636efa\"},\"name\":\"\",\"notched\":false,\"offsetgroup\":\"\",\"orientation\":\"h\",\"showlegend\":false,\"x\":[7.19,7.46,7.54,6.42,7.23,7.3,6.69,7.12,6.45,7.75,6.82,6.38,6.58,5.68,7.91,7.1,6.53,7.56,6.93,7.63,6.69,7.43,6.76,6.05,6.44,6.28,7.45,6.53,7.23,6.51,7.46,7.66,5.91,6.23,8.15,7.48,6.85,8.51,6.58,7.25,6.6,6.7,7.46,7.85,7.88,6.92,7.3,6.92,6.29,8.23,6.2,6.24,7.53,6.69,8.42,8.12,6.93,7.73,7.34,7.7,7.94,7.51,7.61,6.22,6.98,6.27,6.67,8.04,6.58,7.41,6.98,6.13,7.9,6.39,6.16,6.77,8.35,7.1,8.2,7.63,6.87,7.12,7.22,7.38,5.65,6.03,7.19,6.96,6.78,6.56,7.61,7.42,6.48,7.0,7.15,6.89,7.09,7.33,8.12,7.46,6.56,6.48,5.92,6.44,6.82,6.72,6.59,7.32,5.94,7.23,6.96,6.48,7.23,7.24,6.3,7.28,7.16,7.11,6.9,7.0,6.99,5.91,5.97,6.25,6.2,7.46,7.16,6.95,6.76,6.81,5.91,8.19,7.71,7.65,6.33,6.63,7.28,5.69,7.53,8.09,6.85,7.19,7.66,6.32,6.67,7.08,6.75,6.68,6.86,6.81,8.53,7.29,7.78,6.29,7.57,7.84,6.4,7.07,5.74,6.7,7.36,6.26,7.8,6.77,6.29,7.53,7.76,6.65,6.51,6.19,6.17,6.2,7.24,6.71,7.31,7.57,7.72,6.22,7.51,6.4,7.18,7.3,6.87,6.11,7.78,7.3,6.97,6.63,5.92,6.63,7.54,6.63,6.67,6.31,8.19,6.71,7.28,6.75,8.29,7.43,5.77,6.67,6.51,7.93,7.01,6.99,7.5,7.05,7.25,6.88,6.58,7.36,6.23,6.62,7.42,7.72,5.42,6.92,6.62,5.48,7.75,6.78,6.97,6.15,7.15,7.36,6.79,7.03,7.61,6.68,7.12,6.4,7.77,7.25,8.09,7.2,7.7,7.14,7.41,6.71,7.25,7.22,5.99,6.78,7.68,6.78,7.67,6.25,6.9,7.46,7.4,6.46,6.24,6.98,6.7,7.76,7.37,5.74,6.12,7.16,5.66,7.17,7.19,8.11,7.82,6.94,7.73,6.0,7.38,6.47,6.8,7.64,6.23,7.0,7.13,8.03,6.96,6.45,8.49,6.62,7.68,6.43,7.09,6.99,7.42,6.29,6.24,7.07,6.73,8.38,7.46,5.82,6.97,6.12,6.02,6.99,7.03,6.16,6.75,7.36,7.84,7.95,7.35,7.12,6.67,6.86,7.47,7.2,7.46,5.56,6.97,7.02,6.51,7.43,7.96,7.07,7.47,6.74,7.53,7.18,6.82,6.77,6.6,6.64,6.65,7.54,8.21,7.4,7.3,6.68,6.12,7.03,6.74,6.56,6.9,7.93,6.95,7.45,7.32,7.45,7.41,6.37,7.2,7.2,6.26,7.31,7.24,6.13,8.12,7.21,6.92,6.51,6.82,6.73,6.42,5.91,7.92,6.74,7.61,7.24,6.37,7.25,7.61,6.87,7.07,6.78,6.41,7.09,6.69,5.7,5.9,5.95,5.58,7.34,7.31,6.25,6.7,7.27,7.37,7.12,6.17,7.55,7.26,7.03,7.33,7.63,7.25,7.28,5.9,6.63,7.77,6.76,6.6,7.94,7.29,7.28,7.55,7.55,5.74,6.0,6.74,6.08,6.71,8.02,6.6,7.14,8.23,7.8,6.92,7.36,6.04,6.5,6.65,7.3,6.37,7.51,6.9,6.3,6.22,7.59,6.29,7.09,8.27,6.91,7.45,7.26,6.17,7.89,7.35,7.22,7.64,6.67,5.77,7.01,7.45,6.31,6.73,7.31,6.67,8.56,7.8,7.08,6.92,6.66,5.56,6.6,6.5,6.32,6.21,6.44,5.94,6.59,7.31,7.13,6.92,6.76,6.58,7.13,6.62,6.91,7.39,6.71,6.82,6.28,7.65,6.45,6.65,6.73,5.86,6.46,5.48,6.19,6.38,7.11,7.38,6.83,5.78,7.32,6.38,6.8,7.33,7.56,7.93,5.81,7.67,6.95,6.75,7.24,7.34,7.77,8.5,6.8,6.83,6.95,7.52,6.8,6.89,6.42,6.07,6.52,7.18,6.97,7.24,6.48,7.84,6.77,6.41,7.83,6.84,7.53,7.08,6.43,7.36,7.75,6.83,6.37,7.53,6.6,7.39,5.72,6.71,6.13,6.85,6.33,7.12,7.72,6.9,7.19,6.28,7.0,6.9,7.19,6.05,6.49,6.87,7.13,7.58,6.79,6.37,6.11,7.06,7.48,7.11,6.35,6.75,7.33,7.48,7.37,6.62,6.55,6.4,7.46,6.84,6.46,6.7,6.47,7.28,6.61,7.11,7.07,6.06,6.81,7.17,6.61,6.03,6.18,8.13,7.08,7.04,6.47,7.66,7.23,6.54,7.55,6.12,6.85,7.52,7.13,7.9,6.57,7.05,7.1,6.57,7.85,6.58,7.58,6.38,6.6,6.68,7.89,7.09,6.55,6.95,6.13,8.48,7.85,7.59,7.02,6.24,6.89,7.16,6.55,6.89,6.64,6.79,7.76,7.33,6.55,7.32,7.2,6.14,6.66,8.05,6.51,7.09,7.08,6.7,6.81,7.07,7.85,7.4,7.35,7.35,7.6,7.63,6.31,7.12,8.15,6.56,7.26,6.37,6.63,7.69,6.69,6.39,7.25,7.46,6.42,6.36,7.49,7.89,7.59,7.65,6.75,7.38,6.69,7.15,7.6,6.19,6.57,7.6,6.93,7.03,7.36,7.39,7.6,7.57,6.68,5.97,5.72,7.38,7.05,7.23,6.16,7.64,7.17,7.24,6.94,7.51,7.45,7.75,6.87,6.73,6.1,6.73,6.75,6.65,6.7,7.35,6.78,6.34,6.5,8.02,6.05,7.15,6.81,6.59,8.02,7.01,7.32,6.95,6.64,7.12,6.75,6.94,7.23,7.27,6.64,6.82,6.74,6.24,7.04,6.91,6.55,7.11,6.86,7.91,6.97,7.56,6.97,6.35,7.8,7.06,7.41,7.06,6.49,7.12,7.17,6.87,6.98,6.86,7.35,7.95,6.34,7.93,7.0,6.63,6.79,6.14,6.74,7.26,7.07,6.77,7.23,6.86,6.52,7.04,6.34,6.21,7.58,6.79,7.62,7.49,6.82,6.72,6.26,7.02,7.31,6.43,6.69,7.37,6.87,7.91,6.94,7.41,6.84,6.55,6.55,7.13,8.02,6.79,7.16,6.47,6.55,7.17,7.33,6.55,6.68,7.33,7.31,6.63,8.06,6.93,6.76,7.08,7.67,6.98,6.39,5.62,7.17,7.65,6.23,6.19,6.07,7.5,7.02,6.54,6.46,7.48,7.65,7.92,7.23,6.24,7.0,6.02,8.14,5.86,6.89,6.5,6.31,6.1,7.19,6.49,6.23,6.39,7.16,7.68,6.39,7.14,8.04,5.99,7.43,7.78,7.19,7.84,5.52,6.93,6.27,6.1,7.33,6.67,7.48,6.3,7.05,6.46,6.44,6.87,6.46,6.81,6.91,7.29,6.22,6.67,7.09,6.65,6.84,6.44,6.89,7.45,7.33,6.31,7.62,5.98,6.99,7.2,7.2,7.89,8.39,6.29,6.54,7.74,5.83,7.89,7.52,5.72,7.51,6.52,7.51,6.32,6.04,8.04,6.32,6.77,7.29,8.04,7.33,5.51,6.67,6.56,6.95,7.9,6.6,5.73,6.33,6.32,6.98,6.83,6.4,7.72,7.25,7.98,7.11,7.13,7.22,7.19,7.62,7.39,7.73,7.42,5.96,7.07,6.5,7.82,5.73,7.13,7.14,7.62,6.08,7.1,7.03,7.56,7.36,7.08,7.56,7.03,6.06,6.57,7.82,7.45,7.48,6.78,6.97,6.88,6.88,5.95,7.09,6.59,7.97,6.91,7.68,6.52,6.85,6.91,7.02,7.37,6.63,6.89,6.94,7.19,6.89,6.01,7.15,8.12,7.32,6.42,6.27,6.98,6.16,7.18,7.03,7.36,7.21,6.71,7.95,6.49,6.38,7.94,6.65,7.52,7.71,6.91,8.0,7.2,6.86,6.51,7.43,6.76,6.81,7.65,7.09,6.74,8.09,7.37,6.24,7.35,6.84,6.86,7.28,6.69,7.02,6.1,6.42,8.43,6.96,7.18,6.78,7.0,6.18,8.06,6.87,6.81,6.89,7.1,7.09,6.77,5.64,6.23,6.17,7.04,6.26,6.73,6.48],\"x0\":\" \",\"xaxis\":\"x\",\"y0\":\" \",\"yaxis\":\"y\",\"type\":\"box\"}],                        {\"template\":{\"data\":{\"histogram2dcontour\":[{\"type\":\"histogram2dcontour\",\"colorbar\":{\"outlinewidth\":0,\"ticks\":\"\"},\"colorscale\":[[0.0,\"#0d0887\"],[0.1111111111111111,\"#46039f\"],[0.2222222222222222,\"#7201a8\"],[0.3333333333333333,\"#9c179e\"],[0.4444444444444444,\"#bd3786\"],[0.5555555555555556,\"#d8576b\"],[0.6666666666666666,\"#ed7953\"],[0.7777777777777778,\"#fb9f3a\"],[0.8888888888888888,\"#fdca26\"],[1.0,\"#f0f921\"]]}],\"choropleth\":[{\"type\":\"choropleth\",\"colorbar\":{\"outlinewidth\":0,\"ticks\":\"\"}}],\"histogram2d\":[{\"type\":\"histogram2d\",\"colorbar\":{\"outlinewidth\":0,\"ticks\":\"\"},\"colorscale\":[[0.0,\"#0d0887\"],[0.1111111111111111,\"#46039f\"],[0.2222222222222222,\"#7201a8\"],[0.3333333333333333,\"#9c179e\"],[0.4444444444444444,\"#bd3786\"],[0.5555555555555556,\"#d8576b\"],[0.6666666666666666,\"#ed7953\"],[0.7777777777777778,\"#fb9f3a\"],[0.8888888888888888,\"#fdca26\"],[1.0,\"#f0f921\"]]}],\"heatmap\":[{\"type\":\"heatmap\",\"colorbar\":{\"outlinewidth\":0,\"ticks\":\"\"},\"colorscale\":[[0.0,\"#0d0887\"],[0.1111111111111111,\"#46039f\"],[0.2222222222222222,\"#7201a8\"],[0.3333333333333333,\"#9c179e\"],[0.4444444444444444,\"#bd3786\"],[0.5555555555555556,\"#d8576b\"],[0.6666666666666666,\"#ed7953\"],[0.7777777777777778,\"#fb9f3a\"],[0.8888888888888888,\"#fdca26\"],[1.0,\"#f0f921\"]]}],\"heatmapgl\":[{\"type\":\"heatmapgl\",\"colorbar\":{\"outlinewidth\":0,\"ticks\":\"\"},\"colorscale\":[[0.0,\"#0d0887\"],[0.1111111111111111,\"#46039f\"],[0.2222222222222222,\"#7201a8\"],[0.3333333333333333,\"#9c179e\"],[0.4444444444444444,\"#bd3786\"],[0.5555555555555556,\"#d8576b\"],[0.6666666666666666,\"#ed7953\"],[0.7777777777777778,\"#fb9f3a\"],[0.8888888888888888,\"#fdca26\"],[1.0,\"#f0f921\"]]}],\"contourcarpet\":[{\"type\":\"contourcarpet\",\"colorbar\":{\"outlinewidth\":0,\"ticks\":\"\"}}],\"contour\":[{\"type\":\"contour\",\"colorbar\":{\"outlinewidth\":0,\"ticks\":\"\"},\"colorscale\":[[0.0,\"#0d0887\"],[0.1111111111111111,\"#46039f\"],[0.2222222222222222,\"#7201a8\"],[0.3333333333333333,\"#9c179e\"],[0.4444444444444444,\"#bd3786\"],[0.5555555555555556,\"#d8576b\"],[0.6666666666666666,\"#ed7953\"],[0.7777777777777778,\"#fb9f3a\"],[0.8888888888888888,\"#fdca26\"],[1.0,\"#f0f921\"]]}],\"surface\":[{\"type\":\"surface\",\"colorbar\":{\"outlinewidth\":0,\"ticks\":\"\"},\"colorscale\":[[0.0,\"#0d0887\"],[0.1111111111111111,\"#46039f\"],[0.2222222222222222,\"#7201a8\"],[0.3333333333333333,\"#9c179e\"],[0.4444444444444444,\"#bd3786\"],[0.5555555555555556,\"#d8576b\"],[0.6666666666666666,\"#ed7953\"],[0.7777777777777778,\"#fb9f3a\"],[0.8888888888888888,\"#fdca26\"],[1.0,\"#f0f921\"]]}],\"mesh3d\":[{\"type\":\"mesh3d\",\"colorbar\":{\"outlinewidth\":0,\"ticks\":\"\"}}],\"scatter\":[{\"fillpattern\":{\"fillmode\":\"overlay\",\"size\":10,\"solidity\":0.2},\"type\":\"scatter\"}],\"parcoords\":[{\"type\":\"parcoords\",\"line\":{\"colorbar\":{\"outlinewidth\":0,\"ticks\":\"\"}}}],\"scatterpolargl\":[{\"type\":\"scatterpolargl\",\"marker\":{\"colorbar\":{\"outlinewidth\":0,\"ticks\":\"\"}}}],\"bar\":[{\"error_x\":{\"color\":\"#2a3f5f\"},\"error_y\":{\"color\":\"#2a3f5f\"},\"marker\":{\"line\":{\"color\":\"#E5ECF6\",\"width\":0.5},\"pattern\":{\"fillmode\":\"overlay\",\"size\":10,\"solidity\":0.2}},\"type\":\"bar\"}],\"scattergeo\":[{\"type\":\"scattergeo\",\"marker\":{\"colorbar\":{\"outlinewidth\":0,\"ticks\":\"\"}}}],\"scatterpolar\":[{\"type\":\"scatterpolar\",\"marker\":{\"colorbar\":{\"outlinewidth\":0,\"ticks\":\"\"}}}],\"histogram\":[{\"marker\":{\"pattern\":{\"fillmode\":\"overlay\",\"size\":10,\"solidity\":0.2}},\"type\":\"histogram\"}],\"scattergl\":[{\"type\":\"scattergl\",\"marker\":{\"colorbar\":{\"outlinewidth\":0,\"ticks\":\"\"}}}],\"scatter3d\":[{\"type\":\"scatter3d\",\"line\":{\"colorbar\":{\"outlinewidth\":0,\"ticks\":\"\"}},\"marker\":{\"colorbar\":{\"outlinewidth\":0,\"ticks\":\"\"}}}],\"scattermapbox\":[{\"type\":\"scattermapbox\",\"marker\":{\"colorbar\":{\"outlinewidth\":0,\"ticks\":\"\"}}}],\"scatterternary\":[{\"type\":\"scatterternary\",\"marker\":{\"colorbar\":{\"outlinewidth\":0,\"ticks\":\"\"}}}],\"scattercarpet\":[{\"type\":\"scattercarpet\",\"marker\":{\"colorbar\":{\"outlinewidth\":0,\"ticks\":\"\"}}}],\"carpet\":[{\"aaxis\":{\"endlinecolor\":\"#2a3f5f\",\"gridcolor\":\"white\",\"linecolor\":\"white\",\"minorgridcolor\":\"white\",\"startlinecolor\":\"#2a3f5f\"},\"baxis\":{\"endlinecolor\":\"#2a3f5f\",\"gridcolor\":\"white\",\"linecolor\":\"white\",\"minorgridcolor\":\"white\",\"startlinecolor\":\"#2a3f5f\"},\"type\":\"carpet\"}],\"table\":[{\"cells\":{\"fill\":{\"color\":\"#EBF0F8\"},\"line\":{\"color\":\"white\"}},\"header\":{\"fill\":{\"color\":\"#C8D4E3\"},\"line\":{\"color\":\"white\"}},\"type\":\"table\"}],\"barpolar\":[{\"marker\":{\"line\":{\"color\":\"#E5ECF6\",\"width\":0.5},\"pattern\":{\"fillmode\":\"overlay\",\"size\":10,\"solidity\":0.2}},\"type\":\"barpolar\"}],\"pie\":[{\"automargin\":true,\"type\":\"pie\"}]},\"layout\":{\"autotypenumbers\":\"strict\",\"colorway\":[\"#636efa\",\"#EF553B\",\"#00cc96\",\"#ab63fa\",\"#FFA15A\",\"#19d3f3\",\"#FF6692\",\"#B6E880\",\"#FF97FF\",\"#FECB52\"],\"font\":{\"color\":\"#2a3f5f\"},\"hovermode\":\"closest\",\"hoverlabel\":{\"align\":\"left\"},\"paper_bgcolor\":\"white\",\"plot_bgcolor\":\"#E5ECF6\",\"polar\":{\"bgcolor\":\"#E5ECF6\",\"angularaxis\":{\"gridcolor\":\"white\",\"linecolor\":\"white\",\"ticks\":\"\"},\"radialaxis\":{\"gridcolor\":\"white\",\"linecolor\":\"white\",\"ticks\":\"\"}},\"ternary\":{\"bgcolor\":\"#E5ECF6\",\"aaxis\":{\"gridcolor\":\"white\",\"linecolor\":\"white\",\"ticks\":\"\"},\"baxis\":{\"gridcolor\":\"white\",\"linecolor\":\"white\",\"ticks\":\"\"},\"caxis\":{\"gridcolor\":\"white\",\"linecolor\":\"white\",\"ticks\":\"\"}},\"coloraxis\":{\"colorbar\":{\"outlinewidth\":0,\"ticks\":\"\"}},\"colorscale\":{\"sequential\":[[0.0,\"#0d0887\"],[0.1111111111111111,\"#46039f\"],[0.2222222222222222,\"#7201a8\"],[0.3333333333333333,\"#9c179e\"],[0.4444444444444444,\"#bd3786\"],[0.5555555555555556,\"#d8576b\"],[0.6666666666666666,\"#ed7953\"],[0.7777777777777778,\"#fb9f3a\"],[0.8888888888888888,\"#fdca26\"],[1.0,\"#f0f921\"]],\"sequentialminus\":[[0.0,\"#0d0887\"],[0.1111111111111111,\"#46039f\"],[0.2222222222222222,\"#7201a8\"],[0.3333333333333333,\"#9c179e\"],[0.4444444444444444,\"#bd3786\"],[0.5555555555555556,\"#d8576b\"],[0.6666666666666666,\"#ed7953\"],[0.7777777777777778,\"#fb9f3a\"],[0.8888888888888888,\"#fdca26\"],[1.0,\"#f0f921\"]],\"diverging\":[[0,\"#8e0152\"],[0.1,\"#c51b7d\"],[0.2,\"#de77ae\"],[0.3,\"#f1b6da\"],[0.4,\"#fde0ef\"],[0.5,\"#f7f7f7\"],[0.6,\"#e6f5d0\"],[0.7,\"#b8e186\"],[0.8,\"#7fbc41\"],[0.9,\"#4d9221\"],[1,\"#276419\"]]},\"xaxis\":{\"gridcolor\":\"white\",\"linecolor\":\"white\",\"ticks\":\"\",\"title\":{\"standoff\":15},\"zerolinecolor\":\"white\",\"automargin\":true,\"zerolinewidth\":2},\"yaxis\":{\"gridcolor\":\"white\",\"linecolor\":\"white\",\"ticks\":\"\",\"title\":{\"standoff\":15},\"zerolinecolor\":\"white\",\"automargin\":true,\"zerolinewidth\":2},\"scene\":{\"xaxis\":{\"backgroundcolor\":\"#E5ECF6\",\"gridcolor\":\"white\",\"linecolor\":\"white\",\"showbackground\":true,\"ticks\":\"\",\"zerolinecolor\":\"white\",\"gridwidth\":2},\"yaxis\":{\"backgroundcolor\":\"#E5ECF6\",\"gridcolor\":\"white\",\"linecolor\":\"white\",\"showbackground\":true,\"ticks\":\"\",\"zerolinecolor\":\"white\",\"gridwidth\":2},\"zaxis\":{\"backgroundcolor\":\"#E5ECF6\",\"gridcolor\":\"white\",\"linecolor\":\"white\",\"showbackground\":true,\"ticks\":\"\",\"zerolinecolor\":\"white\",\"gridwidth\":2}},\"shapedefaults\":{\"line\":{\"color\":\"#2a3f5f\"}},\"annotationdefaults\":{\"arrowcolor\":\"#2a3f5f\",\"arrowhead\":0,\"arrowwidth\":1},\"geo\":{\"bgcolor\":\"white\",\"landcolor\":\"#E5ECF6\",\"subunitcolor\":\"white\",\"showland\":true,\"showlakes\":true,\"lakecolor\":\"white\"},\"title\":{\"x\":0.05},\"mapbox\":{\"style\":\"light\"}}},\"xaxis\":{\"anchor\":\"y\",\"domain\":[0.0,1.0],\"title\":{\"text\":\"cgpa\"}},\"yaxis\":{\"anchor\":\"x\",\"domain\":[0.0,1.0]},\"legend\":{\"tracegroupgap\":0},\"margin\":{\"t\":60},\"boxmode\":\"group\"},                        {\"responsive\": true}                    ).then(function(){\n",
              "                            \n",
              "var gd = document.getElementById('9a791ef3-fd1f-4c29-ae58-53040efc67a2');\n",
              "var x = new MutationObserver(function (mutations, observer) {{\n",
              "        var display = window.getComputedStyle(gd).display;\n",
              "        if (!display || display === 'none') {{\n",
              "            console.log([gd, 'removed!']);\n",
              "            Plotly.purge(gd);\n",
              "            observer.disconnect();\n",
              "        }}\n",
              "}});\n",
              "\n",
              "// Listen for the removal of the full notebook cells\n",
              "var notebookContainer = gd.closest('#notebook-container');\n",
              "if (notebookContainer) {{\n",
              "    x.observe(notebookContainer, {childList: true});\n",
              "}}\n",
              "\n",
              "// Listen for the clearing of the current output cell\n",
              "var outputEl = gd.closest('.output');\n",
              "if (outputEl) {{\n",
              "    x.observe(outputEl, {childList: true});\n",
              "}}\n",
              "\n",
              "                        })                };                            </script>        </div>\n",
              "</body>\n",
              "</html>"
            ]
          },
          "metadata": {}
        }
      ]
    },
    {
      "cell_type": "code",
      "source": [
        "#clapping\n",
        "df['cgpa']=np.where(df['cgpa']<lower_limit,lower_limit,np.where(df['cgpa']>upper_limit,upper_limit,df['cgpa']))"
      ],
      "metadata": {
        "id": "g7-BOeDna_oU"
      },
      "execution_count": 38,
      "outputs": []
    },
    {
      "cell_type": "code",
      "source": [
        "px.box(df,x='cgpa')"
      ],
      "metadata": {
        "id": "zuLU4smieXwY",
        "outputId": "ee0443fa-eef5-49a3-f020-569df4b9a42d",
        "colab": {
          "base_uri": "https://localhost:8080/",
          "height": 542
        }
      },
      "execution_count": 39,
      "outputs": [
        {
          "output_type": "display_data",
          "data": {
            "text/html": [
              "<html>\n",
              "<head><meta charset=\"utf-8\" /></head>\n",
              "<body>\n",
              "    <div>            <script src=\"https://cdnjs.cloudflare.com/ajax/libs/mathjax/2.7.5/MathJax.js?config=TeX-AMS-MML_SVG\"></script><script type=\"text/javascript\">if (window.MathJax && window.MathJax.Hub && window.MathJax.Hub.Config) {window.MathJax.Hub.Config({SVG: {font: \"STIX-Web\"}});}</script>                <script type=\"text/javascript\">window.PlotlyConfig = {MathJaxConfig: 'local'};</script>\n",
              "        <script charset=\"utf-8\" src=\"https://cdn.plot.ly/plotly-2.24.1.min.js\"></script>                <div id=\"159fbebe-8781-47ee-a330-1e4d4e7e6091\" class=\"plotly-graph-div\" style=\"height:525px; width:100%;\"></div>            <script type=\"text/javascript\">                                    window.PLOTLYENV=window.PLOTLYENV || {};                                    if (document.getElementById(\"159fbebe-8781-47ee-a330-1e4d4e7e6091\")) {                    Plotly.newPlot(                        \"159fbebe-8781-47ee-a330-1e4d4e7e6091\",                        [{\"alignmentgroup\":\"True\",\"hovertemplate\":\"cgpa=%{x}\\u003cextra\\u003e\\u003c\\u002fextra\\u003e\",\"legendgroup\":\"\",\"marker\":{\"color\":\"#636efa\"},\"name\":\"\",\"notched\":false,\"offsetgroup\":\"\",\"orientation\":\"h\",\"showlegend\":false,\"x\":[7.19,7.46,7.54,6.42,7.23,7.3,6.69,7.12,6.45,7.75,6.82,6.38,6.58,5.68,7.91,7.1,6.53,7.56,6.93,7.63,6.69,7.43,6.76,6.05,6.44,6.28,7.45,6.53,7.23,6.51,7.46,7.66,5.91,6.23,8.15,7.48,6.85,8.51,6.58,7.25,6.6,6.7,7.46,7.85,7.88,6.92,7.3,6.92,6.29,8.23,6.2,6.24,7.53,6.69,8.42,8.12,6.93,7.73,7.34,7.7,7.94,7.51,7.61,6.22,6.98,6.27,6.67,8.04,6.58,7.41,6.98,6.13,7.9,6.39,6.16,6.77,8.35,7.1,8.2,7.63,6.87,7.12,7.22,7.38,5.65,6.03,7.19,6.96,6.78,6.56,7.61,7.42,6.48,7.0,7.15,6.89,7.09,7.33,8.12,7.46,6.56,6.48,5.92,6.44,6.82,6.72,6.59,7.32,5.94,7.23,6.96,6.48,7.23,7.24,6.3,7.28,7.16,7.11,6.9,7.0,6.99,5.91,5.97,6.25,6.2,7.46,7.16,6.95,6.76,6.81,5.91,8.19,7.71,7.65,6.33,6.63,7.28,5.69,7.53,8.09,6.85,7.19,7.66,6.32,6.67,7.08,6.75,6.68,6.86,6.81,8.53,7.29,7.78,6.29,7.57,7.84,6.4,7.07,5.74,6.7,7.36,6.26,7.8,6.77,6.29,7.53,7.76,6.65,6.51,6.19,6.17,6.2,7.24,6.71,7.31,7.57,7.72,6.22,7.51,6.4,7.18,7.3,6.87,6.11,7.78,7.3,6.97,6.63,5.92,6.63,7.54,6.63,6.67,6.31,8.19,6.71,7.28,6.75,8.29,7.43,5.77,6.67,6.51,7.93,7.01,6.99,7.5,7.05,7.25,6.88,6.58,7.36,6.23,6.62,7.42,7.72,5.42,6.92,6.62,5.48,7.75,6.78,6.97,6.15,7.15,7.36,6.79,7.03,7.61,6.68,7.12,6.4,7.77,7.25,8.09,7.2,7.7,7.14,7.41,6.71,7.25,7.22,5.99,6.78,7.68,6.78,7.67,6.25,6.9,7.46,7.4,6.46,6.24,6.98,6.7,7.76,7.37,5.74,6.12,7.16,5.66,7.17,7.19,8.11,7.82,6.94,7.73,6.0,7.38,6.47,6.8,7.64,6.23,7.0,7.13,8.03,6.96,6.45,5.319999999999999,8.49,6.62,7.68,6.43,7.09,6.99,7.42,6.29,6.24,7.07,6.73,8.38,7.46,5.82,6.97,6.12,6.02,6.99,7.03,6.16,6.75,7.36,7.84,7.95,7.35,7.12,6.67,6.86,7.47,7.2,7.46,5.56,6.97,7.02,6.51,7.43,7.96,7.07,7.47,6.74,7.53,7.18,6.82,6.77,6.6,6.64,6.65,7.54,8.21,7.4,7.3,6.68,6.12,7.03,6.74,6.56,6.9,7.93,6.95,7.45,7.32,7.45,7.41,6.37,7.2,7.2,6.26,7.31,7.24,6.13,8.12,7.21,6.92,6.51,6.82,6.73,6.42,5.91,7.92,6.74,7.61,7.24,6.37,7.25,7.61,6.87,7.07,6.78,6.41,7.09,6.69,5.7,5.9,5.95,5.58,7.34,7.31,6.25,6.7,7.27,7.37,7.12,6.17,7.55,7.26,7.03,7.33,7.63,7.25,7.28,5.9,6.63,7.77,6.76,6.6,7.94,7.29,7.28,7.55,7.55,5.74,6.0,6.74,6.08,6.71,8.02,6.6,7.14,8.23,7.8,6.92,7.36,6.04,6.5,6.65,7.3,6.37,7.51,6.9,6.3,6.22,7.59,6.29,7.09,8.27,6.91,7.45,7.26,6.17,7.89,7.35,7.22,7.64,6.67,5.77,7.01,7.45,6.31,6.73,7.31,6.67,8.56,7.8,7.08,6.92,6.66,5.56,6.6,6.5,6.32,6.21,6.44,5.94,6.59,7.31,7.13,6.92,6.76,6.58,7.13,6.62,6.91,7.39,6.71,6.82,6.28,7.65,6.45,6.65,6.73,5.86,6.46,5.48,6.19,6.38,7.11,7.38,6.83,5.78,7.32,6.38,6.8,7.33,7.56,7.93,5.81,5.319999999999999,7.67,6.95,6.75,7.24,7.34,7.77,8.5,6.8,6.83,6.95,7.52,6.8,6.89,6.42,6.07,6.52,7.18,6.97,7.24,6.48,7.84,6.77,6.41,7.83,6.84,7.53,7.08,6.43,7.36,7.75,6.83,6.37,7.53,6.6,7.39,5.72,6.71,6.13,6.85,6.33,7.12,7.72,6.9,7.19,6.28,7.0,6.9,7.19,6.05,6.49,6.87,7.13,7.58,6.79,6.37,6.11,7.06,7.48,7.11,6.35,6.75,7.33,7.48,7.37,6.62,6.55,6.4,7.46,6.84,6.46,6.7,6.47,7.28,6.61,7.11,7.07,6.06,6.81,7.17,6.61,6.03,6.18,8.13,7.08,7.04,6.47,7.66,7.23,6.54,7.55,6.12,6.85,7.52,7.13,7.9,6.57,7.05,7.1,6.57,7.85,6.58,7.58,6.38,6.6,6.68,7.89,7.09,6.55,6.95,6.13,8.48,7.85,7.59,7.02,6.24,6.89,7.16,6.55,6.89,6.64,6.79,7.76,7.33,6.55,7.32,7.2,6.14,6.66,8.05,6.51,7.09,7.08,6.7,6.81,7.07,7.85,7.4,7.35,7.35,7.6,7.63,6.31,7.12,8.15,6.56,7.26,6.37,6.63,7.69,6.69,6.39,7.25,7.46,6.42,6.36,7.49,7.89,7.59,7.65,6.75,7.38,6.69,7.15,7.6,6.19,6.57,7.6,6.93,7.03,7.36,7.39,7.6,7.57,6.68,5.97,5.72,7.38,7.05,7.23,6.16,7.64,7.17,7.24,6.94,7.51,7.45,7.75,6.87,6.73,6.1,6.73,6.75,6.65,6.7,7.35,6.78,6.34,6.5,8.02,6.05,7.15,6.81,6.59,8.02,7.01,7.32,6.95,6.64,7.12,6.75,6.94,7.23,7.27,6.64,6.82,6.74,6.24,7.04,6.91,6.55,7.11,6.86,7.91,6.97,7.56,6.97,6.35,7.8,7.06,7.41,7.06,6.49,7.12,7.17,6.87,6.98,6.86,7.35,7.95,6.34,7.93,7.0,6.63,6.79,6.14,6.74,7.26,7.07,6.77,7.23,6.86,6.52,7.04,6.34,6.21,7.58,6.79,7.62,7.49,6.82,6.72,6.26,7.02,7.31,6.43,6.69,7.37,6.87,7.91,6.94,7.41,6.84,6.55,6.55,7.13,8.02,6.79,7.16,6.47,6.55,7.17,7.33,6.55,6.68,7.33,7.31,6.63,8.06,6.93,6.76,7.08,7.67,6.98,6.39,5.62,7.17,7.65,6.23,6.19,6.07,7.5,7.02,6.54,6.46,7.48,7.65,7.92,7.23,6.24,7.0,6.02,8.14,5.86,6.89,6.5,6.31,6.1,7.19,6.49,6.23,6.39,7.16,7.68,6.39,7.14,8.04,5.99,7.43,7.78,5.319999999999999,7.19,7.84,5.52,6.93,6.27,6.1,7.33,6.67,7.48,6.3,7.05,6.46,6.44,6.87,6.46,6.81,6.91,7.29,6.22,6.67,7.09,6.65,6.84,6.44,6.89,7.45,7.33,6.31,7.62,5.98,6.99,7.2,7.2,7.89,8.39,6.29,6.54,7.74,5.83,7.89,7.52,5.72,7.51,6.52,7.51,6.32,6.04,8.04,6.32,6.77,7.29,8.04,7.33,5.51,6.67,6.56,6.95,7.9,6.6,5.73,6.33,6.32,6.98,6.83,6.4,7.72,7.25,7.98,7.11,7.13,7.22,7.19,7.62,7.39,7.73,7.42,5.96,7.07,6.5,7.82,5.73,7.13,7.14,7.62,6.08,7.1,7.03,7.56,7.36,7.08,7.56,7.03,6.06,6.57,7.82,7.45,7.48,6.78,6.97,6.88,6.88,5.95,7.09,6.59,7.97,6.91,7.68,6.52,6.85,6.91,7.02,7.37,6.63,6.89,6.94,7.19,6.89,6.01,7.15,8.12,7.32,6.42,6.27,6.98,6.16,7.18,7.03,7.36,7.21,6.71,7.95,6.49,6.38,7.94,6.65,7.52,7.71,6.91,8.0,7.2,6.86,6.51,7.43,6.76,6.81,7.65,7.09,6.74,8.09,7.37,6.24,7.35,6.84,6.86,7.28,6.69,7.02,6.1,6.42,8.43,6.96,7.18,6.78,7.0,6.18,8.06,6.87,6.81,6.89,7.1,7.09,6.77,5.64,6.23,6.17,7.04,6.26,6.73,6.48,8.600000000000001,8.600000000000001,5.319999999999999,8.600000000000001,5.319999999999999],\"x0\":\" \",\"xaxis\":\"x\",\"y0\":\" \",\"yaxis\":\"y\",\"type\":\"box\"}],                        {\"template\":{\"data\":{\"histogram2dcontour\":[{\"type\":\"histogram2dcontour\",\"colorbar\":{\"outlinewidth\":0,\"ticks\":\"\"},\"colorscale\":[[0.0,\"#0d0887\"],[0.1111111111111111,\"#46039f\"],[0.2222222222222222,\"#7201a8\"],[0.3333333333333333,\"#9c179e\"],[0.4444444444444444,\"#bd3786\"],[0.5555555555555556,\"#d8576b\"],[0.6666666666666666,\"#ed7953\"],[0.7777777777777778,\"#fb9f3a\"],[0.8888888888888888,\"#fdca26\"],[1.0,\"#f0f921\"]]}],\"choropleth\":[{\"type\":\"choropleth\",\"colorbar\":{\"outlinewidth\":0,\"ticks\":\"\"}}],\"histogram2d\":[{\"type\":\"histogram2d\",\"colorbar\":{\"outlinewidth\":0,\"ticks\":\"\"},\"colorscale\":[[0.0,\"#0d0887\"],[0.1111111111111111,\"#46039f\"],[0.2222222222222222,\"#7201a8\"],[0.3333333333333333,\"#9c179e\"],[0.4444444444444444,\"#bd3786\"],[0.5555555555555556,\"#d8576b\"],[0.6666666666666666,\"#ed7953\"],[0.7777777777777778,\"#fb9f3a\"],[0.8888888888888888,\"#fdca26\"],[1.0,\"#f0f921\"]]}],\"heatmap\":[{\"type\":\"heatmap\",\"colorbar\":{\"outlinewidth\":0,\"ticks\":\"\"},\"colorscale\":[[0.0,\"#0d0887\"],[0.1111111111111111,\"#46039f\"],[0.2222222222222222,\"#7201a8\"],[0.3333333333333333,\"#9c179e\"],[0.4444444444444444,\"#bd3786\"],[0.5555555555555556,\"#d8576b\"],[0.6666666666666666,\"#ed7953\"],[0.7777777777777778,\"#fb9f3a\"],[0.8888888888888888,\"#fdca26\"],[1.0,\"#f0f921\"]]}],\"heatmapgl\":[{\"type\":\"heatmapgl\",\"colorbar\":{\"outlinewidth\":0,\"ticks\":\"\"},\"colorscale\":[[0.0,\"#0d0887\"],[0.1111111111111111,\"#46039f\"],[0.2222222222222222,\"#7201a8\"],[0.3333333333333333,\"#9c179e\"],[0.4444444444444444,\"#bd3786\"],[0.5555555555555556,\"#d8576b\"],[0.6666666666666666,\"#ed7953\"],[0.7777777777777778,\"#fb9f3a\"],[0.8888888888888888,\"#fdca26\"],[1.0,\"#f0f921\"]]}],\"contourcarpet\":[{\"type\":\"contourcarpet\",\"colorbar\":{\"outlinewidth\":0,\"ticks\":\"\"}}],\"contour\":[{\"type\":\"contour\",\"colorbar\":{\"outlinewidth\":0,\"ticks\":\"\"},\"colorscale\":[[0.0,\"#0d0887\"],[0.1111111111111111,\"#46039f\"],[0.2222222222222222,\"#7201a8\"],[0.3333333333333333,\"#9c179e\"],[0.4444444444444444,\"#bd3786\"],[0.5555555555555556,\"#d8576b\"],[0.6666666666666666,\"#ed7953\"],[0.7777777777777778,\"#fb9f3a\"],[0.8888888888888888,\"#fdca26\"],[1.0,\"#f0f921\"]]}],\"surface\":[{\"type\":\"surface\",\"colorbar\":{\"outlinewidth\":0,\"ticks\":\"\"},\"colorscale\":[[0.0,\"#0d0887\"],[0.1111111111111111,\"#46039f\"],[0.2222222222222222,\"#7201a8\"],[0.3333333333333333,\"#9c179e\"],[0.4444444444444444,\"#bd3786\"],[0.5555555555555556,\"#d8576b\"],[0.6666666666666666,\"#ed7953\"],[0.7777777777777778,\"#fb9f3a\"],[0.8888888888888888,\"#fdca26\"],[1.0,\"#f0f921\"]]}],\"mesh3d\":[{\"type\":\"mesh3d\",\"colorbar\":{\"outlinewidth\":0,\"ticks\":\"\"}}],\"scatter\":[{\"fillpattern\":{\"fillmode\":\"overlay\",\"size\":10,\"solidity\":0.2},\"type\":\"scatter\"}],\"parcoords\":[{\"type\":\"parcoords\",\"line\":{\"colorbar\":{\"outlinewidth\":0,\"ticks\":\"\"}}}],\"scatterpolargl\":[{\"type\":\"scatterpolargl\",\"marker\":{\"colorbar\":{\"outlinewidth\":0,\"ticks\":\"\"}}}],\"bar\":[{\"error_x\":{\"color\":\"#2a3f5f\"},\"error_y\":{\"color\":\"#2a3f5f\"},\"marker\":{\"line\":{\"color\":\"#E5ECF6\",\"width\":0.5},\"pattern\":{\"fillmode\":\"overlay\",\"size\":10,\"solidity\":0.2}},\"type\":\"bar\"}],\"scattergeo\":[{\"type\":\"scattergeo\",\"marker\":{\"colorbar\":{\"outlinewidth\":0,\"ticks\":\"\"}}}],\"scatterpolar\":[{\"type\":\"scatterpolar\",\"marker\":{\"colorbar\":{\"outlinewidth\":0,\"ticks\":\"\"}}}],\"histogram\":[{\"marker\":{\"pattern\":{\"fillmode\":\"overlay\",\"size\":10,\"solidity\":0.2}},\"type\":\"histogram\"}],\"scattergl\":[{\"type\":\"scattergl\",\"marker\":{\"colorbar\":{\"outlinewidth\":0,\"ticks\":\"\"}}}],\"scatter3d\":[{\"type\":\"scatter3d\",\"line\":{\"colorbar\":{\"outlinewidth\":0,\"ticks\":\"\"}},\"marker\":{\"colorbar\":{\"outlinewidth\":0,\"ticks\":\"\"}}}],\"scattermapbox\":[{\"type\":\"scattermapbox\",\"marker\":{\"colorbar\":{\"outlinewidth\":0,\"ticks\":\"\"}}}],\"scatterternary\":[{\"type\":\"scatterternary\",\"marker\":{\"colorbar\":{\"outlinewidth\":0,\"ticks\":\"\"}}}],\"scattercarpet\":[{\"type\":\"scattercarpet\",\"marker\":{\"colorbar\":{\"outlinewidth\":0,\"ticks\":\"\"}}}],\"carpet\":[{\"aaxis\":{\"endlinecolor\":\"#2a3f5f\",\"gridcolor\":\"white\",\"linecolor\":\"white\",\"minorgridcolor\":\"white\",\"startlinecolor\":\"#2a3f5f\"},\"baxis\":{\"endlinecolor\":\"#2a3f5f\",\"gridcolor\":\"white\",\"linecolor\":\"white\",\"minorgridcolor\":\"white\",\"startlinecolor\":\"#2a3f5f\"},\"type\":\"carpet\"}],\"table\":[{\"cells\":{\"fill\":{\"color\":\"#EBF0F8\"},\"line\":{\"color\":\"white\"}},\"header\":{\"fill\":{\"color\":\"#C8D4E3\"},\"line\":{\"color\":\"white\"}},\"type\":\"table\"}],\"barpolar\":[{\"marker\":{\"line\":{\"color\":\"#E5ECF6\",\"width\":0.5},\"pattern\":{\"fillmode\":\"overlay\",\"size\":10,\"solidity\":0.2}},\"type\":\"barpolar\"}],\"pie\":[{\"automargin\":true,\"type\":\"pie\"}]},\"layout\":{\"autotypenumbers\":\"strict\",\"colorway\":[\"#636efa\",\"#EF553B\",\"#00cc96\",\"#ab63fa\",\"#FFA15A\",\"#19d3f3\",\"#FF6692\",\"#B6E880\",\"#FF97FF\",\"#FECB52\"],\"font\":{\"color\":\"#2a3f5f\"},\"hovermode\":\"closest\",\"hoverlabel\":{\"align\":\"left\"},\"paper_bgcolor\":\"white\",\"plot_bgcolor\":\"#E5ECF6\",\"polar\":{\"bgcolor\":\"#E5ECF6\",\"angularaxis\":{\"gridcolor\":\"white\",\"linecolor\":\"white\",\"ticks\":\"\"},\"radialaxis\":{\"gridcolor\":\"white\",\"linecolor\":\"white\",\"ticks\":\"\"}},\"ternary\":{\"bgcolor\":\"#E5ECF6\",\"aaxis\":{\"gridcolor\":\"white\",\"linecolor\":\"white\",\"ticks\":\"\"},\"baxis\":{\"gridcolor\":\"white\",\"linecolor\":\"white\",\"ticks\":\"\"},\"caxis\":{\"gridcolor\":\"white\",\"linecolor\":\"white\",\"ticks\":\"\"}},\"coloraxis\":{\"colorbar\":{\"outlinewidth\":0,\"ticks\":\"\"}},\"colorscale\":{\"sequential\":[[0.0,\"#0d0887\"],[0.1111111111111111,\"#46039f\"],[0.2222222222222222,\"#7201a8\"],[0.3333333333333333,\"#9c179e\"],[0.4444444444444444,\"#bd3786\"],[0.5555555555555556,\"#d8576b\"],[0.6666666666666666,\"#ed7953\"],[0.7777777777777778,\"#fb9f3a\"],[0.8888888888888888,\"#fdca26\"],[1.0,\"#f0f921\"]],\"sequentialminus\":[[0.0,\"#0d0887\"],[0.1111111111111111,\"#46039f\"],[0.2222222222222222,\"#7201a8\"],[0.3333333333333333,\"#9c179e\"],[0.4444444444444444,\"#bd3786\"],[0.5555555555555556,\"#d8576b\"],[0.6666666666666666,\"#ed7953\"],[0.7777777777777778,\"#fb9f3a\"],[0.8888888888888888,\"#fdca26\"],[1.0,\"#f0f921\"]],\"diverging\":[[0,\"#8e0152\"],[0.1,\"#c51b7d\"],[0.2,\"#de77ae\"],[0.3,\"#f1b6da\"],[0.4,\"#fde0ef\"],[0.5,\"#f7f7f7\"],[0.6,\"#e6f5d0\"],[0.7,\"#b8e186\"],[0.8,\"#7fbc41\"],[0.9,\"#4d9221\"],[1,\"#276419\"]]},\"xaxis\":{\"gridcolor\":\"white\",\"linecolor\":\"white\",\"ticks\":\"\",\"title\":{\"standoff\":15},\"zerolinecolor\":\"white\",\"automargin\":true,\"zerolinewidth\":2},\"yaxis\":{\"gridcolor\":\"white\",\"linecolor\":\"white\",\"ticks\":\"\",\"title\":{\"standoff\":15},\"zerolinecolor\":\"white\",\"automargin\":true,\"zerolinewidth\":2},\"scene\":{\"xaxis\":{\"backgroundcolor\":\"#E5ECF6\",\"gridcolor\":\"white\",\"linecolor\":\"white\",\"showbackground\":true,\"ticks\":\"\",\"zerolinecolor\":\"white\",\"gridwidth\":2},\"yaxis\":{\"backgroundcolor\":\"#E5ECF6\",\"gridcolor\":\"white\",\"linecolor\":\"white\",\"showbackground\":true,\"ticks\":\"\",\"zerolinecolor\":\"white\",\"gridwidth\":2},\"zaxis\":{\"backgroundcolor\":\"#E5ECF6\",\"gridcolor\":\"white\",\"linecolor\":\"white\",\"showbackground\":true,\"ticks\":\"\",\"zerolinecolor\":\"white\",\"gridwidth\":2}},\"shapedefaults\":{\"line\":{\"color\":\"#2a3f5f\"}},\"annotationdefaults\":{\"arrowcolor\":\"#2a3f5f\",\"arrowhead\":0,\"arrowwidth\":1},\"geo\":{\"bgcolor\":\"white\",\"landcolor\":\"#E5ECF6\",\"subunitcolor\":\"white\",\"showland\":true,\"showlakes\":true,\"lakecolor\":\"white\"},\"title\":{\"x\":0.05},\"mapbox\":{\"style\":\"light\"}}},\"xaxis\":{\"anchor\":\"y\",\"domain\":[0.0,1.0],\"title\":{\"text\":\"cgpa\"}},\"yaxis\":{\"anchor\":\"x\",\"domain\":[0.0,1.0]},\"legend\":{\"tracegroupgap\":0},\"margin\":{\"t\":60},\"boxmode\":\"group\"},                        {\"responsive\": true}                    ).then(function(){\n",
              "                            \n",
              "var gd = document.getElementById('159fbebe-8781-47ee-a330-1e4d4e7e6091');\n",
              "var x = new MutationObserver(function (mutations, observer) {{\n",
              "        var display = window.getComputedStyle(gd).display;\n",
              "        if (!display || display === 'none') {{\n",
              "            console.log([gd, 'removed!']);\n",
              "            Plotly.purge(gd);\n",
              "            observer.disconnect();\n",
              "        }}\n",
              "}});\n",
              "\n",
              "// Listen for the removal of the full notebook cells\n",
              "var notebookContainer = gd.closest('#notebook-container');\n",
              "if (notebookContainer) {{\n",
              "    x.observe(notebookContainer, {childList: true});\n",
              "}}\n",
              "\n",
              "// Listen for the clearing of the current output cell\n",
              "var outputEl = gd.closest('.output');\n",
              "if (outputEl) {{\n",
              "    x.observe(outputEl, {childList: true});\n",
              "}}\n",
              "\n",
              "                        })                };                            </script>        </div>\n",
              "</body>\n",
              "</html>"
            ]
          },
          "metadata": {}
        }
      ]
    },
    {
      "cell_type": "markdown",
      "source": [
        "Percentile methpd"
      ],
      "metadata": {
        "id": "EaG1drb0esZ8"
      }
    },
    {
      "cell_type": "code",
      "source": [
        "px.box(df,x='placement_exam_marks')"
      ],
      "metadata": {
        "id": "p-ZRQ4ZMfTXi",
        "outputId": "d87dd9e5-971b-42ad-b783-e00e38d237af",
        "colab": {
          "base_uri": "https://localhost:8080/",
          "height": 542
        }
      },
      "execution_count": 44,
      "outputs": [
        {
          "output_type": "display_data",
          "data": {
            "text/html": [
              "<html>\n",
              "<head><meta charset=\"utf-8\" /></head>\n",
              "<body>\n",
              "    <div>            <script src=\"https://cdnjs.cloudflare.com/ajax/libs/mathjax/2.7.5/MathJax.js?config=TeX-AMS-MML_SVG\"></script><script type=\"text/javascript\">if (window.MathJax && window.MathJax.Hub && window.MathJax.Hub.Config) {window.MathJax.Hub.Config({SVG: {font: \"STIX-Web\"}});}</script>                <script type=\"text/javascript\">window.PlotlyConfig = {MathJaxConfig: 'local'};</script>\n",
              "        <script charset=\"utf-8\" src=\"https://cdn.plot.ly/plotly-2.24.1.min.js\"></script>                <div id=\"185e9a1d-f49f-4a2f-8d59-7881c3fd5cc1\" class=\"plotly-graph-div\" style=\"height:525px; width:100%;\"></div>            <script type=\"text/javascript\">                                    window.PLOTLYENV=window.PLOTLYENV || {};                                    if (document.getElementById(\"185e9a1d-f49f-4a2f-8d59-7881c3fd5cc1\")) {                    Plotly.newPlot(                        \"185e9a1d-f49f-4a2f-8d59-7881c3fd5cc1\",                        [{\"alignmentgroup\":\"True\",\"hovertemplate\":\"placement_exam_marks=%{x}\\u003cextra\\u003e\\u003c\\u002fextra\\u003e\",\"legendgroup\":\"\",\"marker\":{\"color\":\"#636efa\"},\"name\":\"\",\"notched\":false,\"offsetgroup\":\"\",\"orientation\":\"h\",\"showlegend\":false,\"x\":[26.0,38.0,40.0,8.0,17.0,23.0,11.0,39.0,38.0,94.0,16.0,7.0,16.0,26.0,43.0,21.0,19.0,22.0,27.0,29.0,47.0,33.0,54.0,11.0,11.0,58.0,8.0,46.0,19.0,15.0,16.0,44.0,11.0,27.0,9.0,12.0,16.0,9.0,20.0,17.0,86.0,38.0,71.0,63.0,55.0,10.0,15.0,46.0,42.0,28.0,18.0,28.0,27.0,33.0,36.0,15.0,15.0,24.0,43.0,32.0,31.0,86.0,22.0,26.0,52.0,28.0,31.0,18.0,30.0,44.0,17.0,20.0,19.0,12.0,3.0,56.0,12.0,28.0,12.0,19.0,46.0,44.0,12.0,20.0,35.0,28.0,22.0,19.0,39.0,17.0,15.0,6.0,63.0,30.0,21.0,35.0,28.0,52.0,76.0,23.0,46.0,26.0,22.0,18.0,47.0,12.0,22.0,9.0,10.0,21.0,31.0,33.0,15.0,10.0,77.0,37.0,21.0,0.0,54.0,39.0,46.0,27.0,51.0,52.0,30.0,55.0,37.0,23.0,25.0,39.0,53.0,19.0,18.0,64.0,93.0,47.0,15.0,53.0,8.0,5.0,22.0,18.0,41.0,33.0,17.0,28.0,22.0,11.0,49.0,58.0,22.0,16.0,56.0,10.0,54.0,12.0,34.0,81.0,50.0,22.0,10.0,52.0,90.0,42.0,34.0,7.0,59.0,48.0,37.0,16.0,37.0,38.0,43.0,48.0,21.0,26.0,30.0,40.0,39.0,45.0,29.0,42.0,76.0,18.0,33.0,31.0,63.0,10.0,55.0,9.0,23.0,8.0,38.0,14.0,33.0,44.0,34.0,27.0,44.0,25.0,22.0,15.0,48.0,52.0,5.0,47.0,25.0,16.0,12.0,35.0,19.0,14.0,57.0,19.0,60.0,22.0,36.0,16.0,52.0,3.0,16.0,24.0,78.0,11.0,19.0,13.0,21.0,19.0,15.0,13.0,14.0,35.0,34.0,41.0,36.0,52.0,36.0,52.0,78.0,16.0,38.0,18.0,44.0,55.0,44.0,62.0,26.0,49.0,44.0,52.0,13.0,45.0,54.0,76.0,64.0,10.0,48.0,76.0,6.0,10.0,57.0,11.0,10.0,50.0,28.0,57.0,50.0,65.0,21.0,16.0,16.0,21.0,56.0,9.0,4.0,39.0,46.0,15.0,17.0,40.0,55.0,22.0,44.0,87.0,62.0,57.0,58.0,24.0,21.0,9.0,87.0,14.0,41.0,11.0,17.0,64.0,19.0,32.0,48.0,15.0,52.0,5.0,34.0,56.0,33.0,32.0,19.0,28.0,47.0,31.0,50.0,87.0,55.0,18.0,14.0,37.0,38.0,19.0,60.0,13.0,51.0,47.0,38.0,38.0,90.0,13.0,13.0,56.0,28.0,35.0,16.0,22.0,39.0,20.0,19.0,17.0,9.0,68.0,46.0,18.0,51.0,8.0,23.0,70.0,26.0,13.0,33.0,34.0,17.0,16.0,70.0,10.0,4.0,28.0,23.0,18.0,50.0,42.0,52.0,40.0,33.0,37.0,21.0,13.0,9.0,25.0,42.0,30.0,32.0,36.0,79.0,29.0,8.0,41.0,41.0,31.0,60.0,47.0,25.0,65.0,31.0,53.0,61.0,4.0,33.0,21.0,43.0,7.0,23.0,16.0,16.0,66.0,35.0,18.0,18.0,11.0,10.0,63.0,48.0,43.0,33.0,22.0,34.0,83.0,35.0,32.0,17.0,20.0,24.0,24.0,37.0,66.0,45.0,28.0,36.0,46.0,55.0,19.0,29.0,46.0,49.0,46.0,19.0,26.0,30.0,15.0,21.0,39.0,46.0,55.0,19.0,21.0,26.0,11.0,5.0,37.0,19.0,22.0,7.0,10.0,22.0,15.0,48.0,77.0,14.0,10.0,23.0,17.0,31.0,37.0,31.0,31.0,42.0,24.0,53.0,43.0,12.0,20.0,47.0,79.0,4.0,12.0,9.0,49.0,37.0,49.0,16.0,7.0,70.0,46.0,28.0,18.0,38.0,25.0,25.0,10.0,34.0,18.0,36.0,33.0,37.0,32.0,8.0,25.0,18.0,44.0,65.0,13.0,43.0,50.0,32.0,49.0,21.0,18.0,51.0,64.0,35.0,37.0,14.0,31.0,24.0,31.0,50.0,10.0,25.0,18.0,8.0,75.0,14.0,48.0,34.0,50.0,9.0,46.0,15.0,44.0,28.0,38.0,22.0,8.0,20.0,37.0,63.0,19.0,21.0,17.0,34.0,37.0,38.0,34.0,18.0,81.0,20.0,15.0,45.0,62.0,48.0,9.0,27.0,14.0,63.0,18.0,22.0,16.0,14.0,17.0,18.0,39.0,30.0,79.0,38.0,66.0,24.0,17.0,9.0,32.0,15.0,25.0,14.0,58.0,67.0,58.0,23.0,14.0,34.0,54.0,25.0,36.0,4.0,30.0,18.0,66.0,37.0,54.0,33.0,16.0,8.0,24.0,47.0,13.0,63.0,25.0,27.0,68.0,60.0,49.0,15.0,14.0,25.0,16.0,22.0,35.0,27.0,62.0,64.0,7.0,25.0,32.0,27.0,55.0,38.0,17.0,32.0,54.0,40.0,42.0,24.0,49.0,16.0,4.0,61.0,19.0,60.0,55.0,41.0,12.0,33.0,22.0,22.0,43.0,18.0,28.0,19.0,14.0,80.0,30.0,19.0,30.0,9.0,11.0,96.0,16.0,13.0,39.0,39.0,10.0,43.0,74.0,74.0,43.0,61.0,22.0,39.0,28.0,29.0,36.0,45.0,4.0,24.0,65.0,27.0,39.0,43.0,48.0,76.0,34.0,72.0,23.0,9.0,37.0,26.0,47.0,15.0,31.0,34.0,10.0,27.0,54.0,47.0,8.0,17.0,31.0,13.0,20.0,31.0,20.0,21.0,24.0,34.0,35.0,15.0,10.0,17.0,69.0,67.0,87.0,62.0,23.0,36.0,67.0,26.0,14.0,43.0,42.0,51.0,11.0,20.0,49.0,16.0,20.0,16.0,2.0,39.0,41.0,45.0,35.0,13.0,11.0,50.0,42.0,6.0,30.0,8.0,24.0,19.0,17.0,19.0,21.0,36.0,26.0,43.0,11.0,29.0,10.0,21.0,10.0,25.0,30.0,23.0,58.0,90.0,5.0,55.0,10.0,50.0,39.0,24.0,12.0,17.0,39.0,74.0,66.0,29.0,15.0,58.0,13.0,25.0,18.0,9.0,61.0,8.0,20.0,35.0,42.0,17.0,26.0,30.0,15.0,29.0,22.0,48.0,6.0,14.0,59.0,70.0,28.0,34.0,31.0,63.0,18.0,67.0,86.0,26.0,79.0,69.0,24.0,30.0,23.0,34.0,32.0,31.0,49.0,41.0,24.0,19.0,29.0,10.0,9.0,19.0,74.0,47.0,12.0,32.0,9.0,17.0,9.0,60.0,20.0,56.0,53.0,28.0,14.0,16.0,20.0,81.0,13.0,15.0,19.0,31.0,22.0,21.0,14.0,23.0,52.0,17.0,43.0,23.0,26.0,62.0,10.0,16.0,9.0,32.0,18.0,27.0,23.0,32.0,21.0,63.0,37.0,28.0,55.0,59.0,23.0,52.0,65.0,33.0,24.0,32.0,24.0,22.0,27.0,14.0,60.0,18.0,36.0,97.0,54.0,27.0,8.0,37.0,17.0,43.0,22.0,68.0,9.0,6.0,64.0,26.0,22.0,21.0,28.0,37.0,2.0,5.0,16.0,35.0,26.0,36.0,58.0,15.0,60.0,54.0,42.0,24.0,16.0,20.0,9.0,34.0,31.0,13.0,42.0,35.0,6.0,4.0,16.0,17.0,17.0,23.0,38.0,30.0,26.0,18.0,32.0,16.0,35.0,38.0,35.0,18.0,8.0,19.0,50.0,42.0,28.0,32.0,29.0,34.0,44.0,17.0,11.0,29.0,36.0,38.0,7.0,25.0,34.0,11.0,100.0,9.0,21.0,52.0,38.0,23.0,10.0,23.0,56.0,14.0,52.0,32.0,25.0,7.0,33.0,71.0,9.0,9.0,37.0,20.0,34.0,24.0,41.0,38.0,8.0,6.0,2.0,21.0,26.0,12.0,70.0,15.0,11.0,33.0,48.0,25.0,44.0,39.0,26.0,21.0,27.0,11.0,27.0,10.0,9.0,46.0,8.0,54.0,52.0,72.0,59.0,26.0,41.0,42.0,18.0,18.0,37.0,38.0,25.0,48.0,49.0,12.0,13.0,27.0,37.0,22.0,11.0,16.0,26.0,19.0,62.0,37.0,31.0,33.0,57.0,12.0,21.0,63.0,44.0,65.0,34.0,46.0,10.0],\"x0\":\" \",\"xaxis\":\"x\",\"y0\":\" \",\"yaxis\":\"y\",\"type\":\"box\"}],                        {\"template\":{\"data\":{\"histogram2dcontour\":[{\"type\":\"histogram2dcontour\",\"colorbar\":{\"outlinewidth\":0,\"ticks\":\"\"},\"colorscale\":[[0.0,\"#0d0887\"],[0.1111111111111111,\"#46039f\"],[0.2222222222222222,\"#7201a8\"],[0.3333333333333333,\"#9c179e\"],[0.4444444444444444,\"#bd3786\"],[0.5555555555555556,\"#d8576b\"],[0.6666666666666666,\"#ed7953\"],[0.7777777777777778,\"#fb9f3a\"],[0.8888888888888888,\"#fdca26\"],[1.0,\"#f0f921\"]]}],\"choropleth\":[{\"type\":\"choropleth\",\"colorbar\":{\"outlinewidth\":0,\"ticks\":\"\"}}],\"histogram2d\":[{\"type\":\"histogram2d\",\"colorbar\":{\"outlinewidth\":0,\"ticks\":\"\"},\"colorscale\":[[0.0,\"#0d0887\"],[0.1111111111111111,\"#46039f\"],[0.2222222222222222,\"#7201a8\"],[0.3333333333333333,\"#9c179e\"],[0.4444444444444444,\"#bd3786\"],[0.5555555555555556,\"#d8576b\"],[0.6666666666666666,\"#ed7953\"],[0.7777777777777778,\"#fb9f3a\"],[0.8888888888888888,\"#fdca26\"],[1.0,\"#f0f921\"]]}],\"heatmap\":[{\"type\":\"heatmap\",\"colorbar\":{\"outlinewidth\":0,\"ticks\":\"\"},\"colorscale\":[[0.0,\"#0d0887\"],[0.1111111111111111,\"#46039f\"],[0.2222222222222222,\"#7201a8\"],[0.3333333333333333,\"#9c179e\"],[0.4444444444444444,\"#bd3786\"],[0.5555555555555556,\"#d8576b\"],[0.6666666666666666,\"#ed7953\"],[0.7777777777777778,\"#fb9f3a\"],[0.8888888888888888,\"#fdca26\"],[1.0,\"#f0f921\"]]}],\"heatmapgl\":[{\"type\":\"heatmapgl\",\"colorbar\":{\"outlinewidth\":0,\"ticks\":\"\"},\"colorscale\":[[0.0,\"#0d0887\"],[0.1111111111111111,\"#46039f\"],[0.2222222222222222,\"#7201a8\"],[0.3333333333333333,\"#9c179e\"],[0.4444444444444444,\"#bd3786\"],[0.5555555555555556,\"#d8576b\"],[0.6666666666666666,\"#ed7953\"],[0.7777777777777778,\"#fb9f3a\"],[0.8888888888888888,\"#fdca26\"],[1.0,\"#f0f921\"]]}],\"contourcarpet\":[{\"type\":\"contourcarpet\",\"colorbar\":{\"outlinewidth\":0,\"ticks\":\"\"}}],\"contour\":[{\"type\":\"contour\",\"colorbar\":{\"outlinewidth\":0,\"ticks\":\"\"},\"colorscale\":[[0.0,\"#0d0887\"],[0.1111111111111111,\"#46039f\"],[0.2222222222222222,\"#7201a8\"],[0.3333333333333333,\"#9c179e\"],[0.4444444444444444,\"#bd3786\"],[0.5555555555555556,\"#d8576b\"],[0.6666666666666666,\"#ed7953\"],[0.7777777777777778,\"#fb9f3a\"],[0.8888888888888888,\"#fdca26\"],[1.0,\"#f0f921\"]]}],\"surface\":[{\"type\":\"surface\",\"colorbar\":{\"outlinewidth\":0,\"ticks\":\"\"},\"colorscale\":[[0.0,\"#0d0887\"],[0.1111111111111111,\"#46039f\"],[0.2222222222222222,\"#7201a8\"],[0.3333333333333333,\"#9c179e\"],[0.4444444444444444,\"#bd3786\"],[0.5555555555555556,\"#d8576b\"],[0.6666666666666666,\"#ed7953\"],[0.7777777777777778,\"#fb9f3a\"],[0.8888888888888888,\"#fdca26\"],[1.0,\"#f0f921\"]]}],\"mesh3d\":[{\"type\":\"mesh3d\",\"colorbar\":{\"outlinewidth\":0,\"ticks\":\"\"}}],\"scatter\":[{\"fillpattern\":{\"fillmode\":\"overlay\",\"size\":10,\"solidity\":0.2},\"type\":\"scatter\"}],\"parcoords\":[{\"type\":\"parcoords\",\"line\":{\"colorbar\":{\"outlinewidth\":0,\"ticks\":\"\"}}}],\"scatterpolargl\":[{\"type\":\"scatterpolargl\",\"marker\":{\"colorbar\":{\"outlinewidth\":0,\"ticks\":\"\"}}}],\"bar\":[{\"error_x\":{\"color\":\"#2a3f5f\"},\"error_y\":{\"color\":\"#2a3f5f\"},\"marker\":{\"line\":{\"color\":\"#E5ECF6\",\"width\":0.5},\"pattern\":{\"fillmode\":\"overlay\",\"size\":10,\"solidity\":0.2}},\"type\":\"bar\"}],\"scattergeo\":[{\"type\":\"scattergeo\",\"marker\":{\"colorbar\":{\"outlinewidth\":0,\"ticks\":\"\"}}}],\"scatterpolar\":[{\"type\":\"scatterpolar\",\"marker\":{\"colorbar\":{\"outlinewidth\":0,\"ticks\":\"\"}}}],\"histogram\":[{\"marker\":{\"pattern\":{\"fillmode\":\"overlay\",\"size\":10,\"solidity\":0.2}},\"type\":\"histogram\"}],\"scattergl\":[{\"type\":\"scattergl\",\"marker\":{\"colorbar\":{\"outlinewidth\":0,\"ticks\":\"\"}}}],\"scatter3d\":[{\"type\":\"scatter3d\",\"line\":{\"colorbar\":{\"outlinewidth\":0,\"ticks\":\"\"}},\"marker\":{\"colorbar\":{\"outlinewidth\":0,\"ticks\":\"\"}}}],\"scattermapbox\":[{\"type\":\"scattermapbox\",\"marker\":{\"colorbar\":{\"outlinewidth\":0,\"ticks\":\"\"}}}],\"scatterternary\":[{\"type\":\"scatterternary\",\"marker\":{\"colorbar\":{\"outlinewidth\":0,\"ticks\":\"\"}}}],\"scattercarpet\":[{\"type\":\"scattercarpet\",\"marker\":{\"colorbar\":{\"outlinewidth\":0,\"ticks\":\"\"}}}],\"carpet\":[{\"aaxis\":{\"endlinecolor\":\"#2a3f5f\",\"gridcolor\":\"white\",\"linecolor\":\"white\",\"minorgridcolor\":\"white\",\"startlinecolor\":\"#2a3f5f\"},\"baxis\":{\"endlinecolor\":\"#2a3f5f\",\"gridcolor\":\"white\",\"linecolor\":\"white\",\"minorgridcolor\":\"white\",\"startlinecolor\":\"#2a3f5f\"},\"type\":\"carpet\"}],\"table\":[{\"cells\":{\"fill\":{\"color\":\"#EBF0F8\"},\"line\":{\"color\":\"white\"}},\"header\":{\"fill\":{\"color\":\"#C8D4E3\"},\"line\":{\"color\":\"white\"}},\"type\":\"table\"}],\"barpolar\":[{\"marker\":{\"line\":{\"color\":\"#E5ECF6\",\"width\":0.5},\"pattern\":{\"fillmode\":\"overlay\",\"size\":10,\"solidity\":0.2}},\"type\":\"barpolar\"}],\"pie\":[{\"automargin\":true,\"type\":\"pie\"}]},\"layout\":{\"autotypenumbers\":\"strict\",\"colorway\":[\"#636efa\",\"#EF553B\",\"#00cc96\",\"#ab63fa\",\"#FFA15A\",\"#19d3f3\",\"#FF6692\",\"#B6E880\",\"#FF97FF\",\"#FECB52\"],\"font\":{\"color\":\"#2a3f5f\"},\"hovermode\":\"closest\",\"hoverlabel\":{\"align\":\"left\"},\"paper_bgcolor\":\"white\",\"plot_bgcolor\":\"#E5ECF6\",\"polar\":{\"bgcolor\":\"#E5ECF6\",\"angularaxis\":{\"gridcolor\":\"white\",\"linecolor\":\"white\",\"ticks\":\"\"},\"radialaxis\":{\"gridcolor\":\"white\",\"linecolor\":\"white\",\"ticks\":\"\"}},\"ternary\":{\"bgcolor\":\"#E5ECF6\",\"aaxis\":{\"gridcolor\":\"white\",\"linecolor\":\"white\",\"ticks\":\"\"},\"baxis\":{\"gridcolor\":\"white\",\"linecolor\":\"white\",\"ticks\":\"\"},\"caxis\":{\"gridcolor\":\"white\",\"linecolor\":\"white\",\"ticks\":\"\"}},\"coloraxis\":{\"colorbar\":{\"outlinewidth\":0,\"ticks\":\"\"}},\"colorscale\":{\"sequential\":[[0.0,\"#0d0887\"],[0.1111111111111111,\"#46039f\"],[0.2222222222222222,\"#7201a8\"],[0.3333333333333333,\"#9c179e\"],[0.4444444444444444,\"#bd3786\"],[0.5555555555555556,\"#d8576b\"],[0.6666666666666666,\"#ed7953\"],[0.7777777777777778,\"#fb9f3a\"],[0.8888888888888888,\"#fdca26\"],[1.0,\"#f0f921\"]],\"sequentialminus\":[[0.0,\"#0d0887\"],[0.1111111111111111,\"#46039f\"],[0.2222222222222222,\"#7201a8\"],[0.3333333333333333,\"#9c179e\"],[0.4444444444444444,\"#bd3786\"],[0.5555555555555556,\"#d8576b\"],[0.6666666666666666,\"#ed7953\"],[0.7777777777777778,\"#fb9f3a\"],[0.8888888888888888,\"#fdca26\"],[1.0,\"#f0f921\"]],\"diverging\":[[0,\"#8e0152\"],[0.1,\"#c51b7d\"],[0.2,\"#de77ae\"],[0.3,\"#f1b6da\"],[0.4,\"#fde0ef\"],[0.5,\"#f7f7f7\"],[0.6,\"#e6f5d0\"],[0.7,\"#b8e186\"],[0.8,\"#7fbc41\"],[0.9,\"#4d9221\"],[1,\"#276419\"]]},\"xaxis\":{\"gridcolor\":\"white\",\"linecolor\":\"white\",\"ticks\":\"\",\"title\":{\"standoff\":15},\"zerolinecolor\":\"white\",\"automargin\":true,\"zerolinewidth\":2},\"yaxis\":{\"gridcolor\":\"white\",\"linecolor\":\"white\",\"ticks\":\"\",\"title\":{\"standoff\":15},\"zerolinecolor\":\"white\",\"automargin\":true,\"zerolinewidth\":2},\"scene\":{\"xaxis\":{\"backgroundcolor\":\"#E5ECF6\",\"gridcolor\":\"white\",\"linecolor\":\"white\",\"showbackground\":true,\"ticks\":\"\",\"zerolinecolor\":\"white\",\"gridwidth\":2},\"yaxis\":{\"backgroundcolor\":\"#E5ECF6\",\"gridcolor\":\"white\",\"linecolor\":\"white\",\"showbackground\":true,\"ticks\":\"\",\"zerolinecolor\":\"white\",\"gridwidth\":2},\"zaxis\":{\"backgroundcolor\":\"#E5ECF6\",\"gridcolor\":\"white\",\"linecolor\":\"white\",\"showbackground\":true,\"ticks\":\"\",\"zerolinecolor\":\"white\",\"gridwidth\":2}},\"shapedefaults\":{\"line\":{\"color\":\"#2a3f5f\"}},\"annotationdefaults\":{\"arrowcolor\":\"#2a3f5f\",\"arrowhead\":0,\"arrowwidth\":1},\"geo\":{\"bgcolor\":\"white\",\"landcolor\":\"#E5ECF6\",\"subunitcolor\":\"white\",\"showland\":true,\"showlakes\":true,\"lakecolor\":\"white\"},\"title\":{\"x\":0.05},\"mapbox\":{\"style\":\"light\"}}},\"xaxis\":{\"anchor\":\"y\",\"domain\":[0.0,1.0],\"title\":{\"text\":\"placement_exam_marks\"}},\"yaxis\":{\"anchor\":\"x\",\"domain\":[0.0,1.0]},\"legend\":{\"tracegroupgap\":0},\"margin\":{\"t\":60},\"boxmode\":\"group\"},                        {\"responsive\": true}                    ).then(function(){\n",
              "                            \n",
              "var gd = document.getElementById('185e9a1d-f49f-4a2f-8d59-7881c3fd5cc1');\n",
              "var x = new MutationObserver(function (mutations, observer) {{\n",
              "        var display = window.getComputedStyle(gd).display;\n",
              "        if (!display || display === 'none') {{\n",
              "            console.log([gd, 'removed!']);\n",
              "            Plotly.purge(gd);\n",
              "            observer.disconnect();\n",
              "        }}\n",
              "}});\n",
              "\n",
              "// Listen for the removal of the full notebook cells\n",
              "var notebookContainer = gd.closest('#notebook-container');\n",
              "if (notebookContainer) {{\n",
              "    x.observe(notebookContainer, {childList: true});\n",
              "}}\n",
              "\n",
              "// Listen for the clearing of the current output cell\n",
              "var outputEl = gd.closest('.output');\n",
              "if (outputEl) {{\n",
              "    x.observe(outputEl, {childList: true});\n",
              "}}\n",
              "\n",
              "                        })                };                            </script>        </div>\n",
              "</body>\n",
              "</html>"
            ]
          },
          "metadata": {}
        }
      ]
    },
    {
      "cell_type": "code",
      "source": [
        "lower_limit2=df['placement_exam_marks'].quantile(0.01)\n",
        "upper_limit2=df['placement_exam_marks'].quantile(0.99)\n"
      ],
      "metadata": {
        "id": "USfIbhBpej2O"
      },
      "execution_count": 51,
      "outputs": []
    },
    {
      "cell_type": "code",
      "source": [
        "print(lower_limit2),print(upper_limit2)"
      ],
      "metadata": {
        "id": "37r-kafQgj5p",
        "outputId": "0ece4780-7398-43db-d582-3a878fdd9c5a",
        "colab": {
          "base_uri": "https://localhost:8080/"
        }
      },
      "execution_count": 53,
      "outputs": [
        {
          "output_type": "stream",
          "name": "stdout",
          "text": [
            "4.0\n",
            "87.0\n"
          ]
        },
        {
          "output_type": "execute_result",
          "data": {
            "text/plain": [
              "(None, None)"
            ]
          },
          "metadata": {},
          "execution_count": 53
        }
      ]
    },
    {
      "cell_type": "code",
      "source": [
        "#trimming (percentile)\n",
        "new_df2=df[(df['placement_exam_marks']<upper_limit2) & (df['placement_exam_marks']>lower_limit2)]\n",
        "px.box(new_df2,x=['placement_exam_marks'])"
      ],
      "metadata": {
        "id": "zMC5HEESe9S-",
        "outputId": "00e278c2-dc2f-40fc-acea-6ee735cf2fba",
        "colab": {
          "base_uri": "https://localhost:8080/",
          "height": 542
        }
      },
      "execution_count": 49,
      "outputs": [
        {
          "output_type": "display_data",
          "data": {
            "text/html": [
              "<html>\n",
              "<head><meta charset=\"utf-8\" /></head>\n",
              "<body>\n",
              "    <div>            <script src=\"https://cdnjs.cloudflare.com/ajax/libs/mathjax/2.7.5/MathJax.js?config=TeX-AMS-MML_SVG\"></script><script type=\"text/javascript\">if (window.MathJax && window.MathJax.Hub && window.MathJax.Hub.Config) {window.MathJax.Hub.Config({SVG: {font: \"STIX-Web\"}});}</script>                <script type=\"text/javascript\">window.PlotlyConfig = {MathJaxConfig: 'local'};</script>\n",
              "        <script charset=\"utf-8\" src=\"https://cdn.plot.ly/plotly-2.24.1.min.js\"></script>                <div id=\"203a8494-f3d1-4f49-8302-53195efbf162\" class=\"plotly-graph-div\" style=\"height:525px; width:100%;\"></div>            <script type=\"text/javascript\">                                    window.PLOTLYENV=window.PLOTLYENV || {};                                    if (document.getElementById(\"203a8494-f3d1-4f49-8302-53195efbf162\")) {                    Plotly.newPlot(                        \"203a8494-f3d1-4f49-8302-53195efbf162\",                        [{\"alignmentgroup\":\"True\",\"hovertemplate\":\"value=%{x}\\u003cbr\\u003evariable=%{y}\\u003cextra\\u003e\\u003c\\u002fextra\\u003e\",\"legendgroup\":\"\",\"marker\":{\"color\":\"#636efa\"},\"name\":\"\",\"notched\":false,\"offsetgroup\":\"\",\"orientation\":\"h\",\"showlegend\":false,\"x\":[26.0,38.0,40.0,8.0,17.0,23.0,11.0,39.0,38.0,16.0,7.0,16.0,26.0,43.0,21.0,19.0,22.0,27.0,29.0,47.0,33.0,54.0,11.0,11.0,58.0,8.0,46.0,19.0,15.0,16.0,44.0,11.0,27.0,9.0,12.0,16.0,9.0,20.0,17.0,86.0,38.0,71.0,63.0,55.0,10.0,15.0,46.0,42.0,28.0,18.0,28.0,27.0,33.0,36.0,15.0,15.0,24.0,43.0,32.0,31.0,86.0,22.0,26.0,52.0,28.0,31.0,18.0,30.0,44.0,17.0,20.0,19.0,12.0,56.0,12.0,28.0,12.0,19.0,46.0,44.0,12.0,20.0,35.0,28.0,22.0,19.0,39.0,17.0,15.0,6.0,63.0,30.0,21.0,35.0,28.0,52.0,76.0,23.0,46.0,26.0,22.0,18.0,47.0,12.0,22.0,9.0,10.0,21.0,31.0,33.0,15.0,10.0,77.0,37.0,21.0,54.0,39.0,46.0,27.0,51.0,52.0,30.0,55.0,37.0,23.0,25.0,39.0,53.0,19.0,18.0,64.0,47.0,15.0,53.0,8.0,5.0,22.0,18.0,41.0,33.0,17.0,28.0,22.0,11.0,49.0,58.0,22.0,16.0,56.0,10.0,54.0,12.0,34.0,81.0,50.0,22.0,10.0,52.0,42.0,34.0,7.0,59.0,48.0,37.0,16.0,37.0,38.0,43.0,48.0,21.0,26.0,30.0,40.0,39.0,45.0,29.0,42.0,76.0,18.0,33.0,31.0,63.0,10.0,55.0,9.0,23.0,8.0,38.0,14.0,33.0,44.0,34.0,27.0,44.0,25.0,22.0,15.0,48.0,52.0,5.0,47.0,25.0,16.0,12.0,35.0,19.0,14.0,57.0,19.0,60.0,22.0,36.0,16.0,52.0,16.0,24.0,78.0,11.0,19.0,13.0,21.0,19.0,15.0,13.0,14.0,35.0,34.0,41.0,36.0,52.0,36.0,52.0,78.0,16.0,38.0,18.0,44.0,55.0,44.0,62.0,26.0,49.0,44.0,52.0,13.0,45.0,54.0,76.0,64.0,10.0,48.0,76.0,6.0,10.0,57.0,11.0,10.0,50.0,28.0,57.0,50.0,65.0,21.0,16.0,16.0,21.0,56.0,9.0,39.0,46.0,15.0,17.0,40.0,55.0,22.0,44.0,62.0,57.0,58.0,24.0,21.0,9.0,14.0,41.0,11.0,17.0,64.0,19.0,32.0,48.0,15.0,52.0,5.0,34.0,56.0,33.0,32.0,19.0,28.0,47.0,31.0,50.0,55.0,18.0,14.0,37.0,38.0,19.0,60.0,13.0,51.0,47.0,38.0,38.0,13.0,13.0,56.0,28.0,35.0,16.0,22.0,39.0,20.0,19.0,17.0,9.0,68.0,46.0,18.0,51.0,8.0,23.0,70.0,26.0,13.0,33.0,34.0,17.0,16.0,70.0,10.0,28.0,23.0,18.0,50.0,42.0,52.0,40.0,33.0,37.0,21.0,13.0,9.0,25.0,42.0,30.0,32.0,36.0,79.0,29.0,8.0,41.0,41.0,31.0,60.0,47.0,25.0,65.0,31.0,53.0,61.0,33.0,21.0,43.0,7.0,23.0,16.0,16.0,66.0,35.0,18.0,18.0,11.0,10.0,63.0,48.0,43.0,33.0,22.0,34.0,83.0,35.0,32.0,17.0,20.0,24.0,24.0,37.0,66.0,45.0,28.0,36.0,46.0,55.0,19.0,29.0,46.0,49.0,46.0,19.0,26.0,30.0,15.0,21.0,39.0,46.0,55.0,19.0,21.0,26.0,11.0,5.0,37.0,19.0,22.0,7.0,10.0,22.0,15.0,48.0,77.0,14.0,10.0,23.0,17.0,31.0,37.0,31.0,31.0,42.0,24.0,53.0,43.0,12.0,20.0,47.0,79.0,12.0,9.0,49.0,37.0,49.0,16.0,7.0,70.0,46.0,28.0,18.0,38.0,25.0,25.0,10.0,34.0,18.0,36.0,33.0,37.0,32.0,8.0,25.0,18.0,44.0,65.0,13.0,43.0,50.0,32.0,49.0,21.0,18.0,51.0,64.0,35.0,37.0,14.0,31.0,24.0,31.0,50.0,10.0,25.0,18.0,8.0,75.0,14.0,48.0,34.0,50.0,9.0,46.0,15.0,44.0,28.0,38.0,22.0,8.0,20.0,37.0,63.0,19.0,21.0,17.0,34.0,37.0,38.0,34.0,18.0,81.0,20.0,15.0,45.0,62.0,48.0,9.0,27.0,14.0,63.0,18.0,22.0,16.0,14.0,17.0,18.0,39.0,30.0,79.0,38.0,66.0,24.0,17.0,9.0,32.0,15.0,25.0,14.0,58.0,67.0,58.0,23.0,14.0,34.0,54.0,25.0,36.0,30.0,18.0,66.0,37.0,54.0,33.0,16.0,8.0,24.0,47.0,13.0,63.0,25.0,27.0,68.0,60.0,49.0,15.0,14.0,25.0,16.0,22.0,35.0,27.0,62.0,64.0,7.0,25.0,32.0,27.0,55.0,38.0,17.0,32.0,54.0,40.0,42.0,24.0,49.0,16.0,61.0,19.0,60.0,55.0,41.0,12.0,33.0,22.0,22.0,43.0,18.0,28.0,19.0,14.0,80.0,30.0,19.0,30.0,9.0,11.0,16.0,13.0,39.0,39.0,10.0,43.0,74.0,74.0,43.0,61.0,22.0,39.0,28.0,29.0,36.0,45.0,24.0,65.0,27.0,39.0,43.0,48.0,76.0,34.0,72.0,23.0,9.0,37.0,26.0,47.0,15.0,31.0,34.0,10.0,27.0,54.0,47.0,8.0,17.0,31.0,13.0,20.0,31.0,20.0,21.0,24.0,34.0,35.0,15.0,10.0,17.0,69.0,67.0,62.0,23.0,36.0,67.0,26.0,14.0,43.0,42.0,51.0,11.0,20.0,49.0,16.0,20.0,16.0,39.0,41.0,45.0,35.0,13.0,11.0,50.0,42.0,6.0,30.0,8.0,24.0,19.0,17.0,19.0,21.0,36.0,26.0,43.0,11.0,29.0,10.0,21.0,10.0,25.0,30.0,23.0,58.0,5.0,55.0,10.0,50.0,39.0,24.0,12.0,17.0,39.0,74.0,66.0,29.0,15.0,58.0,13.0,25.0,18.0,9.0,61.0,8.0,20.0,35.0,42.0,17.0,26.0,30.0,15.0,29.0,22.0,48.0,6.0,14.0,59.0,70.0,28.0,34.0,31.0,63.0,18.0,67.0,86.0,26.0,79.0,69.0,24.0,30.0,23.0,34.0,32.0,31.0,49.0,41.0,24.0,19.0,29.0,10.0,9.0,19.0,74.0,47.0,12.0,32.0,9.0,17.0,9.0,60.0,20.0,56.0,53.0,28.0,14.0,16.0,20.0,81.0,13.0,15.0,19.0,31.0,22.0,21.0,14.0,23.0,52.0,17.0,43.0,23.0,26.0,62.0,10.0,16.0,9.0,32.0,18.0,27.0,23.0,32.0,21.0,63.0,37.0,28.0,55.0,59.0,23.0,52.0,65.0,33.0,24.0,32.0,24.0,22.0,27.0,14.0,60.0,18.0,36.0,54.0,27.0,8.0,37.0,17.0,43.0,22.0,68.0,9.0,6.0,64.0,26.0,22.0,21.0,28.0,37.0,5.0,16.0,35.0,26.0,36.0,58.0,15.0,60.0,54.0,42.0,24.0,16.0,20.0,9.0,34.0,31.0,13.0,42.0,35.0,6.0,16.0,17.0,17.0,23.0,38.0,30.0,26.0,18.0,32.0,16.0,35.0,38.0,35.0,18.0,8.0,19.0,50.0,42.0,28.0,32.0,29.0,34.0,44.0,17.0,11.0,29.0,36.0,38.0,7.0,25.0,34.0,11.0,9.0,21.0,52.0,38.0,23.0,10.0,23.0,56.0,14.0,52.0,32.0,25.0,7.0,33.0,71.0,9.0,9.0,37.0,20.0,34.0,24.0,41.0,38.0,8.0,6.0,21.0,26.0,12.0,70.0,15.0,11.0,33.0,48.0,25.0,44.0,39.0,26.0,21.0,27.0,11.0,27.0,10.0,9.0,46.0,8.0,54.0,52.0,72.0,59.0,26.0,41.0,42.0,18.0,18.0,37.0,38.0,25.0,48.0,49.0,12.0,13.0,27.0,37.0,22.0,11.0,16.0,26.0,19.0,62.0,37.0,31.0,33.0,57.0,12.0,21.0,63.0,44.0,65.0,34.0,46.0,10.0],\"x0\":\" \",\"xaxis\":\"x\",\"y\":[\"placement_exam_marks\",\"placement_exam_marks\",\"placement_exam_marks\",\"placement_exam_marks\",\"placement_exam_marks\",\"placement_exam_marks\",\"placement_exam_marks\",\"placement_exam_marks\",\"placement_exam_marks\",\"placement_exam_marks\",\"placement_exam_marks\",\"placement_exam_marks\",\"placement_exam_marks\",\"placement_exam_marks\",\"placement_exam_marks\",\"placement_exam_marks\",\"placement_exam_marks\",\"placement_exam_marks\",\"placement_exam_marks\",\"placement_exam_marks\",\"placement_exam_marks\",\"placement_exam_marks\",\"placement_exam_marks\",\"placement_exam_marks\",\"placement_exam_marks\",\"placement_exam_marks\",\"placement_exam_marks\",\"placement_exam_marks\",\"placement_exam_marks\",\"placement_exam_marks\",\"placement_exam_marks\",\"placement_exam_marks\",\"placement_exam_marks\",\"placement_exam_marks\",\"placement_exam_marks\",\"placement_exam_marks\",\"placement_exam_marks\",\"placement_exam_marks\",\"placement_exam_marks\",\"placement_exam_marks\",\"placement_exam_marks\",\"placement_exam_marks\",\"placement_exam_marks\",\"placement_exam_marks\",\"placement_exam_marks\",\"placement_exam_marks\",\"placement_exam_marks\",\"placement_exam_marks\",\"placement_exam_marks\",\"placement_exam_marks\",\"placement_exam_marks\",\"placement_exam_marks\",\"placement_exam_marks\",\"placement_exam_marks\",\"placement_exam_marks\",\"placement_exam_marks\",\"placement_exam_marks\",\"placement_exam_marks\",\"placement_exam_marks\",\"placement_exam_marks\",\"placement_exam_marks\",\"placement_exam_marks\",\"placement_exam_marks\",\"placement_exam_marks\",\"placement_exam_marks\",\"placement_exam_marks\",\"placement_exam_marks\",\"placement_exam_marks\",\"placement_exam_marks\",\"placement_exam_marks\",\"placement_exam_marks\",\"placement_exam_marks\",\"placement_exam_marks\",\"placement_exam_marks\",\"placement_exam_marks\",\"placement_exam_marks\",\"placement_exam_marks\",\"placement_exam_marks\",\"placement_exam_marks\",\"placement_exam_marks\",\"placement_exam_marks\",\"placement_exam_marks\",\"placement_exam_marks\",\"placement_exam_marks\",\"placement_exam_marks\",\"placement_exam_marks\",\"placement_exam_marks\",\"placement_exam_marks\",\"placement_exam_marks\",\"placement_exam_marks\",\"placement_exam_marks\",\"placement_exam_marks\",\"placement_exam_marks\",\"placement_exam_marks\",\"placement_exam_marks\",\"placement_exam_marks\",\"placement_exam_marks\",\"placement_exam_marks\",\"placement_exam_marks\",\"placement_exam_marks\",\"placement_exam_marks\",\"placement_exam_marks\",\"placement_exam_marks\",\"placement_exam_marks\",\"placement_exam_marks\",\"placement_exam_marks\",\"placement_exam_marks\",\"placement_exam_marks\",\"placement_exam_marks\",\"placement_exam_marks\",\"placement_exam_marks\",\"placement_exam_marks\",\"placement_exam_marks\",\"placement_exam_marks\",\"placement_exam_marks\",\"placement_exam_marks\",\"placement_exam_marks\",\"placement_exam_marks\",\"placement_exam_marks\",\"placement_exam_marks\",\"placement_exam_marks\",\"placement_exam_marks\",\"placement_exam_marks\",\"placement_exam_marks\",\"placement_exam_marks\",\"placement_exam_marks\",\"placement_exam_marks\",\"placement_exam_marks\",\"placement_exam_marks\",\"placement_exam_marks\",\"placement_exam_marks\",\"placement_exam_marks\",\"placement_exam_marks\",\"placement_exam_marks\",\"placement_exam_marks\",\"placement_exam_marks\",\"placement_exam_marks\",\"placement_exam_marks\",\"placement_exam_marks\",\"placement_exam_marks\",\"placement_exam_marks\",\"placement_exam_marks\",\"placement_exam_marks\",\"placement_exam_marks\",\"placement_exam_marks\",\"placement_exam_marks\",\"placement_exam_marks\",\"placement_exam_marks\",\"placement_exam_marks\",\"placement_exam_marks\",\"placement_exam_marks\",\"placement_exam_marks\",\"placement_exam_marks\",\"placement_exam_marks\",\"placement_exam_marks\",\"placement_exam_marks\",\"placement_exam_marks\",\"placement_exam_marks\",\"placement_exam_marks\",\"placement_exam_marks\",\"placement_exam_marks\",\"placement_exam_marks\",\"placement_exam_marks\",\"placement_exam_marks\",\"placement_exam_marks\",\"placement_exam_marks\",\"placement_exam_marks\",\"placement_exam_marks\",\"placement_exam_marks\",\"placement_exam_marks\",\"placement_exam_marks\",\"placement_exam_marks\",\"placement_exam_marks\",\"placement_exam_marks\",\"placement_exam_marks\",\"placement_exam_marks\",\"placement_exam_marks\",\"placement_exam_marks\",\"placement_exam_marks\",\"placement_exam_marks\",\"placement_exam_marks\",\"placement_exam_marks\",\"placement_exam_marks\",\"placement_exam_marks\",\"placement_exam_marks\",\"placement_exam_marks\",\"placement_exam_marks\",\"placement_exam_marks\",\"placement_exam_marks\",\"placement_exam_marks\",\"placement_exam_marks\",\"placement_exam_marks\",\"placement_exam_marks\",\"placement_exam_marks\",\"placement_exam_marks\",\"placement_exam_marks\",\"placement_exam_marks\",\"placement_exam_marks\",\"placement_exam_marks\",\"placement_exam_marks\",\"placement_exam_marks\",\"placement_exam_marks\",\"placement_exam_marks\",\"placement_exam_marks\",\"placement_exam_marks\",\"placement_exam_marks\",\"placement_exam_marks\",\"placement_exam_marks\",\"placement_exam_marks\",\"placement_exam_marks\",\"placement_exam_marks\",\"placement_exam_marks\",\"placement_exam_marks\",\"placement_exam_marks\",\"placement_exam_marks\",\"placement_exam_marks\",\"placement_exam_marks\",\"placement_exam_marks\",\"placement_exam_marks\",\"placement_exam_marks\",\"placement_exam_marks\",\"placement_exam_marks\",\"placement_exam_marks\",\"placement_exam_marks\",\"placement_exam_marks\",\"placement_exam_marks\",\"placement_exam_marks\",\"placement_exam_marks\",\"placement_exam_marks\",\"placement_exam_marks\",\"placement_exam_marks\",\"placement_exam_marks\",\"placement_exam_marks\",\"placement_exam_marks\",\"placement_exam_marks\",\"placement_exam_marks\",\"placement_exam_marks\",\"placement_exam_marks\",\"placement_exam_marks\",\"placement_exam_marks\",\"placement_exam_marks\",\"placement_exam_marks\",\"placement_exam_marks\",\"placement_exam_marks\",\"placement_exam_marks\",\"placement_exam_marks\",\"placement_exam_marks\",\"placement_exam_marks\",\"placement_exam_marks\",\"placement_exam_marks\",\"placement_exam_marks\",\"placement_exam_marks\",\"placement_exam_marks\",\"placement_exam_marks\",\"placement_exam_marks\",\"placement_exam_marks\",\"placement_exam_marks\",\"placement_exam_marks\",\"placement_exam_marks\",\"placement_exam_marks\",\"placement_exam_marks\",\"placement_exam_marks\",\"placement_exam_marks\",\"placement_exam_marks\",\"placement_exam_marks\",\"placement_exam_marks\",\"placement_exam_marks\",\"placement_exam_marks\",\"placement_exam_marks\",\"placement_exam_marks\",\"placement_exam_marks\",\"placement_exam_marks\",\"placement_exam_marks\",\"placement_exam_marks\",\"placement_exam_marks\",\"placement_exam_marks\",\"placement_exam_marks\",\"placement_exam_marks\",\"placement_exam_marks\",\"placement_exam_marks\",\"placement_exam_marks\",\"placement_exam_marks\",\"placement_exam_marks\",\"placement_exam_marks\",\"placement_exam_marks\",\"placement_exam_marks\",\"placement_exam_marks\",\"placement_exam_marks\",\"placement_exam_marks\",\"placement_exam_marks\",\"placement_exam_marks\",\"placement_exam_marks\",\"placement_exam_marks\",\"placement_exam_marks\",\"placement_exam_marks\",\"placement_exam_marks\",\"placement_exam_marks\",\"placement_exam_marks\",\"placement_exam_marks\",\"placement_exam_marks\",\"placement_exam_marks\",\"placement_exam_marks\",\"placement_exam_marks\",\"placement_exam_marks\",\"placement_exam_marks\",\"placement_exam_marks\",\"placement_exam_marks\",\"placement_exam_marks\",\"placement_exam_marks\",\"placement_exam_marks\",\"placement_exam_marks\",\"placement_exam_marks\",\"placement_exam_marks\",\"placement_exam_marks\",\"placement_exam_marks\",\"placement_exam_marks\",\"placement_exam_marks\",\"placement_exam_marks\",\"placement_exam_marks\",\"placement_exam_marks\",\"placement_exam_marks\",\"placement_exam_marks\",\"placement_exam_marks\",\"placement_exam_marks\",\"placement_exam_marks\",\"placement_exam_marks\",\"placement_exam_marks\",\"placement_exam_marks\",\"placement_exam_marks\",\"placement_exam_marks\",\"placement_exam_marks\",\"placement_exam_marks\",\"placement_exam_marks\",\"placement_exam_marks\",\"placement_exam_marks\",\"placement_exam_marks\",\"placement_exam_marks\",\"placement_exam_marks\",\"placement_exam_marks\",\"placement_exam_marks\",\"placement_exam_marks\",\"placement_exam_marks\",\"placement_exam_marks\",\"placement_exam_marks\",\"placement_exam_marks\",\"placement_exam_marks\",\"placement_exam_marks\",\"placement_exam_marks\",\"placement_exam_marks\",\"placement_exam_marks\",\"placement_exam_marks\",\"placement_exam_marks\",\"placement_exam_marks\",\"placement_exam_marks\",\"placement_exam_marks\",\"placement_exam_marks\",\"placement_exam_marks\",\"placement_exam_marks\",\"placement_exam_marks\",\"placement_exam_marks\",\"placement_exam_marks\",\"placement_exam_marks\",\"placement_exam_marks\",\"placement_exam_marks\",\"placement_exam_marks\",\"placement_exam_marks\",\"placement_exam_marks\",\"placement_exam_marks\",\"placement_exam_marks\",\"placement_exam_marks\",\"placement_exam_marks\",\"placement_exam_marks\",\"placement_exam_marks\",\"placement_exam_marks\",\"placement_exam_marks\",\"placement_exam_marks\",\"placement_exam_marks\",\"placement_exam_marks\",\"placement_exam_marks\",\"placement_exam_marks\",\"placement_exam_marks\",\"placement_exam_marks\",\"placement_exam_marks\",\"placement_exam_marks\",\"placement_exam_marks\",\"placement_exam_marks\",\"placement_exam_marks\",\"placement_exam_marks\",\"placement_exam_marks\",\"placement_exam_marks\",\"placement_exam_marks\",\"placement_exam_marks\",\"placement_exam_marks\",\"placement_exam_marks\",\"placement_exam_marks\",\"placement_exam_marks\",\"placement_exam_marks\",\"placement_exam_marks\",\"placement_exam_marks\",\"placement_exam_marks\",\"placement_exam_marks\",\"placement_exam_marks\",\"placement_exam_marks\",\"placement_exam_marks\",\"placement_exam_marks\",\"placement_exam_marks\",\"placement_exam_marks\",\"placement_exam_marks\",\"placement_exam_marks\",\"placement_exam_marks\",\"placement_exam_marks\",\"placement_exam_marks\",\"placement_exam_marks\",\"placement_exam_marks\",\"placement_exam_marks\",\"placement_exam_marks\",\"placement_exam_marks\",\"placement_exam_marks\",\"placement_exam_marks\",\"placement_exam_marks\",\"placement_exam_marks\",\"placement_exam_marks\",\"placement_exam_marks\",\"placement_exam_marks\",\"placement_exam_marks\",\"placement_exam_marks\",\"placement_exam_marks\",\"placement_exam_marks\",\"placement_exam_marks\",\"placement_exam_marks\",\"placement_exam_marks\",\"placement_exam_marks\",\"placement_exam_marks\",\"placement_exam_marks\",\"placement_exam_marks\",\"placement_exam_marks\",\"placement_exam_marks\",\"placement_exam_marks\",\"placement_exam_marks\",\"placement_exam_marks\",\"placement_exam_marks\",\"placement_exam_marks\",\"placement_exam_marks\",\"placement_exam_marks\",\"placement_exam_marks\",\"placement_exam_marks\",\"placement_exam_marks\",\"placement_exam_marks\",\"placement_exam_marks\",\"placement_exam_marks\",\"placement_exam_marks\",\"placement_exam_marks\",\"placement_exam_marks\",\"placement_exam_marks\",\"placement_exam_marks\",\"placement_exam_marks\",\"placement_exam_marks\",\"placement_exam_marks\",\"placement_exam_marks\",\"placement_exam_marks\",\"placement_exam_marks\",\"placement_exam_marks\",\"placement_exam_marks\",\"placement_exam_marks\",\"placement_exam_marks\",\"placement_exam_marks\",\"placement_exam_marks\",\"placement_exam_marks\",\"placement_exam_marks\",\"placement_exam_marks\",\"placement_exam_marks\",\"placement_exam_marks\",\"placement_exam_marks\",\"placement_exam_marks\",\"placement_exam_marks\",\"placement_exam_marks\",\"placement_exam_marks\",\"placement_exam_marks\",\"placement_exam_marks\",\"placement_exam_marks\",\"placement_exam_marks\",\"placement_exam_marks\",\"placement_exam_marks\",\"placement_exam_marks\",\"placement_exam_marks\",\"placement_exam_marks\",\"placement_exam_marks\",\"placement_exam_marks\",\"placement_exam_marks\",\"placement_exam_marks\",\"placement_exam_marks\",\"placement_exam_marks\",\"placement_exam_marks\",\"placement_exam_marks\",\"placement_exam_marks\",\"placement_exam_marks\",\"placement_exam_marks\",\"placement_exam_marks\",\"placement_exam_marks\",\"placement_exam_marks\",\"placement_exam_marks\",\"placement_exam_marks\",\"placement_exam_marks\",\"placement_exam_marks\",\"placement_exam_marks\",\"placement_exam_marks\",\"placement_exam_marks\",\"placement_exam_marks\",\"placement_exam_marks\",\"placement_exam_marks\",\"placement_exam_marks\",\"placement_exam_marks\",\"placement_exam_marks\",\"placement_exam_marks\",\"placement_exam_marks\",\"placement_exam_marks\",\"placement_exam_marks\",\"placement_exam_marks\",\"placement_exam_marks\",\"placement_exam_marks\",\"placement_exam_marks\",\"placement_exam_marks\",\"placement_exam_marks\",\"placement_exam_marks\",\"placement_exam_marks\",\"placement_exam_marks\",\"placement_exam_marks\",\"placement_exam_marks\",\"placement_exam_marks\",\"placement_exam_marks\",\"placement_exam_marks\",\"placement_exam_marks\",\"placement_exam_marks\",\"placement_exam_marks\",\"placement_exam_marks\",\"placement_exam_marks\",\"placement_exam_marks\",\"placement_exam_marks\",\"placement_exam_marks\",\"placement_exam_marks\",\"placement_exam_marks\",\"placement_exam_marks\",\"placement_exam_marks\",\"placement_exam_marks\",\"placement_exam_marks\",\"placement_exam_marks\",\"placement_exam_marks\",\"placement_exam_marks\",\"placement_exam_marks\",\"placement_exam_marks\",\"placement_exam_marks\",\"placement_exam_marks\",\"placement_exam_marks\",\"placement_exam_marks\",\"placement_exam_marks\",\"placement_exam_marks\",\"placement_exam_marks\",\"placement_exam_marks\",\"placement_exam_marks\",\"placement_exam_marks\",\"placement_exam_marks\",\"placement_exam_marks\",\"placement_exam_marks\",\"placement_exam_marks\",\"placement_exam_marks\",\"placement_exam_marks\",\"placement_exam_marks\",\"placement_exam_marks\",\"placement_exam_marks\",\"placement_exam_marks\",\"placement_exam_marks\",\"placement_exam_marks\",\"placement_exam_marks\",\"placement_exam_marks\",\"placement_exam_marks\",\"placement_exam_marks\",\"placement_exam_marks\",\"placement_exam_marks\",\"placement_exam_marks\",\"placement_exam_marks\",\"placement_exam_marks\",\"placement_exam_marks\",\"placement_exam_marks\",\"placement_exam_marks\",\"placement_exam_marks\",\"placement_exam_marks\",\"placement_exam_marks\",\"placement_exam_marks\",\"placement_exam_marks\",\"placement_exam_marks\",\"placement_exam_marks\",\"placement_exam_marks\",\"placement_exam_marks\",\"placement_exam_marks\",\"placement_exam_marks\",\"placement_exam_marks\",\"placement_exam_marks\",\"placement_exam_marks\",\"placement_exam_marks\",\"placement_exam_marks\",\"placement_exam_marks\",\"placement_exam_marks\",\"placement_exam_marks\",\"placement_exam_marks\",\"placement_exam_marks\",\"placement_exam_marks\",\"placement_exam_marks\",\"placement_exam_marks\",\"placement_exam_marks\",\"placement_exam_marks\",\"placement_exam_marks\",\"placement_exam_marks\",\"placement_exam_marks\",\"placement_exam_marks\",\"placement_exam_marks\",\"placement_exam_marks\",\"placement_exam_marks\",\"placement_exam_marks\",\"placement_exam_marks\",\"placement_exam_marks\",\"placement_exam_marks\",\"placement_exam_marks\",\"placement_exam_marks\",\"placement_exam_marks\",\"placement_exam_marks\",\"placement_exam_marks\",\"placement_exam_marks\",\"placement_exam_marks\",\"placement_exam_marks\",\"placement_exam_marks\",\"placement_exam_marks\",\"placement_exam_marks\",\"placement_exam_marks\",\"placement_exam_marks\",\"placement_exam_marks\",\"placement_exam_marks\",\"placement_exam_marks\",\"placement_exam_marks\",\"placement_exam_marks\",\"placement_exam_marks\",\"placement_exam_marks\",\"placement_exam_marks\",\"placement_exam_marks\",\"placement_exam_marks\",\"placement_exam_marks\",\"placement_exam_marks\",\"placement_exam_marks\",\"placement_exam_marks\",\"placement_exam_marks\",\"placement_exam_marks\",\"placement_exam_marks\",\"placement_exam_marks\",\"placement_exam_marks\",\"placement_exam_marks\",\"placement_exam_marks\",\"placement_exam_marks\",\"placement_exam_marks\",\"placement_exam_marks\",\"placement_exam_marks\",\"placement_exam_marks\",\"placement_exam_marks\",\"placement_exam_marks\",\"placement_exam_marks\",\"placement_exam_marks\",\"placement_exam_marks\",\"placement_exam_marks\",\"placement_exam_marks\",\"placement_exam_marks\",\"placement_exam_marks\",\"placement_exam_marks\",\"placement_exam_marks\",\"placement_exam_marks\",\"placement_exam_marks\",\"placement_exam_marks\",\"placement_exam_marks\",\"placement_exam_marks\",\"placement_exam_marks\",\"placement_exam_marks\",\"placement_exam_marks\",\"placement_exam_marks\",\"placement_exam_marks\",\"placement_exam_marks\",\"placement_exam_marks\",\"placement_exam_marks\",\"placement_exam_marks\",\"placement_exam_marks\",\"placement_exam_marks\",\"placement_exam_marks\",\"placement_exam_marks\",\"placement_exam_marks\",\"placement_exam_marks\",\"placement_exam_marks\",\"placement_exam_marks\",\"placement_exam_marks\",\"placement_exam_marks\",\"placement_exam_marks\",\"placement_exam_marks\",\"placement_exam_marks\",\"placement_exam_marks\",\"placement_exam_marks\",\"placement_exam_marks\",\"placement_exam_marks\",\"placement_exam_marks\",\"placement_exam_marks\",\"placement_exam_marks\",\"placement_exam_marks\",\"placement_exam_marks\",\"placement_exam_marks\",\"placement_exam_marks\",\"placement_exam_marks\",\"placement_exam_marks\",\"placement_exam_marks\",\"placement_exam_marks\",\"placement_exam_marks\",\"placement_exam_marks\",\"placement_exam_marks\",\"placement_exam_marks\",\"placement_exam_marks\",\"placement_exam_marks\",\"placement_exam_marks\",\"placement_exam_marks\",\"placement_exam_marks\",\"placement_exam_marks\",\"placement_exam_marks\",\"placement_exam_marks\",\"placement_exam_marks\",\"placement_exam_marks\",\"placement_exam_marks\",\"placement_exam_marks\",\"placement_exam_marks\",\"placement_exam_marks\",\"placement_exam_marks\",\"placement_exam_marks\",\"placement_exam_marks\",\"placement_exam_marks\",\"placement_exam_marks\",\"placement_exam_marks\",\"placement_exam_marks\",\"placement_exam_marks\",\"placement_exam_marks\",\"placement_exam_marks\",\"placement_exam_marks\",\"placement_exam_marks\",\"placement_exam_marks\",\"placement_exam_marks\",\"placement_exam_marks\",\"placement_exam_marks\",\"placement_exam_marks\",\"placement_exam_marks\",\"placement_exam_marks\",\"placement_exam_marks\",\"placement_exam_marks\",\"placement_exam_marks\",\"placement_exam_marks\",\"placement_exam_marks\",\"placement_exam_marks\",\"placement_exam_marks\",\"placement_exam_marks\",\"placement_exam_marks\",\"placement_exam_marks\",\"placement_exam_marks\",\"placement_exam_marks\",\"placement_exam_marks\",\"placement_exam_marks\",\"placement_exam_marks\",\"placement_exam_marks\",\"placement_exam_marks\",\"placement_exam_marks\",\"placement_exam_marks\",\"placement_exam_marks\",\"placement_exam_marks\",\"placement_exam_marks\",\"placement_exam_marks\",\"placement_exam_marks\",\"placement_exam_marks\",\"placement_exam_marks\",\"placement_exam_marks\",\"placement_exam_marks\",\"placement_exam_marks\",\"placement_exam_marks\",\"placement_exam_marks\",\"placement_exam_marks\",\"placement_exam_marks\",\"placement_exam_marks\",\"placement_exam_marks\",\"placement_exam_marks\",\"placement_exam_marks\",\"placement_exam_marks\",\"placement_exam_marks\",\"placement_exam_marks\",\"placement_exam_marks\",\"placement_exam_marks\",\"placement_exam_marks\",\"placement_exam_marks\",\"placement_exam_marks\",\"placement_exam_marks\",\"placement_exam_marks\",\"placement_exam_marks\",\"placement_exam_marks\",\"placement_exam_marks\",\"placement_exam_marks\",\"placement_exam_marks\",\"placement_exam_marks\",\"placement_exam_marks\",\"placement_exam_marks\",\"placement_exam_marks\",\"placement_exam_marks\",\"placement_exam_marks\",\"placement_exam_marks\",\"placement_exam_marks\",\"placement_exam_marks\",\"placement_exam_marks\",\"placement_exam_marks\",\"placement_exam_marks\",\"placement_exam_marks\",\"placement_exam_marks\",\"placement_exam_marks\",\"placement_exam_marks\",\"placement_exam_marks\",\"placement_exam_marks\",\"placement_exam_marks\",\"placement_exam_marks\",\"placement_exam_marks\",\"placement_exam_marks\",\"placement_exam_marks\",\"placement_exam_marks\",\"placement_exam_marks\",\"placement_exam_marks\",\"placement_exam_marks\",\"placement_exam_marks\",\"placement_exam_marks\",\"placement_exam_marks\",\"placement_exam_marks\",\"placement_exam_marks\",\"placement_exam_marks\",\"placement_exam_marks\",\"placement_exam_marks\",\"placement_exam_marks\",\"placement_exam_marks\",\"placement_exam_marks\",\"placement_exam_marks\",\"placement_exam_marks\",\"placement_exam_marks\",\"placement_exam_marks\",\"placement_exam_marks\",\"placement_exam_marks\",\"placement_exam_marks\",\"placement_exam_marks\",\"placement_exam_marks\",\"placement_exam_marks\",\"placement_exam_marks\",\"placement_exam_marks\",\"placement_exam_marks\",\"placement_exam_marks\",\"placement_exam_marks\",\"placement_exam_marks\",\"placement_exam_marks\",\"placement_exam_marks\",\"placement_exam_marks\",\"placement_exam_marks\",\"placement_exam_marks\",\"placement_exam_marks\",\"placement_exam_marks\",\"placement_exam_marks\",\"placement_exam_marks\",\"placement_exam_marks\",\"placement_exam_marks\",\"placement_exam_marks\",\"placement_exam_marks\",\"placement_exam_marks\",\"placement_exam_marks\",\"placement_exam_marks\",\"placement_exam_marks\",\"placement_exam_marks\",\"placement_exam_marks\",\"placement_exam_marks\",\"placement_exam_marks\",\"placement_exam_marks\",\"placement_exam_marks\",\"placement_exam_marks\",\"placement_exam_marks\",\"placement_exam_marks\",\"placement_exam_marks\",\"placement_exam_marks\",\"placement_exam_marks\",\"placement_exam_marks\",\"placement_exam_marks\",\"placement_exam_marks\",\"placement_exam_marks\",\"placement_exam_marks\",\"placement_exam_marks\",\"placement_exam_marks\",\"placement_exam_marks\",\"placement_exam_marks\",\"placement_exam_marks\",\"placement_exam_marks\",\"placement_exam_marks\",\"placement_exam_marks\",\"placement_exam_marks\",\"placement_exam_marks\",\"placement_exam_marks\",\"placement_exam_marks\",\"placement_exam_marks\",\"placement_exam_marks\",\"placement_exam_marks\",\"placement_exam_marks\",\"placement_exam_marks\",\"placement_exam_marks\",\"placement_exam_marks\",\"placement_exam_marks\",\"placement_exam_marks\",\"placement_exam_marks\",\"placement_exam_marks\",\"placement_exam_marks\",\"placement_exam_marks\",\"placement_exam_marks\",\"placement_exam_marks\",\"placement_exam_marks\",\"placement_exam_marks\",\"placement_exam_marks\",\"placement_exam_marks\",\"placement_exam_marks\",\"placement_exam_marks\",\"placement_exam_marks\",\"placement_exam_marks\",\"placement_exam_marks\",\"placement_exam_marks\",\"placement_exam_marks\",\"placement_exam_marks\",\"placement_exam_marks\",\"placement_exam_marks\",\"placement_exam_marks\",\"placement_exam_marks\",\"placement_exam_marks\",\"placement_exam_marks\",\"placement_exam_marks\",\"placement_exam_marks\",\"placement_exam_marks\",\"placement_exam_marks\",\"placement_exam_marks\",\"placement_exam_marks\",\"placement_exam_marks\",\"placement_exam_marks\",\"placement_exam_marks\",\"placement_exam_marks\",\"placement_exam_marks\",\"placement_exam_marks\",\"placement_exam_marks\",\"placement_exam_marks\",\"placement_exam_marks\",\"placement_exam_marks\",\"placement_exam_marks\",\"placement_exam_marks\",\"placement_exam_marks\",\"placement_exam_marks\",\"placement_exam_marks\",\"placement_exam_marks\",\"placement_exam_marks\",\"placement_exam_marks\",\"placement_exam_marks\",\"placement_exam_marks\",\"placement_exam_marks\",\"placement_exam_marks\",\"placement_exam_marks\",\"placement_exam_marks\",\"placement_exam_marks\",\"placement_exam_marks\",\"placement_exam_marks\",\"placement_exam_marks\",\"placement_exam_marks\",\"placement_exam_marks\",\"placement_exam_marks\",\"placement_exam_marks\",\"placement_exam_marks\"],\"y0\":\" \",\"yaxis\":\"y\",\"type\":\"box\"}],                        {\"template\":{\"data\":{\"histogram2dcontour\":[{\"type\":\"histogram2dcontour\",\"colorbar\":{\"outlinewidth\":0,\"ticks\":\"\"},\"colorscale\":[[0.0,\"#0d0887\"],[0.1111111111111111,\"#46039f\"],[0.2222222222222222,\"#7201a8\"],[0.3333333333333333,\"#9c179e\"],[0.4444444444444444,\"#bd3786\"],[0.5555555555555556,\"#d8576b\"],[0.6666666666666666,\"#ed7953\"],[0.7777777777777778,\"#fb9f3a\"],[0.8888888888888888,\"#fdca26\"],[1.0,\"#f0f921\"]]}],\"choropleth\":[{\"type\":\"choropleth\",\"colorbar\":{\"outlinewidth\":0,\"ticks\":\"\"}}],\"histogram2d\":[{\"type\":\"histogram2d\",\"colorbar\":{\"outlinewidth\":0,\"ticks\":\"\"},\"colorscale\":[[0.0,\"#0d0887\"],[0.1111111111111111,\"#46039f\"],[0.2222222222222222,\"#7201a8\"],[0.3333333333333333,\"#9c179e\"],[0.4444444444444444,\"#bd3786\"],[0.5555555555555556,\"#d8576b\"],[0.6666666666666666,\"#ed7953\"],[0.7777777777777778,\"#fb9f3a\"],[0.8888888888888888,\"#fdca26\"],[1.0,\"#f0f921\"]]}],\"heatmap\":[{\"type\":\"heatmap\",\"colorbar\":{\"outlinewidth\":0,\"ticks\":\"\"},\"colorscale\":[[0.0,\"#0d0887\"],[0.1111111111111111,\"#46039f\"],[0.2222222222222222,\"#7201a8\"],[0.3333333333333333,\"#9c179e\"],[0.4444444444444444,\"#bd3786\"],[0.5555555555555556,\"#d8576b\"],[0.6666666666666666,\"#ed7953\"],[0.7777777777777778,\"#fb9f3a\"],[0.8888888888888888,\"#fdca26\"],[1.0,\"#f0f921\"]]}],\"heatmapgl\":[{\"type\":\"heatmapgl\",\"colorbar\":{\"outlinewidth\":0,\"ticks\":\"\"},\"colorscale\":[[0.0,\"#0d0887\"],[0.1111111111111111,\"#46039f\"],[0.2222222222222222,\"#7201a8\"],[0.3333333333333333,\"#9c179e\"],[0.4444444444444444,\"#bd3786\"],[0.5555555555555556,\"#d8576b\"],[0.6666666666666666,\"#ed7953\"],[0.7777777777777778,\"#fb9f3a\"],[0.8888888888888888,\"#fdca26\"],[1.0,\"#f0f921\"]]}],\"contourcarpet\":[{\"type\":\"contourcarpet\",\"colorbar\":{\"outlinewidth\":0,\"ticks\":\"\"}}],\"contour\":[{\"type\":\"contour\",\"colorbar\":{\"outlinewidth\":0,\"ticks\":\"\"},\"colorscale\":[[0.0,\"#0d0887\"],[0.1111111111111111,\"#46039f\"],[0.2222222222222222,\"#7201a8\"],[0.3333333333333333,\"#9c179e\"],[0.4444444444444444,\"#bd3786\"],[0.5555555555555556,\"#d8576b\"],[0.6666666666666666,\"#ed7953\"],[0.7777777777777778,\"#fb9f3a\"],[0.8888888888888888,\"#fdca26\"],[1.0,\"#f0f921\"]]}],\"surface\":[{\"type\":\"surface\",\"colorbar\":{\"outlinewidth\":0,\"ticks\":\"\"},\"colorscale\":[[0.0,\"#0d0887\"],[0.1111111111111111,\"#46039f\"],[0.2222222222222222,\"#7201a8\"],[0.3333333333333333,\"#9c179e\"],[0.4444444444444444,\"#bd3786\"],[0.5555555555555556,\"#d8576b\"],[0.6666666666666666,\"#ed7953\"],[0.7777777777777778,\"#fb9f3a\"],[0.8888888888888888,\"#fdca26\"],[1.0,\"#f0f921\"]]}],\"mesh3d\":[{\"type\":\"mesh3d\",\"colorbar\":{\"outlinewidth\":0,\"ticks\":\"\"}}],\"scatter\":[{\"fillpattern\":{\"fillmode\":\"overlay\",\"size\":10,\"solidity\":0.2},\"type\":\"scatter\"}],\"parcoords\":[{\"type\":\"parcoords\",\"line\":{\"colorbar\":{\"outlinewidth\":0,\"ticks\":\"\"}}}],\"scatterpolargl\":[{\"type\":\"scatterpolargl\",\"marker\":{\"colorbar\":{\"outlinewidth\":0,\"ticks\":\"\"}}}],\"bar\":[{\"error_x\":{\"color\":\"#2a3f5f\"},\"error_y\":{\"color\":\"#2a3f5f\"},\"marker\":{\"line\":{\"color\":\"#E5ECF6\",\"width\":0.5},\"pattern\":{\"fillmode\":\"overlay\",\"size\":10,\"solidity\":0.2}},\"type\":\"bar\"}],\"scattergeo\":[{\"type\":\"scattergeo\",\"marker\":{\"colorbar\":{\"outlinewidth\":0,\"ticks\":\"\"}}}],\"scatterpolar\":[{\"type\":\"scatterpolar\",\"marker\":{\"colorbar\":{\"outlinewidth\":0,\"ticks\":\"\"}}}],\"histogram\":[{\"marker\":{\"pattern\":{\"fillmode\":\"overlay\",\"size\":10,\"solidity\":0.2}},\"type\":\"histogram\"}],\"scattergl\":[{\"type\":\"scattergl\",\"marker\":{\"colorbar\":{\"outlinewidth\":0,\"ticks\":\"\"}}}],\"scatter3d\":[{\"type\":\"scatter3d\",\"line\":{\"colorbar\":{\"outlinewidth\":0,\"ticks\":\"\"}},\"marker\":{\"colorbar\":{\"outlinewidth\":0,\"ticks\":\"\"}}}],\"scattermapbox\":[{\"type\":\"scattermapbox\",\"marker\":{\"colorbar\":{\"outlinewidth\":0,\"ticks\":\"\"}}}],\"scatterternary\":[{\"type\":\"scatterternary\",\"marker\":{\"colorbar\":{\"outlinewidth\":0,\"ticks\":\"\"}}}],\"scattercarpet\":[{\"type\":\"scattercarpet\",\"marker\":{\"colorbar\":{\"outlinewidth\":0,\"ticks\":\"\"}}}],\"carpet\":[{\"aaxis\":{\"endlinecolor\":\"#2a3f5f\",\"gridcolor\":\"white\",\"linecolor\":\"white\",\"minorgridcolor\":\"white\",\"startlinecolor\":\"#2a3f5f\"},\"baxis\":{\"endlinecolor\":\"#2a3f5f\",\"gridcolor\":\"white\",\"linecolor\":\"white\",\"minorgridcolor\":\"white\",\"startlinecolor\":\"#2a3f5f\"},\"type\":\"carpet\"}],\"table\":[{\"cells\":{\"fill\":{\"color\":\"#EBF0F8\"},\"line\":{\"color\":\"white\"}},\"header\":{\"fill\":{\"color\":\"#C8D4E3\"},\"line\":{\"color\":\"white\"}},\"type\":\"table\"}],\"barpolar\":[{\"marker\":{\"line\":{\"color\":\"#E5ECF6\",\"width\":0.5},\"pattern\":{\"fillmode\":\"overlay\",\"size\":10,\"solidity\":0.2}},\"type\":\"barpolar\"}],\"pie\":[{\"automargin\":true,\"type\":\"pie\"}]},\"layout\":{\"autotypenumbers\":\"strict\",\"colorway\":[\"#636efa\",\"#EF553B\",\"#00cc96\",\"#ab63fa\",\"#FFA15A\",\"#19d3f3\",\"#FF6692\",\"#B6E880\",\"#FF97FF\",\"#FECB52\"],\"font\":{\"color\":\"#2a3f5f\"},\"hovermode\":\"closest\",\"hoverlabel\":{\"align\":\"left\"},\"paper_bgcolor\":\"white\",\"plot_bgcolor\":\"#E5ECF6\",\"polar\":{\"bgcolor\":\"#E5ECF6\",\"angularaxis\":{\"gridcolor\":\"white\",\"linecolor\":\"white\",\"ticks\":\"\"},\"radialaxis\":{\"gridcolor\":\"white\",\"linecolor\":\"white\",\"ticks\":\"\"}},\"ternary\":{\"bgcolor\":\"#E5ECF6\",\"aaxis\":{\"gridcolor\":\"white\",\"linecolor\":\"white\",\"ticks\":\"\"},\"baxis\":{\"gridcolor\":\"white\",\"linecolor\":\"white\",\"ticks\":\"\"},\"caxis\":{\"gridcolor\":\"white\",\"linecolor\":\"white\",\"ticks\":\"\"}},\"coloraxis\":{\"colorbar\":{\"outlinewidth\":0,\"ticks\":\"\"}},\"colorscale\":{\"sequential\":[[0.0,\"#0d0887\"],[0.1111111111111111,\"#46039f\"],[0.2222222222222222,\"#7201a8\"],[0.3333333333333333,\"#9c179e\"],[0.4444444444444444,\"#bd3786\"],[0.5555555555555556,\"#d8576b\"],[0.6666666666666666,\"#ed7953\"],[0.7777777777777778,\"#fb9f3a\"],[0.8888888888888888,\"#fdca26\"],[1.0,\"#f0f921\"]],\"sequentialminus\":[[0.0,\"#0d0887\"],[0.1111111111111111,\"#46039f\"],[0.2222222222222222,\"#7201a8\"],[0.3333333333333333,\"#9c179e\"],[0.4444444444444444,\"#bd3786\"],[0.5555555555555556,\"#d8576b\"],[0.6666666666666666,\"#ed7953\"],[0.7777777777777778,\"#fb9f3a\"],[0.8888888888888888,\"#fdca26\"],[1.0,\"#f0f921\"]],\"diverging\":[[0,\"#8e0152\"],[0.1,\"#c51b7d\"],[0.2,\"#de77ae\"],[0.3,\"#f1b6da\"],[0.4,\"#fde0ef\"],[0.5,\"#f7f7f7\"],[0.6,\"#e6f5d0\"],[0.7,\"#b8e186\"],[0.8,\"#7fbc41\"],[0.9,\"#4d9221\"],[1,\"#276419\"]]},\"xaxis\":{\"gridcolor\":\"white\",\"linecolor\":\"white\",\"ticks\":\"\",\"title\":{\"standoff\":15},\"zerolinecolor\":\"white\",\"automargin\":true,\"zerolinewidth\":2},\"yaxis\":{\"gridcolor\":\"white\",\"linecolor\":\"white\",\"ticks\":\"\",\"title\":{\"standoff\":15},\"zerolinecolor\":\"white\",\"automargin\":true,\"zerolinewidth\":2},\"scene\":{\"xaxis\":{\"backgroundcolor\":\"#E5ECF6\",\"gridcolor\":\"white\",\"linecolor\":\"white\",\"showbackground\":true,\"ticks\":\"\",\"zerolinecolor\":\"white\",\"gridwidth\":2},\"yaxis\":{\"backgroundcolor\":\"#E5ECF6\",\"gridcolor\":\"white\",\"linecolor\":\"white\",\"showbackground\":true,\"ticks\":\"\",\"zerolinecolor\":\"white\",\"gridwidth\":2},\"zaxis\":{\"backgroundcolor\":\"#E5ECF6\",\"gridcolor\":\"white\",\"linecolor\":\"white\",\"showbackground\":true,\"ticks\":\"\",\"zerolinecolor\":\"white\",\"gridwidth\":2}},\"shapedefaults\":{\"line\":{\"color\":\"#2a3f5f\"}},\"annotationdefaults\":{\"arrowcolor\":\"#2a3f5f\",\"arrowhead\":0,\"arrowwidth\":1},\"geo\":{\"bgcolor\":\"white\",\"landcolor\":\"#E5ECF6\",\"subunitcolor\":\"white\",\"showland\":true,\"showlakes\":true,\"lakecolor\":\"white\"},\"title\":{\"x\":0.05},\"mapbox\":{\"style\":\"light\"}}},\"xaxis\":{\"anchor\":\"y\",\"domain\":[0.0,1.0],\"title\":{\"text\":\"value\"}},\"yaxis\":{\"anchor\":\"x\",\"domain\":[0.0,1.0],\"title\":{\"text\":\"variable\"}},\"legend\":{\"tracegroupgap\":0},\"margin\":{\"t\":60},\"boxmode\":\"group\"},                        {\"responsive\": true}                    ).then(function(){\n",
              "                            \n",
              "var gd = document.getElementById('203a8494-f3d1-4f49-8302-53195efbf162');\n",
              "var x = new MutationObserver(function (mutations, observer) {{\n",
              "        var display = window.getComputedStyle(gd).display;\n",
              "        if (!display || display === 'none') {{\n",
              "            console.log([gd, 'removed!']);\n",
              "            Plotly.purge(gd);\n",
              "            observer.disconnect();\n",
              "        }}\n",
              "}});\n",
              "\n",
              "// Listen for the removal of the full notebook cells\n",
              "var notebookContainer = gd.closest('#notebook-container');\n",
              "if (notebookContainer) {{\n",
              "    x.observe(notebookContainer, {childList: true});\n",
              "}}\n",
              "\n",
              "// Listen for the clearing of the current output cell\n",
              "var outputEl = gd.closest('.output');\n",
              "if (outputEl) {{\n",
              "    x.observe(outputEl, {childList: true});\n",
              "}}\n",
              "\n",
              "                        })                };                            </script>        </div>\n",
              "</body>\n",
              "</html>"
            ]
          },
          "metadata": {}
        }
      ]
    },
    {
      "cell_type": "code",
      "source": [
        "#clapping (percentile)\n",
        "df['placement_exam_marks']=np.where(df['placement_exam_marks']<lower_limit2,lower_limit2,np.where(df['placement_exam_marks']>upper_limit2,upper_limit,df['placement_exam_marks']))"
      ],
      "metadata": {
        "id": "nm1suInxgA7C"
      },
      "execution_count": 54,
      "outputs": []
    },
    {
      "cell_type": "code",
      "source": [
        "px.box(df,x='placement_exam_marks')"
      ],
      "metadata": {
        "id": "Tvsq1AMThsbb",
        "outputId": "f0b5bc7c-1ee7-4fa0-f109-290f690b65c2",
        "colab": {
          "base_uri": "https://localhost:8080/",
          "height": 542
        }
      },
      "execution_count": 55,
      "outputs": [
        {
          "output_type": "display_data",
          "data": {
            "text/html": [
              "<html>\n",
              "<head><meta charset=\"utf-8\" /></head>\n",
              "<body>\n",
              "    <div>            <script src=\"https://cdnjs.cloudflare.com/ajax/libs/mathjax/2.7.5/MathJax.js?config=TeX-AMS-MML_SVG\"></script><script type=\"text/javascript\">if (window.MathJax && window.MathJax.Hub && window.MathJax.Hub.Config) {window.MathJax.Hub.Config({SVG: {font: \"STIX-Web\"}});}</script>                <script type=\"text/javascript\">window.PlotlyConfig = {MathJaxConfig: 'local'};</script>\n",
              "        <script charset=\"utf-8\" src=\"https://cdn.plot.ly/plotly-2.24.1.min.js\"></script>                <div id=\"8d3a7774-7356-4e91-bc72-d6a7ff14e366\" class=\"plotly-graph-div\" style=\"height:525px; width:100%;\"></div>            <script type=\"text/javascript\">                                    window.PLOTLYENV=window.PLOTLYENV || {};                                    if (document.getElementById(\"8d3a7774-7356-4e91-bc72-d6a7ff14e366\")) {                    Plotly.newPlot(                        \"8d3a7774-7356-4e91-bc72-d6a7ff14e366\",                        [{\"alignmentgroup\":\"True\",\"hovertemplate\":\"placement_exam_marks=%{x}\\u003cextra\\u003e\\u003c\\u002fextra\\u003e\",\"legendgroup\":\"\",\"marker\":{\"color\":\"#636efa\"},\"name\":\"\",\"notched\":false,\"offsetgroup\":\"\",\"orientation\":\"h\",\"showlegend\":false,\"x\":[26.0,38.0,40.0,8.0,17.0,23.0,11.0,39.0,38.0,8.600000000000001,16.0,7.0,16.0,26.0,43.0,21.0,19.0,22.0,27.0,29.0,47.0,33.0,54.0,11.0,11.0,58.0,8.0,46.0,19.0,15.0,16.0,44.0,11.0,27.0,9.0,12.0,16.0,9.0,20.0,17.0,86.0,38.0,71.0,63.0,55.0,10.0,15.0,46.0,42.0,28.0,18.0,28.0,27.0,33.0,36.0,15.0,15.0,24.0,43.0,32.0,31.0,86.0,22.0,26.0,52.0,28.0,31.0,18.0,30.0,44.0,17.0,20.0,19.0,12.0,4.0,56.0,12.0,28.0,12.0,19.0,46.0,44.0,12.0,20.0,35.0,28.0,22.0,19.0,39.0,17.0,15.0,6.0,63.0,30.0,21.0,35.0,28.0,52.0,76.0,23.0,46.0,26.0,22.0,18.0,47.0,12.0,22.0,9.0,10.0,21.0,31.0,33.0,15.0,10.0,77.0,37.0,21.0,4.0,54.0,39.0,46.0,27.0,51.0,52.0,30.0,55.0,37.0,23.0,25.0,39.0,53.0,19.0,18.0,64.0,8.600000000000001,47.0,15.0,53.0,8.0,5.0,22.0,18.0,41.0,33.0,17.0,28.0,22.0,11.0,49.0,58.0,22.0,16.0,56.0,10.0,54.0,12.0,34.0,81.0,50.0,22.0,10.0,52.0,8.600000000000001,42.0,34.0,7.0,59.0,48.0,37.0,16.0,37.0,38.0,43.0,48.0,21.0,26.0,30.0,40.0,39.0,45.0,29.0,42.0,76.0,18.0,33.0,31.0,63.0,10.0,55.0,9.0,23.0,8.0,38.0,14.0,33.0,44.0,34.0,27.0,44.0,25.0,22.0,15.0,48.0,52.0,5.0,47.0,25.0,16.0,12.0,35.0,19.0,14.0,57.0,19.0,60.0,22.0,36.0,16.0,52.0,4.0,16.0,24.0,78.0,11.0,19.0,13.0,21.0,19.0,15.0,13.0,14.0,35.0,34.0,41.0,36.0,52.0,36.0,52.0,78.0,16.0,38.0,18.0,44.0,55.0,44.0,62.0,26.0,49.0,44.0,52.0,13.0,45.0,54.0,76.0,64.0,10.0,48.0,76.0,6.0,10.0,57.0,11.0,10.0,50.0,28.0,57.0,50.0,65.0,21.0,16.0,16.0,21.0,56.0,9.0,4.0,39.0,46.0,15.0,17.0,40.0,55.0,22.0,44.0,87.0,62.0,57.0,58.0,24.0,21.0,9.0,87.0,14.0,41.0,11.0,17.0,64.0,19.0,32.0,48.0,15.0,52.0,5.0,34.0,56.0,33.0,32.0,19.0,28.0,47.0,31.0,50.0,87.0,55.0,18.0,14.0,37.0,38.0,19.0,60.0,13.0,51.0,47.0,38.0,38.0,8.600000000000001,13.0,13.0,56.0,28.0,35.0,16.0,22.0,39.0,20.0,19.0,17.0,9.0,68.0,46.0,18.0,51.0,8.0,23.0,70.0,26.0,13.0,33.0,34.0,17.0,16.0,70.0,10.0,4.0,28.0,23.0,18.0,50.0,42.0,52.0,40.0,33.0,37.0,21.0,13.0,9.0,25.0,42.0,30.0,32.0,36.0,79.0,29.0,8.0,41.0,41.0,31.0,60.0,47.0,25.0,65.0,31.0,53.0,61.0,4.0,33.0,21.0,43.0,7.0,23.0,16.0,16.0,66.0,35.0,18.0,18.0,11.0,10.0,63.0,48.0,43.0,33.0,22.0,34.0,83.0,35.0,32.0,17.0,20.0,24.0,24.0,37.0,66.0,45.0,28.0,36.0,46.0,55.0,19.0,29.0,46.0,49.0,46.0,19.0,26.0,30.0,15.0,21.0,39.0,46.0,55.0,19.0,21.0,26.0,11.0,5.0,37.0,19.0,22.0,7.0,10.0,22.0,15.0,48.0,77.0,14.0,10.0,23.0,17.0,31.0,37.0,31.0,31.0,42.0,24.0,53.0,43.0,12.0,20.0,47.0,79.0,4.0,12.0,9.0,49.0,37.0,49.0,16.0,7.0,70.0,46.0,28.0,18.0,38.0,25.0,25.0,10.0,34.0,18.0,36.0,33.0,37.0,32.0,8.0,25.0,18.0,44.0,65.0,13.0,43.0,50.0,32.0,49.0,21.0,18.0,51.0,64.0,35.0,37.0,14.0,31.0,24.0,31.0,50.0,10.0,25.0,18.0,8.0,75.0,14.0,48.0,34.0,50.0,9.0,46.0,15.0,44.0,28.0,38.0,22.0,8.0,20.0,37.0,63.0,19.0,21.0,17.0,34.0,37.0,38.0,34.0,18.0,81.0,20.0,15.0,45.0,62.0,48.0,9.0,27.0,14.0,63.0,18.0,22.0,16.0,14.0,17.0,18.0,39.0,30.0,79.0,38.0,66.0,24.0,17.0,9.0,32.0,15.0,25.0,14.0,58.0,67.0,58.0,23.0,14.0,34.0,54.0,25.0,36.0,4.0,30.0,18.0,66.0,37.0,54.0,33.0,16.0,8.0,24.0,47.0,13.0,63.0,25.0,27.0,68.0,60.0,49.0,15.0,14.0,25.0,16.0,22.0,35.0,27.0,62.0,64.0,7.0,25.0,32.0,27.0,55.0,38.0,17.0,32.0,54.0,40.0,42.0,24.0,49.0,16.0,4.0,61.0,19.0,60.0,55.0,41.0,12.0,33.0,22.0,22.0,43.0,18.0,28.0,19.0,14.0,80.0,30.0,19.0,30.0,9.0,11.0,8.600000000000001,16.0,13.0,39.0,39.0,10.0,43.0,74.0,74.0,43.0,61.0,22.0,39.0,28.0,29.0,36.0,45.0,4.0,24.0,65.0,27.0,39.0,43.0,48.0,76.0,34.0,72.0,23.0,9.0,37.0,26.0,47.0,15.0,31.0,34.0,10.0,27.0,54.0,47.0,8.0,17.0,31.0,13.0,20.0,31.0,20.0,21.0,24.0,34.0,35.0,15.0,10.0,17.0,69.0,67.0,87.0,62.0,23.0,36.0,67.0,26.0,14.0,43.0,42.0,51.0,11.0,20.0,49.0,16.0,20.0,16.0,4.0,39.0,41.0,45.0,35.0,13.0,11.0,50.0,42.0,6.0,30.0,8.0,24.0,19.0,17.0,19.0,21.0,36.0,26.0,43.0,11.0,29.0,10.0,21.0,10.0,25.0,30.0,23.0,58.0,8.600000000000001,5.0,55.0,10.0,50.0,39.0,24.0,12.0,17.0,39.0,74.0,66.0,29.0,15.0,58.0,13.0,25.0,18.0,9.0,61.0,8.0,20.0,35.0,42.0,17.0,26.0,30.0,15.0,29.0,22.0,48.0,6.0,14.0,59.0,70.0,28.0,34.0,31.0,63.0,18.0,67.0,86.0,26.0,79.0,69.0,24.0,30.0,23.0,34.0,32.0,31.0,49.0,41.0,24.0,19.0,29.0,10.0,9.0,19.0,74.0,47.0,12.0,32.0,9.0,17.0,9.0,60.0,20.0,56.0,53.0,28.0,14.0,16.0,20.0,81.0,13.0,15.0,19.0,31.0,22.0,21.0,14.0,23.0,52.0,17.0,43.0,23.0,26.0,62.0,10.0,16.0,9.0,32.0,18.0,27.0,23.0,32.0,21.0,63.0,37.0,28.0,55.0,59.0,23.0,52.0,65.0,33.0,24.0,32.0,24.0,22.0,27.0,14.0,60.0,18.0,36.0,8.600000000000001,54.0,27.0,8.0,37.0,17.0,43.0,22.0,68.0,9.0,6.0,64.0,26.0,22.0,21.0,28.0,37.0,4.0,5.0,16.0,35.0,26.0,36.0,58.0,15.0,60.0,54.0,42.0,24.0,16.0,20.0,9.0,34.0,31.0,13.0,42.0,35.0,6.0,4.0,16.0,17.0,17.0,23.0,38.0,30.0,26.0,18.0,32.0,16.0,35.0,38.0,35.0,18.0,8.0,19.0,50.0,42.0,28.0,32.0,29.0,34.0,44.0,17.0,11.0,29.0,36.0,38.0,7.0,25.0,34.0,11.0,8.600000000000001,9.0,21.0,52.0,38.0,23.0,10.0,23.0,56.0,14.0,52.0,32.0,25.0,7.0,33.0,71.0,9.0,9.0,37.0,20.0,34.0,24.0,41.0,38.0,8.0,6.0,4.0,21.0,26.0,12.0,70.0,15.0,11.0,33.0,48.0,25.0,44.0,39.0,26.0,21.0,27.0,11.0,27.0,10.0,9.0,46.0,8.0,54.0,52.0,72.0,59.0,26.0,41.0,42.0,18.0,18.0,37.0,38.0,25.0,48.0,49.0,12.0,13.0,27.0,37.0,22.0,11.0,16.0,26.0,19.0,62.0,37.0,31.0,33.0,57.0,12.0,21.0,63.0,44.0,65.0,34.0,46.0,10.0],\"x0\":\" \",\"xaxis\":\"x\",\"y0\":\" \",\"yaxis\":\"y\",\"type\":\"box\"}],                        {\"template\":{\"data\":{\"histogram2dcontour\":[{\"type\":\"histogram2dcontour\",\"colorbar\":{\"outlinewidth\":0,\"ticks\":\"\"},\"colorscale\":[[0.0,\"#0d0887\"],[0.1111111111111111,\"#46039f\"],[0.2222222222222222,\"#7201a8\"],[0.3333333333333333,\"#9c179e\"],[0.4444444444444444,\"#bd3786\"],[0.5555555555555556,\"#d8576b\"],[0.6666666666666666,\"#ed7953\"],[0.7777777777777778,\"#fb9f3a\"],[0.8888888888888888,\"#fdca26\"],[1.0,\"#f0f921\"]]}],\"choropleth\":[{\"type\":\"choropleth\",\"colorbar\":{\"outlinewidth\":0,\"ticks\":\"\"}}],\"histogram2d\":[{\"type\":\"histogram2d\",\"colorbar\":{\"outlinewidth\":0,\"ticks\":\"\"},\"colorscale\":[[0.0,\"#0d0887\"],[0.1111111111111111,\"#46039f\"],[0.2222222222222222,\"#7201a8\"],[0.3333333333333333,\"#9c179e\"],[0.4444444444444444,\"#bd3786\"],[0.5555555555555556,\"#d8576b\"],[0.6666666666666666,\"#ed7953\"],[0.7777777777777778,\"#fb9f3a\"],[0.8888888888888888,\"#fdca26\"],[1.0,\"#f0f921\"]]}],\"heatmap\":[{\"type\":\"heatmap\",\"colorbar\":{\"outlinewidth\":0,\"ticks\":\"\"},\"colorscale\":[[0.0,\"#0d0887\"],[0.1111111111111111,\"#46039f\"],[0.2222222222222222,\"#7201a8\"],[0.3333333333333333,\"#9c179e\"],[0.4444444444444444,\"#bd3786\"],[0.5555555555555556,\"#d8576b\"],[0.6666666666666666,\"#ed7953\"],[0.7777777777777778,\"#fb9f3a\"],[0.8888888888888888,\"#fdca26\"],[1.0,\"#f0f921\"]]}],\"heatmapgl\":[{\"type\":\"heatmapgl\",\"colorbar\":{\"outlinewidth\":0,\"ticks\":\"\"},\"colorscale\":[[0.0,\"#0d0887\"],[0.1111111111111111,\"#46039f\"],[0.2222222222222222,\"#7201a8\"],[0.3333333333333333,\"#9c179e\"],[0.4444444444444444,\"#bd3786\"],[0.5555555555555556,\"#d8576b\"],[0.6666666666666666,\"#ed7953\"],[0.7777777777777778,\"#fb9f3a\"],[0.8888888888888888,\"#fdca26\"],[1.0,\"#f0f921\"]]}],\"contourcarpet\":[{\"type\":\"contourcarpet\",\"colorbar\":{\"outlinewidth\":0,\"ticks\":\"\"}}],\"contour\":[{\"type\":\"contour\",\"colorbar\":{\"outlinewidth\":0,\"ticks\":\"\"},\"colorscale\":[[0.0,\"#0d0887\"],[0.1111111111111111,\"#46039f\"],[0.2222222222222222,\"#7201a8\"],[0.3333333333333333,\"#9c179e\"],[0.4444444444444444,\"#bd3786\"],[0.5555555555555556,\"#d8576b\"],[0.6666666666666666,\"#ed7953\"],[0.7777777777777778,\"#fb9f3a\"],[0.8888888888888888,\"#fdca26\"],[1.0,\"#f0f921\"]]}],\"surface\":[{\"type\":\"surface\",\"colorbar\":{\"outlinewidth\":0,\"ticks\":\"\"},\"colorscale\":[[0.0,\"#0d0887\"],[0.1111111111111111,\"#46039f\"],[0.2222222222222222,\"#7201a8\"],[0.3333333333333333,\"#9c179e\"],[0.4444444444444444,\"#bd3786\"],[0.5555555555555556,\"#d8576b\"],[0.6666666666666666,\"#ed7953\"],[0.7777777777777778,\"#fb9f3a\"],[0.8888888888888888,\"#fdca26\"],[1.0,\"#f0f921\"]]}],\"mesh3d\":[{\"type\":\"mesh3d\",\"colorbar\":{\"outlinewidth\":0,\"ticks\":\"\"}}],\"scatter\":[{\"fillpattern\":{\"fillmode\":\"overlay\",\"size\":10,\"solidity\":0.2},\"type\":\"scatter\"}],\"parcoords\":[{\"type\":\"parcoords\",\"line\":{\"colorbar\":{\"outlinewidth\":0,\"ticks\":\"\"}}}],\"scatterpolargl\":[{\"type\":\"scatterpolargl\",\"marker\":{\"colorbar\":{\"outlinewidth\":0,\"ticks\":\"\"}}}],\"bar\":[{\"error_x\":{\"color\":\"#2a3f5f\"},\"error_y\":{\"color\":\"#2a3f5f\"},\"marker\":{\"line\":{\"color\":\"#E5ECF6\",\"width\":0.5},\"pattern\":{\"fillmode\":\"overlay\",\"size\":10,\"solidity\":0.2}},\"type\":\"bar\"}],\"scattergeo\":[{\"type\":\"scattergeo\",\"marker\":{\"colorbar\":{\"outlinewidth\":0,\"ticks\":\"\"}}}],\"scatterpolar\":[{\"type\":\"scatterpolar\",\"marker\":{\"colorbar\":{\"outlinewidth\":0,\"ticks\":\"\"}}}],\"histogram\":[{\"marker\":{\"pattern\":{\"fillmode\":\"overlay\",\"size\":10,\"solidity\":0.2}},\"type\":\"histogram\"}],\"scattergl\":[{\"type\":\"scattergl\",\"marker\":{\"colorbar\":{\"outlinewidth\":0,\"ticks\":\"\"}}}],\"scatter3d\":[{\"type\":\"scatter3d\",\"line\":{\"colorbar\":{\"outlinewidth\":0,\"ticks\":\"\"}},\"marker\":{\"colorbar\":{\"outlinewidth\":0,\"ticks\":\"\"}}}],\"scattermapbox\":[{\"type\":\"scattermapbox\",\"marker\":{\"colorbar\":{\"outlinewidth\":0,\"ticks\":\"\"}}}],\"scatterternary\":[{\"type\":\"scatterternary\",\"marker\":{\"colorbar\":{\"outlinewidth\":0,\"ticks\":\"\"}}}],\"scattercarpet\":[{\"type\":\"scattercarpet\",\"marker\":{\"colorbar\":{\"outlinewidth\":0,\"ticks\":\"\"}}}],\"carpet\":[{\"aaxis\":{\"endlinecolor\":\"#2a3f5f\",\"gridcolor\":\"white\",\"linecolor\":\"white\",\"minorgridcolor\":\"white\",\"startlinecolor\":\"#2a3f5f\"},\"baxis\":{\"endlinecolor\":\"#2a3f5f\",\"gridcolor\":\"white\",\"linecolor\":\"white\",\"minorgridcolor\":\"white\",\"startlinecolor\":\"#2a3f5f\"},\"type\":\"carpet\"}],\"table\":[{\"cells\":{\"fill\":{\"color\":\"#EBF0F8\"},\"line\":{\"color\":\"white\"}},\"header\":{\"fill\":{\"color\":\"#C8D4E3\"},\"line\":{\"color\":\"white\"}},\"type\":\"table\"}],\"barpolar\":[{\"marker\":{\"line\":{\"color\":\"#E5ECF6\",\"width\":0.5},\"pattern\":{\"fillmode\":\"overlay\",\"size\":10,\"solidity\":0.2}},\"type\":\"barpolar\"}],\"pie\":[{\"automargin\":true,\"type\":\"pie\"}]},\"layout\":{\"autotypenumbers\":\"strict\",\"colorway\":[\"#636efa\",\"#EF553B\",\"#00cc96\",\"#ab63fa\",\"#FFA15A\",\"#19d3f3\",\"#FF6692\",\"#B6E880\",\"#FF97FF\",\"#FECB52\"],\"font\":{\"color\":\"#2a3f5f\"},\"hovermode\":\"closest\",\"hoverlabel\":{\"align\":\"left\"},\"paper_bgcolor\":\"white\",\"plot_bgcolor\":\"#E5ECF6\",\"polar\":{\"bgcolor\":\"#E5ECF6\",\"angularaxis\":{\"gridcolor\":\"white\",\"linecolor\":\"white\",\"ticks\":\"\"},\"radialaxis\":{\"gridcolor\":\"white\",\"linecolor\":\"white\",\"ticks\":\"\"}},\"ternary\":{\"bgcolor\":\"#E5ECF6\",\"aaxis\":{\"gridcolor\":\"white\",\"linecolor\":\"white\",\"ticks\":\"\"},\"baxis\":{\"gridcolor\":\"white\",\"linecolor\":\"white\",\"ticks\":\"\"},\"caxis\":{\"gridcolor\":\"white\",\"linecolor\":\"white\",\"ticks\":\"\"}},\"coloraxis\":{\"colorbar\":{\"outlinewidth\":0,\"ticks\":\"\"}},\"colorscale\":{\"sequential\":[[0.0,\"#0d0887\"],[0.1111111111111111,\"#46039f\"],[0.2222222222222222,\"#7201a8\"],[0.3333333333333333,\"#9c179e\"],[0.4444444444444444,\"#bd3786\"],[0.5555555555555556,\"#d8576b\"],[0.6666666666666666,\"#ed7953\"],[0.7777777777777778,\"#fb9f3a\"],[0.8888888888888888,\"#fdca26\"],[1.0,\"#f0f921\"]],\"sequentialminus\":[[0.0,\"#0d0887\"],[0.1111111111111111,\"#46039f\"],[0.2222222222222222,\"#7201a8\"],[0.3333333333333333,\"#9c179e\"],[0.4444444444444444,\"#bd3786\"],[0.5555555555555556,\"#d8576b\"],[0.6666666666666666,\"#ed7953\"],[0.7777777777777778,\"#fb9f3a\"],[0.8888888888888888,\"#fdca26\"],[1.0,\"#f0f921\"]],\"diverging\":[[0,\"#8e0152\"],[0.1,\"#c51b7d\"],[0.2,\"#de77ae\"],[0.3,\"#f1b6da\"],[0.4,\"#fde0ef\"],[0.5,\"#f7f7f7\"],[0.6,\"#e6f5d0\"],[0.7,\"#b8e186\"],[0.8,\"#7fbc41\"],[0.9,\"#4d9221\"],[1,\"#276419\"]]},\"xaxis\":{\"gridcolor\":\"white\",\"linecolor\":\"white\",\"ticks\":\"\",\"title\":{\"standoff\":15},\"zerolinecolor\":\"white\",\"automargin\":true,\"zerolinewidth\":2},\"yaxis\":{\"gridcolor\":\"white\",\"linecolor\":\"white\",\"ticks\":\"\",\"title\":{\"standoff\":15},\"zerolinecolor\":\"white\",\"automargin\":true,\"zerolinewidth\":2},\"scene\":{\"xaxis\":{\"backgroundcolor\":\"#E5ECF6\",\"gridcolor\":\"white\",\"linecolor\":\"white\",\"showbackground\":true,\"ticks\":\"\",\"zerolinecolor\":\"white\",\"gridwidth\":2},\"yaxis\":{\"backgroundcolor\":\"#E5ECF6\",\"gridcolor\":\"white\",\"linecolor\":\"white\",\"showbackground\":true,\"ticks\":\"\",\"zerolinecolor\":\"white\",\"gridwidth\":2},\"zaxis\":{\"backgroundcolor\":\"#E5ECF6\",\"gridcolor\":\"white\",\"linecolor\":\"white\",\"showbackground\":true,\"ticks\":\"\",\"zerolinecolor\":\"white\",\"gridwidth\":2}},\"shapedefaults\":{\"line\":{\"color\":\"#2a3f5f\"}},\"annotationdefaults\":{\"arrowcolor\":\"#2a3f5f\",\"arrowhead\":0,\"arrowwidth\":1},\"geo\":{\"bgcolor\":\"white\",\"landcolor\":\"#E5ECF6\",\"subunitcolor\":\"white\",\"showland\":true,\"showlakes\":true,\"lakecolor\":\"white\"},\"title\":{\"x\":0.05},\"mapbox\":{\"style\":\"light\"}}},\"xaxis\":{\"anchor\":\"y\",\"domain\":[0.0,1.0],\"title\":{\"text\":\"placement_exam_marks\"}},\"yaxis\":{\"anchor\":\"x\",\"domain\":[0.0,1.0]},\"legend\":{\"tracegroupgap\":0},\"margin\":{\"t\":60},\"boxmode\":\"group\"},                        {\"responsive\": true}                    ).then(function(){\n",
              "                            \n",
              "var gd = document.getElementById('8d3a7774-7356-4e91-bc72-d6a7ff14e366');\n",
              "var x = new MutationObserver(function (mutations, observer) {{\n",
              "        var display = window.getComputedStyle(gd).display;\n",
              "        if (!display || display === 'none') {{\n",
              "            console.log([gd, 'removed!']);\n",
              "            Plotly.purge(gd);\n",
              "            observer.disconnect();\n",
              "        }}\n",
              "}});\n",
              "\n",
              "// Listen for the removal of the full notebook cells\n",
              "var notebookContainer = gd.closest('#notebook-container');\n",
              "if (notebookContainer) {{\n",
              "    x.observe(notebookContainer, {childList: true});\n",
              "}}\n",
              "\n",
              "// Listen for the clearing of the current output cell\n",
              "var outputEl = gd.closest('.output');\n",
              "if (outputEl) {{\n",
              "    x.observe(outputEl, {childList: true});\n",
              "}}\n",
              "\n",
              "                        })                };                            </script>        </div>\n",
              "</body>\n",
              "</html>"
            ]
          },
          "metadata": {}
        }
      ]
    },
    {
      "cell_type": "markdown",
      "source": [
        "Z-score"
      ],
      "metadata": {
        "id": "pr8nFZc9idaC"
      }
    },
    {
      "cell_type": "code",
      "source": [
        "1) Z-Score (Apply only for uniform data/guassian data)\n",
        "upper_limit=df['coloumn'].mean()+3*df['coloumn'].std()\n",
        "lower_limit=df['coloumn'].mean()-3*df['coloumn'].std()\n",
        "                          # or\n",
        "z_score=df['coloum']-df['column'].mean()/df['column']\n",
        "\n",
        "     or\n",
        "\n",
        "Trimming for Z-Score z_score between -1 and +1 otherwise all are outliers\n",
        "new_df = df[(df['z_score'] < 3) & (df['z_score'] > -3)]\n",
        "\n"
      ],
      "metadata": {
        "id": "cho_n61jh6BA"
      },
      "execution_count": null,
      "outputs": []
    }
  ]
}